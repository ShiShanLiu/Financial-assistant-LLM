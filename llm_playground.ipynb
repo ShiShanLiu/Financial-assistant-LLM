{
 "cells": [
  {
   "cell_type": "markdown",
   "metadata": {},
   "source": [
    "# Langchain & llama_index 練習場\n",
    "**目的**\n",
    "- 藉由各種小問題來嘗試與熟悉Langchain與llama_index的功能。\n",
    "- 主要是想要藉由llm來找出股票代碼或是金融報表中的資訊。\n",
    "- 使用模型: ChatGroq (llama3-70b-8192)"
   ]
  },
  {
   "cell_type": "code",
   "execution_count": 28,
   "metadata": {},
   "outputs": [],
   "source": [
    "from langchain.tools import BaseTool, StructuredTool, tool\n",
    "from langchain.agents import Tool\n",
    "from langchain_groq import ChatGroq\n",
    "from langchain_core.prompts import ChatPromptTemplate, MessagesPlaceholder\n",
    "import os\n",
    "import pandas as pd\n",
    "import numpy as np\n",
    "from langchain_experimental.agents.agent_toolkits import create_csv_agent, create_pandas_dataframe_agent\n",
    "from langchain.agents import create_tool_calling_agent, AgentExecutor, create_react_agent\n",
    "from dotenv import load_dotenv\n",
    "# from langchain_openai import ChatOpenAI\n",
    "from langchain import hub\n",
    "from llama_index.experimental.query_engine import PandasQueryEngine\n",
    "from langchain_community.vectorstores import Chroma\n",
    "from IPython.display import Markdown, display\n",
    "from langchain_core.messages import HumanMessage, ToolMessage\n",
    "from langchain_core.output_parsers import StrOutputParser\n",
    "from operator import itemgetter\n",
    "from langchain_core.runnables import RunnablePassthrough, RunnableLambda, chain\n",
    "from llm_search import duck_search\n",
    "from langchain.agents import initialize_agent\n",
    "from langchain.chains.conversation.memory import ConversationBufferWindowMemory\n",
    "from langchain_core.pydantic_v1 import BaseModel, Field\n",
    "from bs4 import BeautifulSoup\n",
    "import requests"
   ]
  },
  {
   "cell_type": "code",
   "execution_count": 29,
   "metadata": {},
   "outputs": [
    {
     "data": {
      "text/plain": [
       "True"
      ]
     },
     "execution_count": 29,
     "metadata": {},
     "output_type": "execute_result"
    }
   ],
   "source": [
    "load_dotenv() # 讀取.env檔案內的APIs"
   ]
  },
  {
   "cell_type": "code",
   "execution_count": 30,
   "metadata": {},
   "outputs": [],
   "source": [
    "\"\"\"建立llm，並且同時輸入測試用的資料\"\"\"\n",
    "# LLM & Parser\n",
    "groq_llm = ChatGroq(temperature=0, model=\"llama3-70b-8192\")\n",
    "parser = StrOutputParser()\n",
    "# Data\n",
    "testStocks = [\"聯電\",\"台積電\",\"華邦電\", \"台新金\"]\n",
    "# stock_code_path = os.path.join(\"stocknumbers\", \"TWstockNums.csv\")\n",
    "# stock_code_df = pd.read_csv(stock_code_path)\n",
    "# stock_code_df.head(3)"
   ]
  },
  {
   "cell_type": "code",
   "execution_count": 31,
   "metadata": {},
   "outputs": [],
   "source": [
    "# 季度損益表資料\n",
    "import yfinance as yf\n",
    "stock = yf.Ticker(\"2303.tw\")\n",
    "df = stock.quarterly_incomestmt"
   ]
  },
  {
   "cell_type": "markdown",
   "metadata": {},
   "source": [
    "### llm 基本使用"
   ]
  },
  {
   "cell_type": "code",
   "execution_count": null,
   "metadata": {},
   "outputs": [
    {
     "data": {
      "text/plain": [
       "'Why did the bear go to the doctor?\\n\\nBecause it had a grizzly cough!'"
      ]
     },
     "execution_count": 153,
     "metadata": {},
     "output_type": "execute_result"
    }
   ],
   "source": [
    "\"\"\"Langchain 官方基本教學，如何使用chatprompttemplate來建立prompt\"\"\"\n",
    "prompt = ChatPromptTemplate.from_template(\"tell me a joke about {topic}\")\n",
    "chain = prompt | groq_llm | StrOutputParser()\n",
    "chain.invoke({\"topic\": \"bear\"})"
   ]
  },
  {
   "cell_type": "markdown",
   "metadata": {},
   "source": [
    "### basic Tool calling\n",
    "**目的**\n",
    "- 整理tool calling的建立方式"
   ]
  },
  {
   "cell_type": "code",
   "execution_count": 21,
   "metadata": {},
   "outputs": [],
   "source": [
    "query = \"3加5是多少? 然後3減5是多少?\""
   ]
  },
  {
   "cell_type": "code",
   "execution_count": 22,
   "metadata": {},
   "outputs": [],
   "source": [
    "\"\"\"第一種: 使用@tool直接快速建立一個tool\"\"\"\n",
    "@tool\n",
    "def plus(a: int, b:int):\n",
    "    \"\"\"將a與b相加\"\"\"\n",
    "    return a + b\n",
    "\n",
    "@tool\n",
    "def minus(a:int, b:int):\n",
    "    \"\"\"將a與b相減\"\"\"\n",
    "    return a - b\n",
    "\n",
    "tools = [plus, minus]"
   ]
  },
  {
   "cell_type": "code",
   "execution_count": 23,
   "metadata": {},
   "outputs": [
    {
     "data": {
      "text/plain": [
       "[{'name': 'plus',\n",
       "  'args': {'a': 3, 'b': 5},\n",
       "  'id': 'call_99mk',\n",
       "  'type': 'tool_call'},\n",
       " {'name': 'minus',\n",
       "  'args': {'a': 3, 'b': 5},\n",
       "  'id': 'call_8w4r',\n",
       "  'type': 'tool_call'}]"
      ]
     },
     "execution_count": 23,
     "metadata": {},
     "output_type": "execute_result"
    }
   ],
   "source": [
    "groq_tools = groq_llm.bind_tools(tools)\n",
    "groq_tools.invoke(query).tool_calls"
   ]
  },
  {
   "cell_type": "code",
   "execution_count": 24,
   "metadata": {},
   "outputs": [],
   "source": [
    "\"\"\"第二種: 使用class\"\"\"\n",
    "class add(BaseModel):\n",
    "    \"\"\"將a與b相加\"\"\"\n",
    "\n",
    "    a: int = Field(..., description=\"First integer\")\n",
    "    b: int = Field(..., description=\"Second integer\")\n",
    "\n",
    "\n",
    "class minus(BaseModel):\n",
    "    \"\"\"將a與b相減\"\"\"\n",
    "\n",
    "    a: int = Field(..., description=\"First integer\")\n",
    "    b: int = Field(..., description=\"Second integer\")\n",
    "\n",
    "tools = [add, minus]"
   ]
  },
  {
   "cell_type": "code",
   "execution_count": 25,
   "metadata": {},
   "outputs": [
    {
     "data": {
      "text/plain": [
       "[{'name': 'add',\n",
       "  'args': {'a': 3, 'b': 5},\n",
       "  'id': 'call_hfn9',\n",
       "  'type': 'tool_call'},\n",
       " {'name': 'minus',\n",
       "  'args': {'a': 3, 'b': 5},\n",
       "  'id': 'call_ejxv',\n",
       "  'type': 'tool_call'}]"
      ]
     },
     "execution_count": 25,
     "metadata": {},
     "output_type": "execute_result"
    }
   ],
   "source": [
    "groq_tools = groq_llm.bind_tools(tools)\n",
    "groq_tools.invoke(query).tool_calls"
   ]
  },
  {
   "cell_type": "code",
   "execution_count": 26,
   "metadata": {},
   "outputs": [],
   "source": [
    "\"\"\"第三種: 綜合使用class (設定args_schema) 與 @tool\"\"\"\n",
    "# Define input schema\n",
    "class numberInput(BaseModel):\n",
    "    a: int= Field(description=\"first integer\")\n",
    "    b: int= Field(description=\"second integer\")\n",
    "@tool(args_schema=numberInput)\n",
    "def plus(a: int, b:int):\n",
    "    \"\"\"useful for adding two numbers together\"\"\"\n",
    "    c = a + b\n",
    "    return f\"{a} + {b} is {c}\"\n",
    "\n",
    "@tool(args_schema=numberInput)\n",
    "def minus(a: int, b:int):\n",
    "    \"\"\"useful for two numbers minus each other\"\"\"\n",
    "    c = a - b\n",
    "    return f\"{a} - {b} is {c}\"\n",
    "\n",
    "tools = [plus, minus]"
   ]
  },
  {
   "cell_type": "code",
   "execution_count": 27,
   "metadata": {},
   "outputs": [
    {
     "data": {
      "text/plain": [
       "[{'name': 'plus',\n",
       "  'args': {'a': 3, 'b': 5},\n",
       "  'id': 'call_pvvf',\n",
       "  'type': 'tool_call'},\n",
       " {'name': 'minus',\n",
       "  'args': {'a': 3, 'b': 5},\n",
       "  'id': 'call_tge5',\n",
       "  'type': 'tool_call'}]"
      ]
     },
     "execution_count": 27,
     "metadata": {},
     "output_type": "execute_result"
    }
   ],
   "source": [
    "groq_tools = groq_llm.bind_tools(tools)\n",
    "groq_tools.invoke(query).tool_calls"
   ]
  },
  {
   "cell_type": "markdown",
   "metadata": {},
   "source": [
    "### advanced tool calling\n",
    "**目的**\n",
    "- 使用複雜的方式設計tool，讓llm可以有更強的取得外部資訊功能。\n",
    "- 爬取goodinfo台灣股市資訊網中的股價財務資訊評分表。\n",
    "- 讓LLM來讀取最新資訊後回答query。\n",
    "- 最後面部分是用來測試各種agent對於抓取url的效果。\n",
    "\n",
    "**心得**\n",
    "- 表現有時佳，有時候不好，會遇到LLM無法抓取到url的問題。(或許可能跟model本身能力有關)，須注意這樣的情況。"
   ]
  },
  {
   "cell_type": "code",
   "execution_count": 32,
   "metadata": {},
   "outputs": [],
   "source": [
    "def finDetail(url: str, headers: dict) -> pd.DataFrame:\n",
    "    response = requests.get(url, headers=headers)\n",
    "    response.encoding = 'utf-8'\n",
    "    # print(response.text)\n",
    "    soup = BeautifulSoup(response.text, 'lxml')\n",
    "    data = soup.select_one(\"#divDetail\")\n",
    "    df = pd.read_html(data.prettify())\n",
    "    df = df[0]\n",
    "    return df"
   ]
  },
  {
   "cell_type": "code",
   "execution_count": 33,
   "metadata": {},
   "outputs": [
    {
     "data": {
      "text/html": [
       "<div>\n",
       "<style scoped>\n",
       "    .dataframe tbody tr th:only-of-type {\n",
       "        vertical-align: middle;\n",
       "    }\n",
       "\n",
       "    .dataframe tbody tr th {\n",
       "        vertical-align: top;\n",
       "    }\n",
       "\n",
       "    .dataframe thead th {\n",
       "        text-align: right;\n",
       "    }\n",
       "</style>\n",
       "<table border=\"1\" class=\"dataframe\">\n",
       "  <thead>\n",
       "    <tr style=\"text-align: right;\">\n",
       "      <th></th>\n",
       "      <th>類別</th>\n",
       "      <th>評分項目</th>\n",
       "      <th>％</th>\n",
       "      <th>總分</th>\n",
       "      <th>得分</th>\n",
       "      <th>百分  換算</th>\n",
       "      <th>評分標準</th>\n",
       "      <th>說明</th>\n",
       "    </tr>\n",
       "  </thead>\n",
       "  <tbody>\n",
       "    <tr>\n",
       "      <th>0</th>\n",
       "      <td>資產佔比</td>\n",
       "      <td>現金 (%)</td>\n",
       "      <td>8.9</td>\n",
       "      <td>3</td>\n",
       "      <td>1</td>\n",
       "      <td>33</td>\n",
       "      <td>~ 5  ：0 分  5 ~ 10  ：1 分  10 ~ 15  ：2 分  15 ~  ...</td>\n",
       "      <td>現金及約當現金 / 資產總額 x 100%  現金是所有資產中流動性最大的一項資產，現金部位...</td>\n",
       "    </tr>\n",
       "    <tr>\n",
       "      <th>1</th>\n",
       "      <td>資產佔比</td>\n",
       "      <td>應收帳款 (%)</td>\n",
       "      <td>7.2</td>\n",
       "      <td>3</td>\n",
       "      <td>3</td>\n",
       "      <td>100</td>\n",
       "      <td>~ 10  ：3 分  10 ~ 20  ：2 分  20 ~ 30  ：1 分  30 ~...</td>\n",
       "      <td>所有應收款項合計 / 資產總額 x 100%  應收帳款應維持在一定比率以下，應收帳款比率越...</td>\n",
       "    </tr>\n",
       "    <tr>\n",
       "      <th>2</th>\n",
       "      <td>資產佔比</td>\n",
       "      <td>存貨 (%)</td>\n",
       "      <td>43.7</td>\n",
       "      <td>3</td>\n",
       "      <td>0</td>\n",
       "      <td>0</td>\n",
       "      <td>~ 10  ：3 分  10 ~ 20  ：2 分  20 ~ 30  ：1 分  30 ~...</td>\n",
       "      <td>存貨 / 資產總額 x 100%  存貨比率應維持在一定水準才算健康，存貨水位過高的公司，通...</td>\n",
       "    </tr>\n",
       "  </tbody>\n",
       "</table>\n",
       "</div>"
      ],
      "text/plain": [
       "     類別      評分項目     ％  總分  得分  百分  換算  \\\n",
       "0  資產佔比    現金 (%)   8.9   3   1      33   \n",
       "1  資產佔比  應收帳款 (%)   7.2   3   3     100   \n",
       "2  資產佔比    存貨 (%)  43.7   3   0       0   \n",
       "\n",
       "                                                評分標準  \\\n",
       "0  ~ 5  ：0 分  5 ~ 10  ：1 分  10 ~ 15  ：2 分  15 ~  ...   \n",
       "1  ~ 10  ：3 分  10 ~ 20  ：2 分  20 ~ 30  ：1 分  30 ~...   \n",
       "2  ~ 10  ：3 分  10 ~ 20  ：2 分  20 ~ 30  ：1 分  30 ~...   \n",
       "\n",
       "                                                  說明  \n",
       "0  現金及約當現金 / 資產總額 x 100%  現金是所有資產中流動性最大的一項資產，現金部位...  \n",
       "1  所有應收款項合計 / 資產總額 x 100%  應收帳款應維持在一定比率以下，應收帳款比率越...  \n",
       "2  存貨 / 資產總額 x 100%  存貨比率應維持在一定水準才算健康，存貨水位過高的公司，通...  "
      ]
     },
     "execution_count": 33,
     "metadata": {},
     "output_type": "execute_result"
    }
   ],
   "source": [
    "\"\"\"抓取到的資料形式\"\"\"\n",
    "headers = {\n",
    "        \"User-Agent\": \"Mozilla/5.0 (Windows NT 10.0; Win64; x64) AppleWebKit/537.36 (KHTML, like Gecko) Chrome/124.0.0.0 Safari/537.36\",\n",
    "        \"Cookie\":\"IS_TOUCH_DEVICE=F; SCREEN_SIZE=WIDTH=1536&HEIGHT=864; _ga=GA1.1.134640417.1718698272; __gads=ID=b42b9ba3a594ff97:T=1718698274:RT=1718698274:S=ALNI_MZ1kFXN3htHHdY3ZGXMWn10JYhrSg; __gpi=UID=00000e5315d89fdd:T=1718698274:RT=1718698274:S=ALNI_MbuXU-bLcaSUcqYleIOzqDTTFxMKw; __eoi=ID=0b4097d725162137:T=1718698274:RT=1718698274:S=AA-AfjYZbznwQCxhcZLVvPaxBsjM; CLIENT%5FID=20240618161154117%5F156%2E59%2E34%2E83; TW_STOCK_BROWSE_LIST=1785; FCNEC=%5B%5B%22AKsRol9Vv6qLdMCxvuvjU1sRPiybs9UpKWKftBn8q79OO4v-hfpBOUrtI8lvc5IyBwM6YVFPrwpug-bkB5ZnUxeYa32E4ABhLsrT0WBiN7XtnBuMv34o7xKNpJr4oHhvNFGW7d-M66kzUq0TLx_w8ci83BQW9DAuiA%3D%3D%22%5D%5D; _ga_0LP5MLQS7E=GS1.1.1718698272.1.1.1718698563.60.0.0\"\n",
    "        }\n",
    "url = \"https://goodinfo.tw/tw/StockFinGrade.asp?STOCK_ID=1785\"\n",
    "df = finDetail(url=url, headers=headers)\n",
    "df.head(3)"
   ]
  },
  {
   "cell_type": "code",
   "execution_count": 34,
   "metadata": {},
   "outputs": [],
   "source": [
    "\"\"\"進階class設定\"\"\"\n",
    "class finScore(BaseTool):\n",
    "    name = \"financial_statement_search\"\n",
    "    description = \"useful for when you need to search financial statement score to answer question.\"\n",
    "    \n",
    "    def _run(self, url: str):\n",
    "        headers = {\n",
    "        \"User-Agent\": \"Mozilla/5.0 (Windows NT 10.0; Win64; x64) AppleWebKit/537.36 (KHTML, like Gecko) Chrome/124.0.0.0 Safari/537.36\",\n",
    "        \"Cookie\":\"IS_TOUCH_DEVICE=F; SCREEN_SIZE=WIDTH=1536&HEIGHT=864; _ga=GA1.1.134640417.1718698272; __gads=ID=b42b9ba3a594ff97:T=1718698274:RT=1718698274:S=ALNI_MZ1kFXN3htHHdY3ZGXMWn10JYhrSg; __gpi=UID=00000e5315d89fdd:T=1718698274:RT=1718698274:S=ALNI_MbuXU-bLcaSUcqYleIOzqDTTFxMKw; __eoi=ID=0b4097d725162137:T=1718698274:RT=1718698274:S=AA-AfjYZbznwQCxhcZLVvPaxBsjM; CLIENT%5FID=20240618161154117%5F156%2E59%2E34%2E83; TW_STOCK_BROWSE_LIST=1785; FCNEC=%5B%5B%22AKsRol9Vv6qLdMCxvuvjU1sRPiybs9UpKWKftBn8q79OO4v-hfpBOUrtI8lvc5IyBwM6YVFPrwpug-bkB5ZnUxeYa32E4ABhLsrT0WBiN7XtnBuMv34o7xKNpJr4oHhvNFGW7d-M66kzUq0TLx_w8ci83BQW9DAuiA%3D%3D%22%5D%5D; _ga_0LP5MLQS7E=GS1.1.1718698272.1.1.1718698563.60.0.0\"\n",
    "        }\n",
    "        response = requests.get(url, headers=headers)\n",
    "        response.encoding = 'utf-8'\n",
    "        html_content = response.text\n",
    "        \n",
    "        def get_html_content(html_content: str):\n",
    "            soup = BeautifulSoup(html_content, 'lxml')\n",
    "            data = soup.select_one(\"#divDetail\")\n",
    "            df = pd.read_html(data.prettify())\n",
    "            df = df[0]\n",
    "            return df\n",
    "        \n",
    "        result = get_html_content(html_content)\n",
    "\n",
    "        return result\n",
    "    \n",
    "    def _arun(self, url: str):\n",
    "        raise NotImplementedError(\"This tool does not support async\")\n",
    "\n",
    "# Build tools\n",
    "fs_getter = finScore()\n",
    "tools = [fs_getter]"
   ]
  },
  {
   "cell_type": "code",
   "execution_count": 35,
   "metadata": {},
   "outputs": [],
   "source": [
    "# conversational agent memory\n",
    "memory = ConversationBufferWindowMemory(\n",
    "    memory_key='chat_history',\n",
    "    k=3,\n",
    "    return_messages=True\n",
    ")\n",
    "\n",
    "# 建立agent\n",
    "conversational_agent = initialize_agent(\n",
    "    agent='chat-conversational-react-description',\n",
    "    tools=tools,\n",
    "    llm=groq_llm,\n",
    "    verbose=True,\n",
    "    max_iterations=3,\n",
    "    early_stopping_method='generate',\n",
    "    memory=memory\n",
    ")\n",
    "# 修改prompt可以使用\n",
    "# conversational_agent.agent.llm_chain.prompt.messages[0].prompt.template = fixed_prompt"
   ]
  },
  {
   "cell_type": "code",
   "execution_count": 36,
   "metadata": {},
   "outputs": [
    {
     "name": "stdout",
     "output_type": "stream",
     "text": [
      "\n",
      "\n",
      "\u001b[1m> Entering new AgentExecutor chain...\u001b[0m\n",
      "\u001b[32;1m\u001b[1;3m```\n",
      "{\n",
      "    \"action\": \"financial_statement_search\",\n",
      "    \"action_input\": \"https://goodinfo.tw/tw/StockFinGrade.asp?STOCK_ID=1785\"\n",
      "}\n",
      "```\u001b[0m\n",
      "Observation: \u001b[36;1m\u001b[1;3m             類別         評分項目            ％  總分  得分  百分  換算  \\\n",
      "0          資產佔比       現金 (%)          8.9   3   1      33   \n",
      "1          資產佔比     應收帳款 (%)          7.2   3   3     100   \n",
      "2          資產佔比       存貨 (%)         43.7   3   0       0   \n",
      "3          資產佔比    基金及投資 (%)          2.9   3   3     100   \n",
      "4          資產佔比     其他資產 (%)          0.6   2   2     100   \n",
      "5          負債佔比     負債總額 (%)           51   5   0       0   \n",
      "6          獲利能力        營業毛利率           12   5   2      40   \n",
      "7          獲利能力        營業利益率            6   5   1      20   \n",
      "8          獲利能力        業外損益率         -0.3   2   1      50   \n",
      "9          獲利能力        稅後淨利率          4.7   5   1      20   \n",
      "10         獲利能力      股東權益報酬率          8.2   4   1      25   \n",
      "11         獲利能力        資產報酬率            4   4   1      25   \n",
      "12         現金流量        現金流量比         16.3   3   1      33   \n",
      "13  財報評分結果 -  差  財報評分結果 -  差  財報評分結果 -  差  47  17      36   \n",
      "\n",
      "                                                 評分標準  \\\n",
      "0   ~ 5  ：0 分  5 ~ 10  ：1 分  10 ~ 15  ：2 分  15 ~  ...   \n",
      "1   ~ 10  ：3 分  10 ~ 20  ：2 分  20 ~ 30  ：1 分  30 ~...   \n",
      "2   ~ 10  ：3 分  10 ~ 20  ：2 分  20 ~ 30  ：1 分  30 ~...   \n",
      "3   ~ 10  ：3 分  10 ~ 30  ：2 分  30 ~ 50  ：1 分  50 ~...   \n",
      "4                 ~ 5  ：2 分  5 ~ 10  ：1 分  10 ~  ：0 分   \n",
      "5   ~ 10  ：5 分  10 ~ 20  ：4 分  20 ~ 30  ：3 分  30 ~...   \n",
      "6   ~ 0  ：0 分  0 ~ 10  ：1 分  10 ~ 20  ：2 分  20 ~ 3...   \n",
      "7   ~ 0  ：0 分  0 ~ 10  ：1 分  10 ~ 20  ：2 分  20 ~ 3...   \n",
      "8               ~ -10  ：0 分  -10 ~ 0  ：1 分  0 ~  ：2 分   \n",
      "9   ~ 0  ：0 分  0 ~ 10  ：1 分  10 ~ 20  ：2 分  20 ~ 2...   \n",
      "10  ~ 0  ：0 分  0 ~ 10  ：1 分  10 ~ 20  ：2 分  20 ~ 3...   \n",
      "11  ~ 0  ：0 分  0 ~ 5  ：1 分  5 ~ 10  ：2 分  10 ~ 15 ...   \n",
      "12  ~ 0  ：0 分  0 ~ 100  ：1 分  100 ~ 200  ：2 分  200...   \n",
      "13                  0 ~ 40：差  40 ~ 70：普通  70 ~ 100：良好   \n",
      "\n",
      "                                                   說明  \n",
      "0   現金及約當現金 / 資產總額 x 100%  現金是所有資產中流動性最大的一項資產，現金部位...  \n",
      "1   所有應收款項合計 / 資產總額 x 100%  應收帳款應維持在一定比率以下，應收帳款比率越...  \n",
      "2   存貨 / 資產總額 x 100%  存貨比率應維持在一定水準才算健康，存貨水位過高的公司，通...  \n",
      "3   基金及投資 / 資產總額 x 100%  投資比例高的公司通常容易大幅降低其財務透明度，甚至...  \n",
      "4          其他資產 / 資產總額 x 100%  正常狀況下, 一家公司的其他資產比例不應過高  \n",
      "5   負債總額 / 資產總額 x 100%  除金融業外，一般公司如果負債比率越高，其所衍生的本金...  \n",
      "6   營業毛利 / 營業收入 x 100%  毛利率反應該公司生產成本的競爭能力，毛利率越高代表生...  \n",
      "7   營業利益 / 營業收入 x 100%  營業利益率反應該公司在本業經營的獲利能力，其數值越高...  \n",
      "8          業外損益 / 營業收入 x 100%  專注於本業之公司, 業外虧損的比例通常不高。  \n",
      "9   合併稅後淨利 / 營業收入 x 100%  稅後淨利率愈高代表公司的最終的獲利能力越好，亦即...  \n",
      "10  合併稅後淨利 / ((期初股東權益總額 + 期末股東權益總額) / 2) x 100  股東...  \n",
      "11  合併稅後淨利 / ((期初資產總額 + 期末資產總額) / 2) x 100%  資產報酬率...  \n",
      "12  營業活動淨現金流量 / 流動負債 x 100%  本指標反應該公司營運活動所產生之現金用來支...  \n",
      "13  (1) 差：財務體質較弱，投資風險較高。  (2) 普通：財務體質一般。  (3) 良好：財...  \u001b[0m\n",
      "Thought:\u001b[32;1m\u001b[1;3m```\n",
      "{\n",
      "    \"action\": \"Final Answer\",\n",
      "    \"action_input\": \"Based on the financial statement search, the stock's financial performance is mediocre, with a total score of 47 out of 100. The company's asset utilization, profitability, and cash flow are areas of concern, but its return on equity is relatively high.\"\n",
      "}\n",
      "```\u001b[0m\n",
      "\n",
      "\u001b[1m> Finished chain.\u001b[0m\n"
     ]
    },
    {
     "data": {
      "text/plain": [
       "\"Based on the financial statement search, the stock's financial performance is mediocre, with a total score of 47 out of 100. The company's asset utilization, profitability, and cash flow are areas of concern, but its return on equity is relatively high.\""
      ]
     },
     "execution_count": 36,
     "metadata": {},
     "output_type": "execute_result"
    }
   ],
   "source": [
    "res = conversational_agent.invoke(\"How's the financial performance of this stock? The url is on : https://goodinfo.tw/tw/StockFinGrade.asp?STOCK_ID=1785\")\n",
    "res[\"output\"]"
   ]
  },
  {
   "cell_type": "markdown",
   "metadata": {},
   "source": [
    "#### 測試各種agent"
   ]
  },
  {
   "cell_type": "code",
   "execution_count": 38,
   "metadata": {},
   "outputs": [],
   "source": [
    "\"\"\"可以用，但URL會一直找不到，可能要用其他的方式去解決url問題。\"\"\"\n",
    "from langchain.agents import AgentExecutor, create_react_agent, create_tool_calling_agent, create_structured_chat_agent"
   ]
  },
  {
   "cell_type": "code",
   "execution_count": null,
   "metadata": {},
   "outputs": [],
   "source": []
  },
  {
   "cell_type": "code",
   "execution_count": 39,
   "metadata": {},
   "outputs": [],
   "source": [
    "# 第一種prompt (直接修改template)\n",
    "prompt_one = hub.pull(\"hwchase17/react\")\n",
    "prompt_one.template = 'You are a profesional financial analyst. You MUST answer my questions in Traditional Chinese. First, you have access to the url : {URL}. Then, Answer the following questions as best you can. You have access to the following tools:\\n\\n{tools}\\n\\nUse the following format:\\n\\nQuestion: the input question you must answer\\nThought: you should always think about what to do\\nAction: the action to take.\\nAction Input: the input to the action\\nObservation: the result of the action\\n... (this Thought/Action/Action Input/Observation can repeat N times)\\nThought: I now know the final answer\\nFinal Answer: the final answer to the original input question\\n\\nBegin!\\n\\nQuestion: {input}\\nThought:{agent_scratchpad}'"
   ]
  },
  {
   "cell_type": "code",
   "execution_count": 41,
   "metadata": {},
   "outputs": [
    {
     "ename": "MissingSchema",
     "evalue": "Invalid URL 'financial_statement_search(1785)': No scheme supplied. Perhaps you meant https://financial_statement_search(1785)?",
     "output_type": "error",
     "traceback": [
      "\u001b[1;31m---------------------------------------------------------------------------\u001b[0m",
      "\u001b[1;31mMissingSchema\u001b[0m                             Traceback (most recent call last)",
      "Cell \u001b[1;32mIn[41], line 11\u001b[0m\n\u001b[0;32m      4\u001b[0m \u001b[38;5;66;03m# agent = create_tool_calling_agent(llm=groq_llm, tools=tools, prompt=prompt_one)\u001b[39;00m\n\u001b[0;32m      5\u001b[0m \u001b[38;5;66;03m# agent_executor = AgentExecutor(agent=agent, tools=tools, handle_parsing_errors=True)\u001b[39;00m\n\u001b[0;32m      6\u001b[0m \n\u001b[0;32m      7\u001b[0m \u001b[38;5;66;03m# agent = create_structured_chat_agent(llm=groq_llm, tools=tools, prompt=prompt_one)\u001b[39;00m\n\u001b[0;32m      8\u001b[0m \u001b[38;5;66;03m# agent_executor = AgentExecutor(agent=agent, tools=tools, handle_parsing_errors=True)\u001b[39;00m\n\u001b[0;32m     10\u001b[0m url \u001b[38;5;241m=\u001b[39m \u001b[38;5;124m'\u001b[39m\u001b[38;5;124mhttps://goodinfo.tw/tw/StockFinGrade.asp?STOCK_ID=1785\u001b[39m\u001b[38;5;124m'\u001b[39m\n\u001b[1;32m---> 11\u001b[0m \u001b[43magent_executor\u001b[49m\u001b[38;5;241;43m.\u001b[39;49m\u001b[43minvoke\u001b[49m\u001b[43m(\u001b[49m\u001b[43m{\u001b[49m\n\u001b[0;32m     12\u001b[0m \u001b[43m    \u001b[49m\u001b[38;5;124;43m\"\u001b[39;49m\u001b[38;5;124;43minput\u001b[39;49m\u001b[38;5;124;43m\"\u001b[39;49m\u001b[43m \u001b[49m\u001b[43m:\u001b[49m\u001b[43m  \u001b[49m\u001b[38;5;124;43m\"\u001b[39;49m\u001b[38;5;124;43mHow\u001b[39;49m\u001b[38;5;124;43m'\u001b[39;49m\u001b[38;5;124;43ms the financial performance of this stock?\u001b[39;49m\u001b[38;5;124;43m\"\u001b[39;49m\u001b[43m,\u001b[49m\n\u001b[0;32m     13\u001b[0m \u001b[43m    \u001b[49m\u001b[38;5;124;43m\"\u001b[39;49m\u001b[38;5;124;43mURL\u001b[39;49m\u001b[38;5;124;43m\"\u001b[39;49m\u001b[43m:\u001b[49m\u001b[43m \u001b[49m\u001b[43murl\u001b[49m\n\u001b[0;32m     14\u001b[0m \u001b[43m}\u001b[49m\u001b[43m)\u001b[49m\n",
      "File \u001b[1;32mc:\\Users\\ASUS\\anaconda3\\envs\\workEnv\\Lib\\site-packages\\langchain\\chains\\base.py:166\u001b[0m, in \u001b[0;36mChain.invoke\u001b[1;34m(self, input, config, **kwargs)\u001b[0m\n\u001b[0;32m    164\u001b[0m \u001b[38;5;28;01mexcept\u001b[39;00m \u001b[38;5;167;01mBaseException\u001b[39;00m \u001b[38;5;28;01mas\u001b[39;00m e:\n\u001b[0;32m    165\u001b[0m     run_manager\u001b[38;5;241m.\u001b[39mon_chain_error(e)\n\u001b[1;32m--> 166\u001b[0m     \u001b[38;5;28;01mraise\u001b[39;00m e\n\u001b[0;32m    167\u001b[0m run_manager\u001b[38;5;241m.\u001b[39mon_chain_end(outputs)\n\u001b[0;32m    169\u001b[0m \u001b[38;5;28;01mif\u001b[39;00m include_run_info:\n",
      "File \u001b[1;32mc:\\Users\\ASUS\\anaconda3\\envs\\workEnv\\Lib\\site-packages\\langchain\\chains\\base.py:156\u001b[0m, in \u001b[0;36mChain.invoke\u001b[1;34m(self, input, config, **kwargs)\u001b[0m\n\u001b[0;32m    153\u001b[0m \u001b[38;5;28;01mtry\u001b[39;00m:\n\u001b[0;32m    154\u001b[0m     \u001b[38;5;28mself\u001b[39m\u001b[38;5;241m.\u001b[39m_validate_inputs(inputs)\n\u001b[0;32m    155\u001b[0m     outputs \u001b[38;5;241m=\u001b[39m (\n\u001b[1;32m--> 156\u001b[0m         \u001b[38;5;28;43mself\u001b[39;49m\u001b[38;5;241;43m.\u001b[39;49m\u001b[43m_call\u001b[49m\u001b[43m(\u001b[49m\u001b[43minputs\u001b[49m\u001b[43m,\u001b[49m\u001b[43m \u001b[49m\u001b[43mrun_manager\u001b[49m\u001b[38;5;241;43m=\u001b[39;49m\u001b[43mrun_manager\u001b[49m\u001b[43m)\u001b[49m\n\u001b[0;32m    157\u001b[0m         \u001b[38;5;28;01mif\u001b[39;00m new_arg_supported\n\u001b[0;32m    158\u001b[0m         \u001b[38;5;28;01melse\u001b[39;00m \u001b[38;5;28mself\u001b[39m\u001b[38;5;241m.\u001b[39m_call(inputs)\n\u001b[0;32m    159\u001b[0m     )\n\u001b[0;32m    161\u001b[0m     final_outputs: Dict[\u001b[38;5;28mstr\u001b[39m, Any] \u001b[38;5;241m=\u001b[39m \u001b[38;5;28mself\u001b[39m\u001b[38;5;241m.\u001b[39mprep_outputs(\n\u001b[0;32m    162\u001b[0m         inputs, outputs, return_only_outputs\n\u001b[0;32m    163\u001b[0m     )\n\u001b[0;32m    164\u001b[0m \u001b[38;5;28;01mexcept\u001b[39;00m \u001b[38;5;167;01mBaseException\u001b[39;00m \u001b[38;5;28;01mas\u001b[39;00m e:\n",
      "File \u001b[1;32mc:\\Users\\ASUS\\anaconda3\\envs\\workEnv\\Lib\\site-packages\\langchain\\agents\\agent.py:1433\u001b[0m, in \u001b[0;36mAgentExecutor._call\u001b[1;34m(self, inputs, run_manager)\u001b[0m\n\u001b[0;32m   1431\u001b[0m \u001b[38;5;66;03m# We now enter the agent loop (until it returns something).\u001b[39;00m\n\u001b[0;32m   1432\u001b[0m \u001b[38;5;28;01mwhile\u001b[39;00m \u001b[38;5;28mself\u001b[39m\u001b[38;5;241m.\u001b[39m_should_continue(iterations, time_elapsed):\n\u001b[1;32m-> 1433\u001b[0m     next_step_output \u001b[38;5;241m=\u001b[39m \u001b[38;5;28;43mself\u001b[39;49m\u001b[38;5;241;43m.\u001b[39;49m\u001b[43m_take_next_step\u001b[49m\u001b[43m(\u001b[49m\n\u001b[0;32m   1434\u001b[0m \u001b[43m        \u001b[49m\u001b[43mname_to_tool_map\u001b[49m\u001b[43m,\u001b[49m\n\u001b[0;32m   1435\u001b[0m \u001b[43m        \u001b[49m\u001b[43mcolor_mapping\u001b[49m\u001b[43m,\u001b[49m\n\u001b[0;32m   1436\u001b[0m \u001b[43m        \u001b[49m\u001b[43minputs\u001b[49m\u001b[43m,\u001b[49m\n\u001b[0;32m   1437\u001b[0m \u001b[43m        \u001b[49m\u001b[43mintermediate_steps\u001b[49m\u001b[43m,\u001b[49m\n\u001b[0;32m   1438\u001b[0m \u001b[43m        \u001b[49m\u001b[43mrun_manager\u001b[49m\u001b[38;5;241;43m=\u001b[39;49m\u001b[43mrun_manager\u001b[49m\u001b[43m,\u001b[49m\n\u001b[0;32m   1439\u001b[0m \u001b[43m    \u001b[49m\u001b[43m)\u001b[49m\n\u001b[0;32m   1440\u001b[0m     \u001b[38;5;28;01mif\u001b[39;00m \u001b[38;5;28misinstance\u001b[39m(next_step_output, AgentFinish):\n\u001b[0;32m   1441\u001b[0m         \u001b[38;5;28;01mreturn\u001b[39;00m \u001b[38;5;28mself\u001b[39m\u001b[38;5;241m.\u001b[39m_return(\n\u001b[0;32m   1442\u001b[0m             next_step_output, intermediate_steps, run_manager\u001b[38;5;241m=\u001b[39mrun_manager\n\u001b[0;32m   1443\u001b[0m         )\n",
      "File \u001b[1;32mc:\\Users\\ASUS\\anaconda3\\envs\\workEnv\\Lib\\site-packages\\langchain\\agents\\agent.py:1139\u001b[0m, in \u001b[0;36mAgentExecutor._take_next_step\u001b[1;34m(self, name_to_tool_map, color_mapping, inputs, intermediate_steps, run_manager)\u001b[0m\n\u001b[0;32m   1130\u001b[0m \u001b[38;5;28;01mdef\u001b[39;00m \u001b[38;5;21m_take_next_step\u001b[39m(\n\u001b[0;32m   1131\u001b[0m     \u001b[38;5;28mself\u001b[39m,\n\u001b[0;32m   1132\u001b[0m     name_to_tool_map: Dict[\u001b[38;5;28mstr\u001b[39m, BaseTool],\n\u001b[1;32m   (...)\u001b[0m\n\u001b[0;32m   1136\u001b[0m     run_manager: Optional[CallbackManagerForChainRun] \u001b[38;5;241m=\u001b[39m \u001b[38;5;28;01mNone\u001b[39;00m,\n\u001b[0;32m   1137\u001b[0m ) \u001b[38;5;241m-\u001b[39m\u001b[38;5;241m>\u001b[39m Union[AgentFinish, List[Tuple[AgentAction, \u001b[38;5;28mstr\u001b[39m]]]:\n\u001b[0;32m   1138\u001b[0m     \u001b[38;5;28;01mreturn\u001b[39;00m \u001b[38;5;28mself\u001b[39m\u001b[38;5;241m.\u001b[39m_consume_next_step(\n\u001b[1;32m-> 1139\u001b[0m         \u001b[43m[\u001b[49m\n\u001b[0;32m   1140\u001b[0m \u001b[43m            \u001b[49m\u001b[43ma\u001b[49m\n\u001b[0;32m   1141\u001b[0m \u001b[43m            \u001b[49m\u001b[38;5;28;43;01mfor\u001b[39;49;00m\u001b[43m \u001b[49m\u001b[43ma\u001b[49m\u001b[43m \u001b[49m\u001b[38;5;129;43;01min\u001b[39;49;00m\u001b[43m \u001b[49m\u001b[38;5;28;43mself\u001b[39;49m\u001b[38;5;241;43m.\u001b[39;49m\u001b[43m_iter_next_step\u001b[49m\u001b[43m(\u001b[49m\n\u001b[0;32m   1142\u001b[0m \u001b[43m                \u001b[49m\u001b[43mname_to_tool_map\u001b[49m\u001b[43m,\u001b[49m\n\u001b[0;32m   1143\u001b[0m \u001b[43m                \u001b[49m\u001b[43mcolor_mapping\u001b[49m\u001b[43m,\u001b[49m\n\u001b[0;32m   1144\u001b[0m \u001b[43m                \u001b[49m\u001b[43minputs\u001b[49m\u001b[43m,\u001b[49m\n\u001b[0;32m   1145\u001b[0m \u001b[43m                \u001b[49m\u001b[43mintermediate_steps\u001b[49m\u001b[43m,\u001b[49m\n\u001b[0;32m   1146\u001b[0m \u001b[43m                \u001b[49m\u001b[43mrun_manager\u001b[49m\u001b[43m,\u001b[49m\n\u001b[0;32m   1147\u001b[0m \u001b[43m            \u001b[49m\u001b[43m)\u001b[49m\n\u001b[0;32m   1148\u001b[0m \u001b[43m        \u001b[49m\u001b[43m]\u001b[49m\n\u001b[0;32m   1149\u001b[0m     )\n",
      "File \u001b[1;32mc:\\Users\\ASUS\\anaconda3\\envs\\workEnv\\Lib\\site-packages\\langchain\\agents\\agent.py:1139\u001b[0m, in \u001b[0;36m<listcomp>\u001b[1;34m(.0)\u001b[0m\n\u001b[0;32m   1130\u001b[0m \u001b[38;5;28;01mdef\u001b[39;00m \u001b[38;5;21m_take_next_step\u001b[39m(\n\u001b[0;32m   1131\u001b[0m     \u001b[38;5;28mself\u001b[39m,\n\u001b[0;32m   1132\u001b[0m     name_to_tool_map: Dict[\u001b[38;5;28mstr\u001b[39m, BaseTool],\n\u001b[1;32m   (...)\u001b[0m\n\u001b[0;32m   1136\u001b[0m     run_manager: Optional[CallbackManagerForChainRun] \u001b[38;5;241m=\u001b[39m \u001b[38;5;28;01mNone\u001b[39;00m,\n\u001b[0;32m   1137\u001b[0m ) \u001b[38;5;241m-\u001b[39m\u001b[38;5;241m>\u001b[39m Union[AgentFinish, List[Tuple[AgentAction, \u001b[38;5;28mstr\u001b[39m]]]:\n\u001b[0;32m   1138\u001b[0m     \u001b[38;5;28;01mreturn\u001b[39;00m \u001b[38;5;28mself\u001b[39m\u001b[38;5;241m.\u001b[39m_consume_next_step(\n\u001b[1;32m-> 1139\u001b[0m         [\n\u001b[0;32m   1140\u001b[0m             a\n\u001b[0;32m   1141\u001b[0m             \u001b[38;5;28;01mfor\u001b[39;00m a \u001b[38;5;129;01min\u001b[39;00m \u001b[38;5;28mself\u001b[39m\u001b[38;5;241m.\u001b[39m_iter_next_step(\n\u001b[0;32m   1142\u001b[0m                 name_to_tool_map,\n\u001b[0;32m   1143\u001b[0m                 color_mapping,\n\u001b[0;32m   1144\u001b[0m                 inputs,\n\u001b[0;32m   1145\u001b[0m                 intermediate_steps,\n\u001b[0;32m   1146\u001b[0m                 run_manager,\n\u001b[0;32m   1147\u001b[0m             )\n\u001b[0;32m   1148\u001b[0m         ]\n\u001b[0;32m   1149\u001b[0m     )\n",
      "File \u001b[1;32mc:\\Users\\ASUS\\anaconda3\\envs\\workEnv\\Lib\\site-packages\\langchain\\agents\\agent.py:1224\u001b[0m, in \u001b[0;36mAgentExecutor._iter_next_step\u001b[1;34m(self, name_to_tool_map, color_mapping, inputs, intermediate_steps, run_manager)\u001b[0m\n\u001b[0;32m   1222\u001b[0m     \u001b[38;5;28;01myield\u001b[39;00m agent_action\n\u001b[0;32m   1223\u001b[0m \u001b[38;5;28;01mfor\u001b[39;00m agent_action \u001b[38;5;129;01min\u001b[39;00m actions:\n\u001b[1;32m-> 1224\u001b[0m     \u001b[38;5;28;01myield\u001b[39;00m \u001b[38;5;28;43mself\u001b[39;49m\u001b[38;5;241;43m.\u001b[39;49m\u001b[43m_perform_agent_action\u001b[49m\u001b[43m(\u001b[49m\n\u001b[0;32m   1225\u001b[0m \u001b[43m        \u001b[49m\u001b[43mname_to_tool_map\u001b[49m\u001b[43m,\u001b[49m\u001b[43m \u001b[49m\u001b[43mcolor_mapping\u001b[49m\u001b[43m,\u001b[49m\u001b[43m \u001b[49m\u001b[43magent_action\u001b[49m\u001b[43m,\u001b[49m\u001b[43m \u001b[49m\u001b[43mrun_manager\u001b[49m\n\u001b[0;32m   1226\u001b[0m \u001b[43m    \u001b[49m\u001b[43m)\u001b[49m\n",
      "File \u001b[1;32mc:\\Users\\ASUS\\anaconda3\\envs\\workEnv\\Lib\\site-packages\\langchain\\agents\\agent.py:1246\u001b[0m, in \u001b[0;36mAgentExecutor._perform_agent_action\u001b[1;34m(self, name_to_tool_map, color_mapping, agent_action, run_manager)\u001b[0m\n\u001b[0;32m   1244\u001b[0m         tool_run_kwargs[\u001b[38;5;124m\"\u001b[39m\u001b[38;5;124mllm_prefix\u001b[39m\u001b[38;5;124m\"\u001b[39m] \u001b[38;5;241m=\u001b[39m \u001b[38;5;124m\"\u001b[39m\u001b[38;5;124m\"\u001b[39m\n\u001b[0;32m   1245\u001b[0m     \u001b[38;5;66;03m# We then call the tool on the tool input to get an observation\u001b[39;00m\n\u001b[1;32m-> 1246\u001b[0m     observation \u001b[38;5;241m=\u001b[39m \u001b[43mtool\u001b[49m\u001b[38;5;241;43m.\u001b[39;49m\u001b[43mrun\u001b[49m\u001b[43m(\u001b[49m\n\u001b[0;32m   1247\u001b[0m \u001b[43m        \u001b[49m\u001b[43magent_action\u001b[49m\u001b[38;5;241;43m.\u001b[39;49m\u001b[43mtool_input\u001b[49m\u001b[43m,\u001b[49m\n\u001b[0;32m   1248\u001b[0m \u001b[43m        \u001b[49m\u001b[43mverbose\u001b[49m\u001b[38;5;241;43m=\u001b[39;49m\u001b[38;5;28;43mself\u001b[39;49m\u001b[38;5;241;43m.\u001b[39;49m\u001b[43mverbose\u001b[49m\u001b[43m,\u001b[49m\n\u001b[0;32m   1249\u001b[0m \u001b[43m        \u001b[49m\u001b[43mcolor\u001b[49m\u001b[38;5;241;43m=\u001b[39;49m\u001b[43mcolor\u001b[49m\u001b[43m,\u001b[49m\n\u001b[0;32m   1250\u001b[0m \u001b[43m        \u001b[49m\u001b[43mcallbacks\u001b[49m\u001b[38;5;241;43m=\u001b[39;49m\u001b[43mrun_manager\u001b[49m\u001b[38;5;241;43m.\u001b[39;49m\u001b[43mget_child\u001b[49m\u001b[43m(\u001b[49m\u001b[43m)\u001b[49m\u001b[43m \u001b[49m\u001b[38;5;28;43;01mif\u001b[39;49;00m\u001b[43m \u001b[49m\u001b[43mrun_manager\u001b[49m\u001b[43m \u001b[49m\u001b[38;5;28;43;01melse\u001b[39;49;00m\u001b[43m \u001b[49m\u001b[38;5;28;43;01mNone\u001b[39;49;00m\u001b[43m,\u001b[49m\n\u001b[0;32m   1251\u001b[0m \u001b[43m        \u001b[49m\u001b[38;5;241;43m*\u001b[39;49m\u001b[38;5;241;43m*\u001b[39;49m\u001b[43mtool_run_kwargs\u001b[49m\u001b[43m,\u001b[49m\n\u001b[0;32m   1252\u001b[0m \u001b[43m    \u001b[49m\u001b[43m)\u001b[49m\n\u001b[0;32m   1253\u001b[0m \u001b[38;5;28;01melse\u001b[39;00m:\n\u001b[0;32m   1254\u001b[0m     tool_run_kwargs \u001b[38;5;241m=\u001b[39m \u001b[38;5;28mself\u001b[39m\u001b[38;5;241m.\u001b[39magent\u001b[38;5;241m.\u001b[39mtool_run_logging_kwargs()\n",
      "File \u001b[1;32mc:\\Users\\ASUS\\anaconda3\\envs\\workEnv\\Lib\\site-packages\\langchain_core\\tools.py:626\u001b[0m, in \u001b[0;36mBaseTool.run\u001b[1;34m(self, tool_input, verbose, start_color, color, callbacks, tags, metadata, run_name, run_id, config, tool_call_id, **kwargs)\u001b[0m\n\u001b[0;32m    624\u001b[0m \u001b[38;5;28;01mif\u001b[39;00m error_to_raise:\n\u001b[0;32m    625\u001b[0m     run_manager\u001b[38;5;241m.\u001b[39mon_tool_error(error_to_raise)\n\u001b[1;32m--> 626\u001b[0m     \u001b[38;5;28;01mraise\u001b[39;00m error_to_raise\n\u001b[0;32m    627\u001b[0m output \u001b[38;5;241m=\u001b[39m _format_output(content, artifact, tool_call_id, \u001b[38;5;28mself\u001b[39m\u001b[38;5;241m.\u001b[39mname)\n\u001b[0;32m    628\u001b[0m run_manager\u001b[38;5;241m.\u001b[39mon_tool_end(output, color\u001b[38;5;241m=\u001b[39mcolor, name\u001b[38;5;241m=\u001b[39m\u001b[38;5;28mself\u001b[39m\u001b[38;5;241m.\u001b[39mname, \u001b[38;5;241m*\u001b[39m\u001b[38;5;241m*\u001b[39mkwargs)\n",
      "File \u001b[1;32mc:\\Users\\ASUS\\anaconda3\\envs\\workEnv\\Lib\\site-packages\\langchain_core\\tools.py:599\u001b[0m, in \u001b[0;36mBaseTool.run\u001b[1;34m(self, tool_input, verbose, start_color, color, callbacks, tags, metadata, run_name, run_id, config, tool_call_id, **kwargs)\u001b[0m\n\u001b[0;32m    597\u001b[0m \u001b[38;5;28;01mif\u001b[39;00m config_param \u001b[38;5;241m:=\u001b[39m _get_runnable_config_param(\u001b[38;5;28mself\u001b[39m\u001b[38;5;241m.\u001b[39m_run):\n\u001b[0;32m    598\u001b[0m     tool_kwargs[config_param] \u001b[38;5;241m=\u001b[39m config\n\u001b[1;32m--> 599\u001b[0m response \u001b[38;5;241m=\u001b[39m \u001b[43mcontext\u001b[49m\u001b[38;5;241;43m.\u001b[39;49m\u001b[43mrun\u001b[49m\u001b[43m(\u001b[49m\u001b[38;5;28;43mself\u001b[39;49m\u001b[38;5;241;43m.\u001b[39;49m\u001b[43m_run\u001b[49m\u001b[43m,\u001b[49m\u001b[43m \u001b[49m\u001b[38;5;241;43m*\u001b[39;49m\u001b[43mtool_args\u001b[49m\u001b[43m,\u001b[49m\u001b[43m \u001b[49m\u001b[38;5;241;43m*\u001b[39;49m\u001b[38;5;241;43m*\u001b[39;49m\u001b[43mtool_kwargs\u001b[49m\u001b[43m)\u001b[49m\n\u001b[0;32m    600\u001b[0m \u001b[38;5;28;01mif\u001b[39;00m \u001b[38;5;28mself\u001b[39m\u001b[38;5;241m.\u001b[39mresponse_format \u001b[38;5;241m==\u001b[39m \u001b[38;5;124m\"\u001b[39m\u001b[38;5;124mcontent_and_artifact\u001b[39m\u001b[38;5;124m\"\u001b[39m:\n\u001b[0;32m    601\u001b[0m     \u001b[38;5;28;01mif\u001b[39;00m \u001b[38;5;129;01mnot\u001b[39;00m \u001b[38;5;28misinstance\u001b[39m(response, \u001b[38;5;28mtuple\u001b[39m) \u001b[38;5;129;01mor\u001b[39;00m \u001b[38;5;28mlen\u001b[39m(response) \u001b[38;5;241m!=\u001b[39m \u001b[38;5;241m2\u001b[39m:\n",
      "Cell \u001b[1;32mIn[34], line 11\u001b[0m, in \u001b[0;36mfinScore._run\u001b[1;34m(self, url)\u001b[0m\n\u001b[0;32m      6\u001b[0m \u001b[38;5;28;01mdef\u001b[39;00m \u001b[38;5;21m_run\u001b[39m(\u001b[38;5;28mself\u001b[39m, url: \u001b[38;5;28mstr\u001b[39m):\n\u001b[0;32m      7\u001b[0m     headers \u001b[38;5;241m=\u001b[39m {\n\u001b[0;32m      8\u001b[0m     \u001b[38;5;124m\"\u001b[39m\u001b[38;5;124mUser-Agent\u001b[39m\u001b[38;5;124m\"\u001b[39m: \u001b[38;5;124m\"\u001b[39m\u001b[38;5;124mMozilla/5.0 (Windows NT 10.0; Win64; x64) AppleWebKit/537.36 (KHTML, like Gecko) Chrome/124.0.0.0 Safari/537.36\u001b[39m\u001b[38;5;124m\"\u001b[39m,\n\u001b[0;32m      9\u001b[0m     \u001b[38;5;124m\"\u001b[39m\u001b[38;5;124mCookie\u001b[39m\u001b[38;5;124m\"\u001b[39m:\u001b[38;5;124m\"\u001b[39m\u001b[38;5;124mIS_TOUCH_DEVICE=F; SCREEN_SIZE=WIDTH=1536&HEIGHT=864; _ga=GA1.1.134640417.1718698272; __gads=ID=b42b9ba3a594ff97:T=1718698274:RT=1718698274:S=ALNI_MZ1kFXN3htHHdY3ZGXMWn10JYhrSg; __gpi=UID=00000e5315d89fdd:T=1718698274:RT=1718698274:S=ALNI_MbuXU-bLcaSUcqYleIOzqDTTFxMKw; __eoi=ID=0b4097d725162137:T=1718698274:RT=1718698274:S=AA-AfjYZbznwQCxhcZLVvPaxBsjM; CLIENT\u001b[39m\u001b[38;5;132;01m%5F\u001b[39;00m\u001b[38;5;124mID=20240618161154117\u001b[39m\u001b[38;5;132;01m%5F\u001b[39;00m\u001b[38;5;124m156\u001b[39m\u001b[38;5;132;01m%2E\u001b[39;00m\u001b[38;5;124m59\u001b[39m\u001b[38;5;132;01m%2E\u001b[39;00m\u001b[38;5;124m34\u001b[39m\u001b[38;5;132;01m%2E\u001b[39;00m\u001b[38;5;124m83; TW_STOCK_BROWSE_LIST=1785; FCNEC=\u001b[39m\u001b[38;5;124m%\u001b[39m\u001b[38;5;124m5B\u001b[39m\u001b[38;5;124m%\u001b[39m\u001b[38;5;124m5B\u001b[39m\u001b[38;5;124m%\u001b[39m\u001b[38;5;124m22AKsRol9Vv6qLdMCxvuvjU1sRPiybs9UpKWKftBn8q79OO4v-hfpBOUrtI8lvc5IyBwM6YVFPrwpug-bkB5ZnUxeYa32E4ABhLsrT0WBiN7XtnBuMv34o7xKNpJr4oHhvNFGW7d-M66kzUq0TLx_w8ci83BQW9DAuiA\u001b[39m\u001b[38;5;124m%\u001b[39m\u001b[38;5;124m3D\u001b[39m\u001b[38;5;124m%\u001b[39m\u001b[38;5;124m3D\u001b[39m\u001b[38;5;132;01m%22%\u001b[39;00m\u001b[38;5;124m5D\u001b[39m\u001b[38;5;124m%\u001b[39m\u001b[38;5;124m5D; _ga_0LP5MLQS7E=GS1.1.1718698272.1.1.1718698563.60.0.0\u001b[39m\u001b[38;5;124m\"\u001b[39m\n\u001b[0;32m     10\u001b[0m     }\n\u001b[1;32m---> 11\u001b[0m     response \u001b[38;5;241m=\u001b[39m \u001b[43mrequests\u001b[49m\u001b[38;5;241;43m.\u001b[39;49m\u001b[43mget\u001b[49m\u001b[43m(\u001b[49m\u001b[43murl\u001b[49m\u001b[43m,\u001b[49m\u001b[43m \u001b[49m\u001b[43mheaders\u001b[49m\u001b[38;5;241;43m=\u001b[39;49m\u001b[43mheaders\u001b[49m\u001b[43m)\u001b[49m\n\u001b[0;32m     12\u001b[0m     response\u001b[38;5;241m.\u001b[39mencoding \u001b[38;5;241m=\u001b[39m \u001b[38;5;124m'\u001b[39m\u001b[38;5;124mutf-8\u001b[39m\u001b[38;5;124m'\u001b[39m\n\u001b[0;32m     13\u001b[0m     html_content \u001b[38;5;241m=\u001b[39m response\u001b[38;5;241m.\u001b[39mtext\n",
      "File \u001b[1;32mc:\\Users\\ASUS\\anaconda3\\envs\\workEnv\\Lib\\site-packages\\requests\\api.py:73\u001b[0m, in \u001b[0;36mget\u001b[1;34m(url, params, **kwargs)\u001b[0m\n\u001b[0;32m     62\u001b[0m \u001b[38;5;28;01mdef\u001b[39;00m \u001b[38;5;21mget\u001b[39m(url, params\u001b[38;5;241m=\u001b[39m\u001b[38;5;28;01mNone\u001b[39;00m, \u001b[38;5;241m*\u001b[39m\u001b[38;5;241m*\u001b[39mkwargs):\n\u001b[0;32m     63\u001b[0m \u001b[38;5;250m    \u001b[39m\u001b[38;5;124mr\u001b[39m\u001b[38;5;124;03m\"\"\"Sends a GET request.\u001b[39;00m\n\u001b[0;32m     64\u001b[0m \n\u001b[0;32m     65\u001b[0m \u001b[38;5;124;03m    :param url: URL for the new :class:`Request` object.\u001b[39;00m\n\u001b[1;32m   (...)\u001b[0m\n\u001b[0;32m     70\u001b[0m \u001b[38;5;124;03m    :rtype: requests.Response\u001b[39;00m\n\u001b[0;32m     71\u001b[0m \u001b[38;5;124;03m    \"\"\"\u001b[39;00m\n\u001b[1;32m---> 73\u001b[0m     \u001b[38;5;28;01mreturn\u001b[39;00m \u001b[43mrequest\u001b[49m\u001b[43m(\u001b[49m\u001b[38;5;124;43m\"\u001b[39;49m\u001b[38;5;124;43mget\u001b[39;49m\u001b[38;5;124;43m\"\u001b[39;49m\u001b[43m,\u001b[49m\u001b[43m \u001b[49m\u001b[43murl\u001b[49m\u001b[43m,\u001b[49m\u001b[43m \u001b[49m\u001b[43mparams\u001b[49m\u001b[38;5;241;43m=\u001b[39;49m\u001b[43mparams\u001b[49m\u001b[43m,\u001b[49m\u001b[43m \u001b[49m\u001b[38;5;241;43m*\u001b[39;49m\u001b[38;5;241;43m*\u001b[39;49m\u001b[43mkwargs\u001b[49m\u001b[43m)\u001b[49m\n",
      "File \u001b[1;32mc:\\Users\\ASUS\\anaconda3\\envs\\workEnv\\Lib\\site-packages\\requests\\api.py:59\u001b[0m, in \u001b[0;36mrequest\u001b[1;34m(method, url, **kwargs)\u001b[0m\n\u001b[0;32m     55\u001b[0m \u001b[38;5;66;03m# By using the 'with' statement we are sure the session is closed, thus we\u001b[39;00m\n\u001b[0;32m     56\u001b[0m \u001b[38;5;66;03m# avoid leaving sockets open which can trigger a ResourceWarning in some\u001b[39;00m\n\u001b[0;32m     57\u001b[0m \u001b[38;5;66;03m# cases, and look like a memory leak in others.\u001b[39;00m\n\u001b[0;32m     58\u001b[0m \u001b[38;5;28;01mwith\u001b[39;00m sessions\u001b[38;5;241m.\u001b[39mSession() \u001b[38;5;28;01mas\u001b[39;00m session:\n\u001b[1;32m---> 59\u001b[0m     \u001b[38;5;28;01mreturn\u001b[39;00m \u001b[43msession\u001b[49m\u001b[38;5;241;43m.\u001b[39;49m\u001b[43mrequest\u001b[49m\u001b[43m(\u001b[49m\u001b[43mmethod\u001b[49m\u001b[38;5;241;43m=\u001b[39;49m\u001b[43mmethod\u001b[49m\u001b[43m,\u001b[49m\u001b[43m \u001b[49m\u001b[43murl\u001b[49m\u001b[38;5;241;43m=\u001b[39;49m\u001b[43murl\u001b[49m\u001b[43m,\u001b[49m\u001b[43m \u001b[49m\u001b[38;5;241;43m*\u001b[39;49m\u001b[38;5;241;43m*\u001b[39;49m\u001b[43mkwargs\u001b[49m\u001b[43m)\u001b[49m\n",
      "File \u001b[1;32mc:\\Users\\ASUS\\anaconda3\\envs\\workEnv\\Lib\\site-packages\\requests\\sessions.py:575\u001b[0m, in \u001b[0;36mSession.request\u001b[1;34m(self, method, url, params, data, headers, cookies, files, auth, timeout, allow_redirects, proxies, hooks, stream, verify, cert, json)\u001b[0m\n\u001b[0;32m    562\u001b[0m \u001b[38;5;66;03m# Create the Request.\u001b[39;00m\n\u001b[0;32m    563\u001b[0m req \u001b[38;5;241m=\u001b[39m Request(\n\u001b[0;32m    564\u001b[0m     method\u001b[38;5;241m=\u001b[39mmethod\u001b[38;5;241m.\u001b[39mupper(),\n\u001b[0;32m    565\u001b[0m     url\u001b[38;5;241m=\u001b[39murl,\n\u001b[1;32m   (...)\u001b[0m\n\u001b[0;32m    573\u001b[0m     hooks\u001b[38;5;241m=\u001b[39mhooks,\n\u001b[0;32m    574\u001b[0m )\n\u001b[1;32m--> 575\u001b[0m prep \u001b[38;5;241m=\u001b[39m \u001b[38;5;28;43mself\u001b[39;49m\u001b[38;5;241;43m.\u001b[39;49m\u001b[43mprepare_request\u001b[49m\u001b[43m(\u001b[49m\u001b[43mreq\u001b[49m\u001b[43m)\u001b[49m\n\u001b[0;32m    577\u001b[0m proxies \u001b[38;5;241m=\u001b[39m proxies \u001b[38;5;129;01mor\u001b[39;00m {}\n\u001b[0;32m    579\u001b[0m settings \u001b[38;5;241m=\u001b[39m \u001b[38;5;28mself\u001b[39m\u001b[38;5;241m.\u001b[39mmerge_environment_settings(\n\u001b[0;32m    580\u001b[0m     prep\u001b[38;5;241m.\u001b[39murl, proxies, stream, verify, cert\n\u001b[0;32m    581\u001b[0m )\n",
      "File \u001b[1;32mc:\\Users\\ASUS\\anaconda3\\envs\\workEnv\\Lib\\site-packages\\requests\\sessions.py:484\u001b[0m, in \u001b[0;36mSession.prepare_request\u001b[1;34m(self, request)\u001b[0m\n\u001b[0;32m    481\u001b[0m     auth \u001b[38;5;241m=\u001b[39m get_netrc_auth(request\u001b[38;5;241m.\u001b[39murl)\n\u001b[0;32m    483\u001b[0m p \u001b[38;5;241m=\u001b[39m PreparedRequest()\n\u001b[1;32m--> 484\u001b[0m \u001b[43mp\u001b[49m\u001b[38;5;241;43m.\u001b[39;49m\u001b[43mprepare\u001b[49m\u001b[43m(\u001b[49m\n\u001b[0;32m    485\u001b[0m \u001b[43m    \u001b[49m\u001b[43mmethod\u001b[49m\u001b[38;5;241;43m=\u001b[39;49m\u001b[43mrequest\u001b[49m\u001b[38;5;241;43m.\u001b[39;49m\u001b[43mmethod\u001b[49m\u001b[38;5;241;43m.\u001b[39;49m\u001b[43mupper\u001b[49m\u001b[43m(\u001b[49m\u001b[43m)\u001b[49m\u001b[43m,\u001b[49m\n\u001b[0;32m    486\u001b[0m \u001b[43m    \u001b[49m\u001b[43murl\u001b[49m\u001b[38;5;241;43m=\u001b[39;49m\u001b[43mrequest\u001b[49m\u001b[38;5;241;43m.\u001b[39;49m\u001b[43murl\u001b[49m\u001b[43m,\u001b[49m\n\u001b[0;32m    487\u001b[0m \u001b[43m    \u001b[49m\u001b[43mfiles\u001b[49m\u001b[38;5;241;43m=\u001b[39;49m\u001b[43mrequest\u001b[49m\u001b[38;5;241;43m.\u001b[39;49m\u001b[43mfiles\u001b[49m\u001b[43m,\u001b[49m\n\u001b[0;32m    488\u001b[0m \u001b[43m    \u001b[49m\u001b[43mdata\u001b[49m\u001b[38;5;241;43m=\u001b[39;49m\u001b[43mrequest\u001b[49m\u001b[38;5;241;43m.\u001b[39;49m\u001b[43mdata\u001b[49m\u001b[43m,\u001b[49m\n\u001b[0;32m    489\u001b[0m \u001b[43m    \u001b[49m\u001b[43mjson\u001b[49m\u001b[38;5;241;43m=\u001b[39;49m\u001b[43mrequest\u001b[49m\u001b[38;5;241;43m.\u001b[39;49m\u001b[43mjson\u001b[49m\u001b[43m,\u001b[49m\n\u001b[0;32m    490\u001b[0m \u001b[43m    \u001b[49m\u001b[43mheaders\u001b[49m\u001b[38;5;241;43m=\u001b[39;49m\u001b[43mmerge_setting\u001b[49m\u001b[43m(\u001b[49m\n\u001b[0;32m    491\u001b[0m \u001b[43m        \u001b[49m\u001b[43mrequest\u001b[49m\u001b[38;5;241;43m.\u001b[39;49m\u001b[43mheaders\u001b[49m\u001b[43m,\u001b[49m\u001b[43m \u001b[49m\u001b[38;5;28;43mself\u001b[39;49m\u001b[38;5;241;43m.\u001b[39;49m\u001b[43mheaders\u001b[49m\u001b[43m,\u001b[49m\u001b[43m \u001b[49m\u001b[43mdict_class\u001b[49m\u001b[38;5;241;43m=\u001b[39;49m\u001b[43mCaseInsensitiveDict\u001b[49m\n\u001b[0;32m    492\u001b[0m \u001b[43m    \u001b[49m\u001b[43m)\u001b[49m\u001b[43m,\u001b[49m\n\u001b[0;32m    493\u001b[0m \u001b[43m    \u001b[49m\u001b[43mparams\u001b[49m\u001b[38;5;241;43m=\u001b[39;49m\u001b[43mmerge_setting\u001b[49m\u001b[43m(\u001b[49m\u001b[43mrequest\u001b[49m\u001b[38;5;241;43m.\u001b[39;49m\u001b[43mparams\u001b[49m\u001b[43m,\u001b[49m\u001b[43m \u001b[49m\u001b[38;5;28;43mself\u001b[39;49m\u001b[38;5;241;43m.\u001b[39;49m\u001b[43mparams\u001b[49m\u001b[43m)\u001b[49m\u001b[43m,\u001b[49m\n\u001b[0;32m    494\u001b[0m \u001b[43m    \u001b[49m\u001b[43mauth\u001b[49m\u001b[38;5;241;43m=\u001b[39;49m\u001b[43mmerge_setting\u001b[49m\u001b[43m(\u001b[49m\u001b[43mauth\u001b[49m\u001b[43m,\u001b[49m\u001b[43m \u001b[49m\u001b[38;5;28;43mself\u001b[39;49m\u001b[38;5;241;43m.\u001b[39;49m\u001b[43mauth\u001b[49m\u001b[43m)\u001b[49m\u001b[43m,\u001b[49m\n\u001b[0;32m    495\u001b[0m \u001b[43m    \u001b[49m\u001b[43mcookies\u001b[49m\u001b[38;5;241;43m=\u001b[39;49m\u001b[43mmerged_cookies\u001b[49m\u001b[43m,\u001b[49m\n\u001b[0;32m    496\u001b[0m \u001b[43m    \u001b[49m\u001b[43mhooks\u001b[49m\u001b[38;5;241;43m=\u001b[39;49m\u001b[43mmerge_hooks\u001b[49m\u001b[43m(\u001b[49m\u001b[43mrequest\u001b[49m\u001b[38;5;241;43m.\u001b[39;49m\u001b[43mhooks\u001b[49m\u001b[43m,\u001b[49m\u001b[43m \u001b[49m\u001b[38;5;28;43mself\u001b[39;49m\u001b[38;5;241;43m.\u001b[39;49m\u001b[43mhooks\u001b[49m\u001b[43m)\u001b[49m\u001b[43m,\u001b[49m\n\u001b[0;32m    497\u001b[0m \u001b[43m\u001b[49m\u001b[43m)\u001b[49m\n\u001b[0;32m    498\u001b[0m \u001b[38;5;28;01mreturn\u001b[39;00m p\n",
      "File \u001b[1;32mc:\\Users\\ASUS\\anaconda3\\envs\\workEnv\\Lib\\site-packages\\requests\\models.py:367\u001b[0m, in \u001b[0;36mPreparedRequest.prepare\u001b[1;34m(self, method, url, headers, files, data, params, auth, cookies, hooks, json)\u001b[0m\n\u001b[0;32m    364\u001b[0m \u001b[38;5;250m\u001b[39m\u001b[38;5;124;03m\"\"\"Prepares the entire request with the given parameters.\"\"\"\u001b[39;00m\n\u001b[0;32m    366\u001b[0m \u001b[38;5;28mself\u001b[39m\u001b[38;5;241m.\u001b[39mprepare_method(method)\n\u001b[1;32m--> 367\u001b[0m \u001b[38;5;28;43mself\u001b[39;49m\u001b[38;5;241;43m.\u001b[39;49m\u001b[43mprepare_url\u001b[49m\u001b[43m(\u001b[49m\u001b[43murl\u001b[49m\u001b[43m,\u001b[49m\u001b[43m \u001b[49m\u001b[43mparams\u001b[49m\u001b[43m)\u001b[49m\n\u001b[0;32m    368\u001b[0m \u001b[38;5;28mself\u001b[39m\u001b[38;5;241m.\u001b[39mprepare_headers(headers)\n\u001b[0;32m    369\u001b[0m \u001b[38;5;28mself\u001b[39m\u001b[38;5;241m.\u001b[39mprepare_cookies(cookies)\n",
      "File \u001b[1;32mc:\\Users\\ASUS\\anaconda3\\envs\\workEnv\\Lib\\site-packages\\requests\\models.py:438\u001b[0m, in \u001b[0;36mPreparedRequest.prepare_url\u001b[1;34m(self, url, params)\u001b[0m\n\u001b[0;32m    435\u001b[0m     \u001b[38;5;28;01mraise\u001b[39;00m InvalidURL(\u001b[38;5;241m*\u001b[39me\u001b[38;5;241m.\u001b[39margs)\n\u001b[0;32m    437\u001b[0m \u001b[38;5;28;01mif\u001b[39;00m \u001b[38;5;129;01mnot\u001b[39;00m scheme:\n\u001b[1;32m--> 438\u001b[0m     \u001b[38;5;28;01mraise\u001b[39;00m MissingSchema(\n\u001b[0;32m    439\u001b[0m         \u001b[38;5;124mf\u001b[39m\u001b[38;5;124m\"\u001b[39m\u001b[38;5;124mInvalid URL \u001b[39m\u001b[38;5;132;01m{\u001b[39;00murl\u001b[38;5;132;01m!r}\u001b[39;00m\u001b[38;5;124m: No scheme supplied. \u001b[39m\u001b[38;5;124m\"\u001b[39m\n\u001b[0;32m    440\u001b[0m         \u001b[38;5;124mf\u001b[39m\u001b[38;5;124m\"\u001b[39m\u001b[38;5;124mPerhaps you meant https://\u001b[39m\u001b[38;5;132;01m{\u001b[39;00murl\u001b[38;5;132;01m}\u001b[39;00m\u001b[38;5;124m?\u001b[39m\u001b[38;5;124m\"\u001b[39m\n\u001b[0;32m    441\u001b[0m     )\n\u001b[0;32m    443\u001b[0m \u001b[38;5;28;01mif\u001b[39;00m \u001b[38;5;129;01mnot\u001b[39;00m host:\n\u001b[0;32m    444\u001b[0m     \u001b[38;5;28;01mraise\u001b[39;00m InvalidURL(\u001b[38;5;124mf\u001b[39m\u001b[38;5;124m\"\u001b[39m\u001b[38;5;124mInvalid URL \u001b[39m\u001b[38;5;132;01m{\u001b[39;00murl\u001b[38;5;132;01m!r}\u001b[39;00m\u001b[38;5;124m: No host supplied\u001b[39m\u001b[38;5;124m\"\u001b[39m)\n",
      "\u001b[1;31mMissingSchema\u001b[0m: Invalid URL 'financial_statement_search(1785)': No scheme supplied. Perhaps you meant https://financial_statement_search(1785)?"
     ]
    }
   ],
   "source": [
    "\"\"\"會遇到agent抓取到不對的url情形\"\"\"\n",
    "agent = create_react_agent(llm=groq_llm, tools=tools, prompt=prompt_one)\n",
    "agent_executor = AgentExecutor(agent=agent, tools=tools, handle_parsing_errors=True)\n",
    "\n",
    "# agent = create_tool_calling_agent(llm=groq_llm, tools=tools, prompt=prompt_one)\n",
    "# agent_executor = AgentExecutor(agent=agent, tools=tools, handle_parsing_errors=True)\n",
    "\n",
    "# agent = create_structured_chat_agent(llm=groq_llm, tools=tools, prompt=prompt_one)\n",
    "# agent_executor = AgentExecutor(agent=agent, tools=tools, handle_parsing_errors=True)\n",
    "\n",
    "url = 'https://goodinfo.tw/tw/StockFinGrade.asp?STOCK_ID=1785'\n",
    "agent_executor.invoke({\n",
    "    \"input\" :  \"How's the financial performance of this stock?\",\n",
    "    \"URL\": url\n",
    "})"
   ]
  },
  {
   "cell_type": "code",
   "execution_count": 40,
   "metadata": {},
   "outputs": [
    {
     "data": {
      "text/plain": [
       "'You are a helpful assistant'"
      ]
     },
     "execution_count": 40,
     "metadata": {},
     "output_type": "execute_result"
    }
   ],
   "source": [
    "# 第二種prompt (直接修改template)\n",
    "prompt_two = hub.pull(\"hwchase17/openai-functions-agent\")\n",
    "prompt_two.messages[0].prompt.template"
   ]
  },
  {
   "cell_type": "code",
   "execution_count": 42,
   "metadata": {},
   "outputs": [
    {
     "ename": "MissingSchema",
     "evalue": "Invalid URL '': No scheme supplied. Perhaps you meant https://?",
     "output_type": "error",
     "traceback": [
      "\u001b[1;31m---------------------------------------------------------------------------\u001b[0m",
      "\u001b[1;31mMissingSchema\u001b[0m                             Traceback (most recent call last)",
      "Cell \u001b[1;32mIn[42], line 11\u001b[0m\n\u001b[0;32m      7\u001b[0m \u001b[38;5;66;03m# agent = create_structured_chat_agent(llm=groq_llm, tools=tools, prompt=prompt_two)\u001b[39;00m\n\u001b[0;32m      8\u001b[0m \u001b[38;5;66;03m# agent_executor = AgentExecutor(agent=agent, tools=tools, handle_parsing_errors=True)\u001b[39;00m\n\u001b[0;32m     10\u001b[0m url \u001b[38;5;241m=\u001b[39m \u001b[38;5;124m'\u001b[39m\u001b[38;5;124mhttps://goodinfo.tw/tw/StockFinGrade.asp?STOCK_ID=1785\u001b[39m\u001b[38;5;124m'\u001b[39m\n\u001b[1;32m---> 11\u001b[0m \u001b[43magent_executor\u001b[49m\u001b[38;5;241;43m.\u001b[39;49m\u001b[43minvoke\u001b[49m\u001b[43m(\u001b[49m\u001b[43m{\u001b[49m\n\u001b[0;32m     12\u001b[0m \u001b[43m    \u001b[49m\u001b[38;5;124;43m\"\u001b[39;49m\u001b[38;5;124;43minput\u001b[39;49m\u001b[38;5;124;43m\"\u001b[39;49m\u001b[43m \u001b[49m\u001b[43m:\u001b[49m\u001b[43m  \u001b[49m\u001b[38;5;124;43m\"\u001b[39;49m\u001b[38;5;124;43mHow\u001b[39;49m\u001b[38;5;124;43m'\u001b[39;49m\u001b[38;5;124;43ms the financial performance of this stock?\u001b[39;49m\u001b[38;5;124;43m\"\u001b[39;49m\u001b[43m,\u001b[49m\n\u001b[0;32m     13\u001b[0m \u001b[43m    \u001b[49m\u001b[38;5;124;43m\"\u001b[39;49m\u001b[38;5;124;43mURL\u001b[39;49m\u001b[38;5;124;43m\"\u001b[39;49m\u001b[43m:\u001b[49m\u001b[43m \u001b[49m\u001b[43murl\u001b[49m\n\u001b[0;32m     14\u001b[0m \u001b[43m}\u001b[49m\u001b[43m)\u001b[49m\n",
      "File \u001b[1;32mc:\\Users\\ASUS\\anaconda3\\envs\\workEnv\\Lib\\site-packages\\langchain\\chains\\base.py:166\u001b[0m, in \u001b[0;36mChain.invoke\u001b[1;34m(self, input, config, **kwargs)\u001b[0m\n\u001b[0;32m    164\u001b[0m \u001b[38;5;28;01mexcept\u001b[39;00m \u001b[38;5;167;01mBaseException\u001b[39;00m \u001b[38;5;28;01mas\u001b[39;00m e:\n\u001b[0;32m    165\u001b[0m     run_manager\u001b[38;5;241m.\u001b[39mon_chain_error(e)\n\u001b[1;32m--> 166\u001b[0m     \u001b[38;5;28;01mraise\u001b[39;00m e\n\u001b[0;32m    167\u001b[0m run_manager\u001b[38;5;241m.\u001b[39mon_chain_end(outputs)\n\u001b[0;32m    169\u001b[0m \u001b[38;5;28;01mif\u001b[39;00m include_run_info:\n",
      "File \u001b[1;32mc:\\Users\\ASUS\\anaconda3\\envs\\workEnv\\Lib\\site-packages\\langchain\\chains\\base.py:156\u001b[0m, in \u001b[0;36mChain.invoke\u001b[1;34m(self, input, config, **kwargs)\u001b[0m\n\u001b[0;32m    153\u001b[0m \u001b[38;5;28;01mtry\u001b[39;00m:\n\u001b[0;32m    154\u001b[0m     \u001b[38;5;28mself\u001b[39m\u001b[38;5;241m.\u001b[39m_validate_inputs(inputs)\n\u001b[0;32m    155\u001b[0m     outputs \u001b[38;5;241m=\u001b[39m (\n\u001b[1;32m--> 156\u001b[0m         \u001b[38;5;28;43mself\u001b[39;49m\u001b[38;5;241;43m.\u001b[39;49m\u001b[43m_call\u001b[49m\u001b[43m(\u001b[49m\u001b[43minputs\u001b[49m\u001b[43m,\u001b[49m\u001b[43m \u001b[49m\u001b[43mrun_manager\u001b[49m\u001b[38;5;241;43m=\u001b[39;49m\u001b[43mrun_manager\u001b[49m\u001b[43m)\u001b[49m\n\u001b[0;32m    157\u001b[0m         \u001b[38;5;28;01mif\u001b[39;00m new_arg_supported\n\u001b[0;32m    158\u001b[0m         \u001b[38;5;28;01melse\u001b[39;00m \u001b[38;5;28mself\u001b[39m\u001b[38;5;241m.\u001b[39m_call(inputs)\n\u001b[0;32m    159\u001b[0m     )\n\u001b[0;32m    161\u001b[0m     final_outputs: Dict[\u001b[38;5;28mstr\u001b[39m, Any] \u001b[38;5;241m=\u001b[39m \u001b[38;5;28mself\u001b[39m\u001b[38;5;241m.\u001b[39mprep_outputs(\n\u001b[0;32m    162\u001b[0m         inputs, outputs, return_only_outputs\n\u001b[0;32m    163\u001b[0m     )\n\u001b[0;32m    164\u001b[0m \u001b[38;5;28;01mexcept\u001b[39;00m \u001b[38;5;167;01mBaseException\u001b[39;00m \u001b[38;5;28;01mas\u001b[39;00m e:\n",
      "File \u001b[1;32mc:\\Users\\ASUS\\anaconda3\\envs\\workEnv\\Lib\\site-packages\\langchain\\agents\\agent.py:1433\u001b[0m, in \u001b[0;36mAgentExecutor._call\u001b[1;34m(self, inputs, run_manager)\u001b[0m\n\u001b[0;32m   1431\u001b[0m \u001b[38;5;66;03m# We now enter the agent loop (until it returns something).\u001b[39;00m\n\u001b[0;32m   1432\u001b[0m \u001b[38;5;28;01mwhile\u001b[39;00m \u001b[38;5;28mself\u001b[39m\u001b[38;5;241m.\u001b[39m_should_continue(iterations, time_elapsed):\n\u001b[1;32m-> 1433\u001b[0m     next_step_output \u001b[38;5;241m=\u001b[39m \u001b[38;5;28;43mself\u001b[39;49m\u001b[38;5;241;43m.\u001b[39;49m\u001b[43m_take_next_step\u001b[49m\u001b[43m(\u001b[49m\n\u001b[0;32m   1434\u001b[0m \u001b[43m        \u001b[49m\u001b[43mname_to_tool_map\u001b[49m\u001b[43m,\u001b[49m\n\u001b[0;32m   1435\u001b[0m \u001b[43m        \u001b[49m\u001b[43mcolor_mapping\u001b[49m\u001b[43m,\u001b[49m\n\u001b[0;32m   1436\u001b[0m \u001b[43m        \u001b[49m\u001b[43minputs\u001b[49m\u001b[43m,\u001b[49m\n\u001b[0;32m   1437\u001b[0m \u001b[43m        \u001b[49m\u001b[43mintermediate_steps\u001b[49m\u001b[43m,\u001b[49m\n\u001b[0;32m   1438\u001b[0m \u001b[43m        \u001b[49m\u001b[43mrun_manager\u001b[49m\u001b[38;5;241;43m=\u001b[39;49m\u001b[43mrun_manager\u001b[49m\u001b[43m,\u001b[49m\n\u001b[0;32m   1439\u001b[0m \u001b[43m    \u001b[49m\u001b[43m)\u001b[49m\n\u001b[0;32m   1440\u001b[0m     \u001b[38;5;28;01mif\u001b[39;00m \u001b[38;5;28misinstance\u001b[39m(next_step_output, AgentFinish):\n\u001b[0;32m   1441\u001b[0m         \u001b[38;5;28;01mreturn\u001b[39;00m \u001b[38;5;28mself\u001b[39m\u001b[38;5;241m.\u001b[39m_return(\n\u001b[0;32m   1442\u001b[0m             next_step_output, intermediate_steps, run_manager\u001b[38;5;241m=\u001b[39mrun_manager\n\u001b[0;32m   1443\u001b[0m         )\n",
      "File \u001b[1;32mc:\\Users\\ASUS\\anaconda3\\envs\\workEnv\\Lib\\site-packages\\langchain\\agents\\agent.py:1139\u001b[0m, in \u001b[0;36mAgentExecutor._take_next_step\u001b[1;34m(self, name_to_tool_map, color_mapping, inputs, intermediate_steps, run_manager)\u001b[0m\n\u001b[0;32m   1130\u001b[0m \u001b[38;5;28;01mdef\u001b[39;00m \u001b[38;5;21m_take_next_step\u001b[39m(\n\u001b[0;32m   1131\u001b[0m     \u001b[38;5;28mself\u001b[39m,\n\u001b[0;32m   1132\u001b[0m     name_to_tool_map: Dict[\u001b[38;5;28mstr\u001b[39m, BaseTool],\n\u001b[1;32m   (...)\u001b[0m\n\u001b[0;32m   1136\u001b[0m     run_manager: Optional[CallbackManagerForChainRun] \u001b[38;5;241m=\u001b[39m \u001b[38;5;28;01mNone\u001b[39;00m,\n\u001b[0;32m   1137\u001b[0m ) \u001b[38;5;241m-\u001b[39m\u001b[38;5;241m>\u001b[39m Union[AgentFinish, List[Tuple[AgentAction, \u001b[38;5;28mstr\u001b[39m]]]:\n\u001b[0;32m   1138\u001b[0m     \u001b[38;5;28;01mreturn\u001b[39;00m \u001b[38;5;28mself\u001b[39m\u001b[38;5;241m.\u001b[39m_consume_next_step(\n\u001b[1;32m-> 1139\u001b[0m         \u001b[43m[\u001b[49m\n\u001b[0;32m   1140\u001b[0m \u001b[43m            \u001b[49m\u001b[43ma\u001b[49m\n\u001b[0;32m   1141\u001b[0m \u001b[43m            \u001b[49m\u001b[38;5;28;43;01mfor\u001b[39;49;00m\u001b[43m \u001b[49m\u001b[43ma\u001b[49m\u001b[43m \u001b[49m\u001b[38;5;129;43;01min\u001b[39;49;00m\u001b[43m \u001b[49m\u001b[38;5;28;43mself\u001b[39;49m\u001b[38;5;241;43m.\u001b[39;49m\u001b[43m_iter_next_step\u001b[49m\u001b[43m(\u001b[49m\n\u001b[0;32m   1142\u001b[0m \u001b[43m                \u001b[49m\u001b[43mname_to_tool_map\u001b[49m\u001b[43m,\u001b[49m\n\u001b[0;32m   1143\u001b[0m \u001b[43m                \u001b[49m\u001b[43mcolor_mapping\u001b[49m\u001b[43m,\u001b[49m\n\u001b[0;32m   1144\u001b[0m \u001b[43m                \u001b[49m\u001b[43minputs\u001b[49m\u001b[43m,\u001b[49m\n\u001b[0;32m   1145\u001b[0m \u001b[43m                \u001b[49m\u001b[43mintermediate_steps\u001b[49m\u001b[43m,\u001b[49m\n\u001b[0;32m   1146\u001b[0m \u001b[43m                \u001b[49m\u001b[43mrun_manager\u001b[49m\u001b[43m,\u001b[49m\n\u001b[0;32m   1147\u001b[0m \u001b[43m            \u001b[49m\u001b[43m)\u001b[49m\n\u001b[0;32m   1148\u001b[0m \u001b[43m        \u001b[49m\u001b[43m]\u001b[49m\n\u001b[0;32m   1149\u001b[0m     )\n",
      "File \u001b[1;32mc:\\Users\\ASUS\\anaconda3\\envs\\workEnv\\Lib\\site-packages\\langchain\\agents\\agent.py:1139\u001b[0m, in \u001b[0;36m<listcomp>\u001b[1;34m(.0)\u001b[0m\n\u001b[0;32m   1130\u001b[0m \u001b[38;5;28;01mdef\u001b[39;00m \u001b[38;5;21m_take_next_step\u001b[39m(\n\u001b[0;32m   1131\u001b[0m     \u001b[38;5;28mself\u001b[39m,\n\u001b[0;32m   1132\u001b[0m     name_to_tool_map: Dict[\u001b[38;5;28mstr\u001b[39m, BaseTool],\n\u001b[1;32m   (...)\u001b[0m\n\u001b[0;32m   1136\u001b[0m     run_manager: Optional[CallbackManagerForChainRun] \u001b[38;5;241m=\u001b[39m \u001b[38;5;28;01mNone\u001b[39;00m,\n\u001b[0;32m   1137\u001b[0m ) \u001b[38;5;241m-\u001b[39m\u001b[38;5;241m>\u001b[39m Union[AgentFinish, List[Tuple[AgentAction, \u001b[38;5;28mstr\u001b[39m]]]:\n\u001b[0;32m   1138\u001b[0m     \u001b[38;5;28;01mreturn\u001b[39;00m \u001b[38;5;28mself\u001b[39m\u001b[38;5;241m.\u001b[39m_consume_next_step(\n\u001b[1;32m-> 1139\u001b[0m         [\n\u001b[0;32m   1140\u001b[0m             a\n\u001b[0;32m   1141\u001b[0m             \u001b[38;5;28;01mfor\u001b[39;00m a \u001b[38;5;129;01min\u001b[39;00m \u001b[38;5;28mself\u001b[39m\u001b[38;5;241m.\u001b[39m_iter_next_step(\n\u001b[0;32m   1142\u001b[0m                 name_to_tool_map,\n\u001b[0;32m   1143\u001b[0m                 color_mapping,\n\u001b[0;32m   1144\u001b[0m                 inputs,\n\u001b[0;32m   1145\u001b[0m                 intermediate_steps,\n\u001b[0;32m   1146\u001b[0m                 run_manager,\n\u001b[0;32m   1147\u001b[0m             )\n\u001b[0;32m   1148\u001b[0m         ]\n\u001b[0;32m   1149\u001b[0m     )\n",
      "File \u001b[1;32mc:\\Users\\ASUS\\anaconda3\\envs\\workEnv\\Lib\\site-packages\\langchain\\agents\\agent.py:1224\u001b[0m, in \u001b[0;36mAgentExecutor._iter_next_step\u001b[1;34m(self, name_to_tool_map, color_mapping, inputs, intermediate_steps, run_manager)\u001b[0m\n\u001b[0;32m   1222\u001b[0m     \u001b[38;5;28;01myield\u001b[39;00m agent_action\n\u001b[0;32m   1223\u001b[0m \u001b[38;5;28;01mfor\u001b[39;00m agent_action \u001b[38;5;129;01min\u001b[39;00m actions:\n\u001b[1;32m-> 1224\u001b[0m     \u001b[38;5;28;01myield\u001b[39;00m \u001b[38;5;28;43mself\u001b[39;49m\u001b[38;5;241;43m.\u001b[39;49m\u001b[43m_perform_agent_action\u001b[49m\u001b[43m(\u001b[49m\n\u001b[0;32m   1225\u001b[0m \u001b[43m        \u001b[49m\u001b[43mname_to_tool_map\u001b[49m\u001b[43m,\u001b[49m\u001b[43m \u001b[49m\u001b[43mcolor_mapping\u001b[49m\u001b[43m,\u001b[49m\u001b[43m \u001b[49m\u001b[43magent_action\u001b[49m\u001b[43m,\u001b[49m\u001b[43m \u001b[49m\u001b[43mrun_manager\u001b[49m\n\u001b[0;32m   1226\u001b[0m \u001b[43m    \u001b[49m\u001b[43m)\u001b[49m\n",
      "File \u001b[1;32mc:\\Users\\ASUS\\anaconda3\\envs\\workEnv\\Lib\\site-packages\\langchain\\agents\\agent.py:1246\u001b[0m, in \u001b[0;36mAgentExecutor._perform_agent_action\u001b[1;34m(self, name_to_tool_map, color_mapping, agent_action, run_manager)\u001b[0m\n\u001b[0;32m   1244\u001b[0m         tool_run_kwargs[\u001b[38;5;124m\"\u001b[39m\u001b[38;5;124mllm_prefix\u001b[39m\u001b[38;5;124m\"\u001b[39m] \u001b[38;5;241m=\u001b[39m \u001b[38;5;124m\"\u001b[39m\u001b[38;5;124m\"\u001b[39m\n\u001b[0;32m   1245\u001b[0m     \u001b[38;5;66;03m# We then call the tool on the tool input to get an observation\u001b[39;00m\n\u001b[1;32m-> 1246\u001b[0m     observation \u001b[38;5;241m=\u001b[39m \u001b[43mtool\u001b[49m\u001b[38;5;241;43m.\u001b[39;49m\u001b[43mrun\u001b[49m\u001b[43m(\u001b[49m\n\u001b[0;32m   1247\u001b[0m \u001b[43m        \u001b[49m\u001b[43magent_action\u001b[49m\u001b[38;5;241;43m.\u001b[39;49m\u001b[43mtool_input\u001b[49m\u001b[43m,\u001b[49m\n\u001b[0;32m   1248\u001b[0m \u001b[43m        \u001b[49m\u001b[43mverbose\u001b[49m\u001b[38;5;241;43m=\u001b[39;49m\u001b[38;5;28;43mself\u001b[39;49m\u001b[38;5;241;43m.\u001b[39;49m\u001b[43mverbose\u001b[49m\u001b[43m,\u001b[49m\n\u001b[0;32m   1249\u001b[0m \u001b[43m        \u001b[49m\u001b[43mcolor\u001b[49m\u001b[38;5;241;43m=\u001b[39;49m\u001b[43mcolor\u001b[49m\u001b[43m,\u001b[49m\n\u001b[0;32m   1250\u001b[0m \u001b[43m        \u001b[49m\u001b[43mcallbacks\u001b[49m\u001b[38;5;241;43m=\u001b[39;49m\u001b[43mrun_manager\u001b[49m\u001b[38;5;241;43m.\u001b[39;49m\u001b[43mget_child\u001b[49m\u001b[43m(\u001b[49m\u001b[43m)\u001b[49m\u001b[43m \u001b[49m\u001b[38;5;28;43;01mif\u001b[39;49;00m\u001b[43m \u001b[49m\u001b[43mrun_manager\u001b[49m\u001b[43m \u001b[49m\u001b[38;5;28;43;01melse\u001b[39;49;00m\u001b[43m \u001b[49m\u001b[38;5;28;43;01mNone\u001b[39;49;00m\u001b[43m,\u001b[49m\n\u001b[0;32m   1251\u001b[0m \u001b[43m        \u001b[49m\u001b[38;5;241;43m*\u001b[39;49m\u001b[38;5;241;43m*\u001b[39;49m\u001b[43mtool_run_kwargs\u001b[49m\u001b[43m,\u001b[49m\n\u001b[0;32m   1252\u001b[0m \u001b[43m    \u001b[49m\u001b[43m)\u001b[49m\n\u001b[0;32m   1253\u001b[0m \u001b[38;5;28;01melse\u001b[39;00m:\n\u001b[0;32m   1254\u001b[0m     tool_run_kwargs \u001b[38;5;241m=\u001b[39m \u001b[38;5;28mself\u001b[39m\u001b[38;5;241m.\u001b[39magent\u001b[38;5;241m.\u001b[39mtool_run_logging_kwargs()\n",
      "File \u001b[1;32mc:\\Users\\ASUS\\anaconda3\\envs\\workEnv\\Lib\\site-packages\\langchain_core\\tools.py:626\u001b[0m, in \u001b[0;36mBaseTool.run\u001b[1;34m(self, tool_input, verbose, start_color, color, callbacks, tags, metadata, run_name, run_id, config, tool_call_id, **kwargs)\u001b[0m\n\u001b[0;32m    624\u001b[0m \u001b[38;5;28;01mif\u001b[39;00m error_to_raise:\n\u001b[0;32m    625\u001b[0m     run_manager\u001b[38;5;241m.\u001b[39mon_tool_error(error_to_raise)\n\u001b[1;32m--> 626\u001b[0m     \u001b[38;5;28;01mraise\u001b[39;00m error_to_raise\n\u001b[0;32m    627\u001b[0m output \u001b[38;5;241m=\u001b[39m _format_output(content, artifact, tool_call_id, \u001b[38;5;28mself\u001b[39m\u001b[38;5;241m.\u001b[39mname)\n\u001b[0;32m    628\u001b[0m run_manager\u001b[38;5;241m.\u001b[39mon_tool_end(output, color\u001b[38;5;241m=\u001b[39mcolor, name\u001b[38;5;241m=\u001b[39m\u001b[38;5;28mself\u001b[39m\u001b[38;5;241m.\u001b[39mname, \u001b[38;5;241m*\u001b[39m\u001b[38;5;241m*\u001b[39mkwargs)\n",
      "File \u001b[1;32mc:\\Users\\ASUS\\anaconda3\\envs\\workEnv\\Lib\\site-packages\\langchain_core\\tools.py:599\u001b[0m, in \u001b[0;36mBaseTool.run\u001b[1;34m(self, tool_input, verbose, start_color, color, callbacks, tags, metadata, run_name, run_id, config, tool_call_id, **kwargs)\u001b[0m\n\u001b[0;32m    597\u001b[0m \u001b[38;5;28;01mif\u001b[39;00m config_param \u001b[38;5;241m:=\u001b[39m _get_runnable_config_param(\u001b[38;5;28mself\u001b[39m\u001b[38;5;241m.\u001b[39m_run):\n\u001b[0;32m    598\u001b[0m     tool_kwargs[config_param] \u001b[38;5;241m=\u001b[39m config\n\u001b[1;32m--> 599\u001b[0m response \u001b[38;5;241m=\u001b[39m \u001b[43mcontext\u001b[49m\u001b[38;5;241;43m.\u001b[39;49m\u001b[43mrun\u001b[49m\u001b[43m(\u001b[49m\u001b[38;5;28;43mself\u001b[39;49m\u001b[38;5;241;43m.\u001b[39;49m\u001b[43m_run\u001b[49m\u001b[43m,\u001b[49m\u001b[43m \u001b[49m\u001b[38;5;241;43m*\u001b[39;49m\u001b[43mtool_args\u001b[49m\u001b[43m,\u001b[49m\u001b[43m \u001b[49m\u001b[38;5;241;43m*\u001b[39;49m\u001b[38;5;241;43m*\u001b[39;49m\u001b[43mtool_kwargs\u001b[49m\u001b[43m)\u001b[49m\n\u001b[0;32m    600\u001b[0m \u001b[38;5;28;01mif\u001b[39;00m \u001b[38;5;28mself\u001b[39m\u001b[38;5;241m.\u001b[39mresponse_format \u001b[38;5;241m==\u001b[39m \u001b[38;5;124m\"\u001b[39m\u001b[38;5;124mcontent_and_artifact\u001b[39m\u001b[38;5;124m\"\u001b[39m:\n\u001b[0;32m    601\u001b[0m     \u001b[38;5;28;01mif\u001b[39;00m \u001b[38;5;129;01mnot\u001b[39;00m \u001b[38;5;28misinstance\u001b[39m(response, \u001b[38;5;28mtuple\u001b[39m) \u001b[38;5;129;01mor\u001b[39;00m \u001b[38;5;28mlen\u001b[39m(response) \u001b[38;5;241m!=\u001b[39m \u001b[38;5;241m2\u001b[39m:\n",
      "Cell \u001b[1;32mIn[34], line 11\u001b[0m, in \u001b[0;36mfinScore._run\u001b[1;34m(self, url)\u001b[0m\n\u001b[0;32m      6\u001b[0m \u001b[38;5;28;01mdef\u001b[39;00m \u001b[38;5;21m_run\u001b[39m(\u001b[38;5;28mself\u001b[39m, url: \u001b[38;5;28mstr\u001b[39m):\n\u001b[0;32m      7\u001b[0m     headers \u001b[38;5;241m=\u001b[39m {\n\u001b[0;32m      8\u001b[0m     \u001b[38;5;124m\"\u001b[39m\u001b[38;5;124mUser-Agent\u001b[39m\u001b[38;5;124m\"\u001b[39m: \u001b[38;5;124m\"\u001b[39m\u001b[38;5;124mMozilla/5.0 (Windows NT 10.0; Win64; x64) AppleWebKit/537.36 (KHTML, like Gecko) Chrome/124.0.0.0 Safari/537.36\u001b[39m\u001b[38;5;124m\"\u001b[39m,\n\u001b[0;32m      9\u001b[0m     \u001b[38;5;124m\"\u001b[39m\u001b[38;5;124mCookie\u001b[39m\u001b[38;5;124m\"\u001b[39m:\u001b[38;5;124m\"\u001b[39m\u001b[38;5;124mIS_TOUCH_DEVICE=F; SCREEN_SIZE=WIDTH=1536&HEIGHT=864; _ga=GA1.1.134640417.1718698272; __gads=ID=b42b9ba3a594ff97:T=1718698274:RT=1718698274:S=ALNI_MZ1kFXN3htHHdY3ZGXMWn10JYhrSg; __gpi=UID=00000e5315d89fdd:T=1718698274:RT=1718698274:S=ALNI_MbuXU-bLcaSUcqYleIOzqDTTFxMKw; __eoi=ID=0b4097d725162137:T=1718698274:RT=1718698274:S=AA-AfjYZbznwQCxhcZLVvPaxBsjM; CLIENT\u001b[39m\u001b[38;5;132;01m%5F\u001b[39;00m\u001b[38;5;124mID=20240618161154117\u001b[39m\u001b[38;5;132;01m%5F\u001b[39;00m\u001b[38;5;124m156\u001b[39m\u001b[38;5;132;01m%2E\u001b[39;00m\u001b[38;5;124m59\u001b[39m\u001b[38;5;132;01m%2E\u001b[39;00m\u001b[38;5;124m34\u001b[39m\u001b[38;5;132;01m%2E\u001b[39;00m\u001b[38;5;124m83; TW_STOCK_BROWSE_LIST=1785; FCNEC=\u001b[39m\u001b[38;5;124m%\u001b[39m\u001b[38;5;124m5B\u001b[39m\u001b[38;5;124m%\u001b[39m\u001b[38;5;124m5B\u001b[39m\u001b[38;5;124m%\u001b[39m\u001b[38;5;124m22AKsRol9Vv6qLdMCxvuvjU1sRPiybs9UpKWKftBn8q79OO4v-hfpBOUrtI8lvc5IyBwM6YVFPrwpug-bkB5ZnUxeYa32E4ABhLsrT0WBiN7XtnBuMv34o7xKNpJr4oHhvNFGW7d-M66kzUq0TLx_w8ci83BQW9DAuiA\u001b[39m\u001b[38;5;124m%\u001b[39m\u001b[38;5;124m3D\u001b[39m\u001b[38;5;124m%\u001b[39m\u001b[38;5;124m3D\u001b[39m\u001b[38;5;132;01m%22%\u001b[39;00m\u001b[38;5;124m5D\u001b[39m\u001b[38;5;124m%\u001b[39m\u001b[38;5;124m5D; _ga_0LP5MLQS7E=GS1.1.1718698272.1.1.1718698563.60.0.0\u001b[39m\u001b[38;5;124m\"\u001b[39m\n\u001b[0;32m     10\u001b[0m     }\n\u001b[1;32m---> 11\u001b[0m     response \u001b[38;5;241m=\u001b[39m \u001b[43mrequests\u001b[49m\u001b[38;5;241;43m.\u001b[39;49m\u001b[43mget\u001b[49m\u001b[43m(\u001b[49m\u001b[43murl\u001b[49m\u001b[43m,\u001b[49m\u001b[43m \u001b[49m\u001b[43mheaders\u001b[49m\u001b[38;5;241;43m=\u001b[39;49m\u001b[43mheaders\u001b[49m\u001b[43m)\u001b[49m\n\u001b[0;32m     12\u001b[0m     response\u001b[38;5;241m.\u001b[39mencoding \u001b[38;5;241m=\u001b[39m \u001b[38;5;124m'\u001b[39m\u001b[38;5;124mutf-8\u001b[39m\u001b[38;5;124m'\u001b[39m\n\u001b[0;32m     13\u001b[0m     html_content \u001b[38;5;241m=\u001b[39m response\u001b[38;5;241m.\u001b[39mtext\n",
      "File \u001b[1;32mc:\\Users\\ASUS\\anaconda3\\envs\\workEnv\\Lib\\site-packages\\requests\\api.py:73\u001b[0m, in \u001b[0;36mget\u001b[1;34m(url, params, **kwargs)\u001b[0m\n\u001b[0;32m     62\u001b[0m \u001b[38;5;28;01mdef\u001b[39;00m \u001b[38;5;21mget\u001b[39m(url, params\u001b[38;5;241m=\u001b[39m\u001b[38;5;28;01mNone\u001b[39;00m, \u001b[38;5;241m*\u001b[39m\u001b[38;5;241m*\u001b[39mkwargs):\n\u001b[0;32m     63\u001b[0m \u001b[38;5;250m    \u001b[39m\u001b[38;5;124mr\u001b[39m\u001b[38;5;124;03m\"\"\"Sends a GET request.\u001b[39;00m\n\u001b[0;32m     64\u001b[0m \n\u001b[0;32m     65\u001b[0m \u001b[38;5;124;03m    :param url: URL for the new :class:`Request` object.\u001b[39;00m\n\u001b[1;32m   (...)\u001b[0m\n\u001b[0;32m     70\u001b[0m \u001b[38;5;124;03m    :rtype: requests.Response\u001b[39;00m\n\u001b[0;32m     71\u001b[0m \u001b[38;5;124;03m    \"\"\"\u001b[39;00m\n\u001b[1;32m---> 73\u001b[0m     \u001b[38;5;28;01mreturn\u001b[39;00m \u001b[43mrequest\u001b[49m\u001b[43m(\u001b[49m\u001b[38;5;124;43m\"\u001b[39;49m\u001b[38;5;124;43mget\u001b[39;49m\u001b[38;5;124;43m\"\u001b[39;49m\u001b[43m,\u001b[49m\u001b[43m \u001b[49m\u001b[43murl\u001b[49m\u001b[43m,\u001b[49m\u001b[43m \u001b[49m\u001b[43mparams\u001b[49m\u001b[38;5;241;43m=\u001b[39;49m\u001b[43mparams\u001b[49m\u001b[43m,\u001b[49m\u001b[43m \u001b[49m\u001b[38;5;241;43m*\u001b[39;49m\u001b[38;5;241;43m*\u001b[39;49m\u001b[43mkwargs\u001b[49m\u001b[43m)\u001b[49m\n",
      "File \u001b[1;32mc:\\Users\\ASUS\\anaconda3\\envs\\workEnv\\Lib\\site-packages\\requests\\api.py:59\u001b[0m, in \u001b[0;36mrequest\u001b[1;34m(method, url, **kwargs)\u001b[0m\n\u001b[0;32m     55\u001b[0m \u001b[38;5;66;03m# By using the 'with' statement we are sure the session is closed, thus we\u001b[39;00m\n\u001b[0;32m     56\u001b[0m \u001b[38;5;66;03m# avoid leaving sockets open which can trigger a ResourceWarning in some\u001b[39;00m\n\u001b[0;32m     57\u001b[0m \u001b[38;5;66;03m# cases, and look like a memory leak in others.\u001b[39;00m\n\u001b[0;32m     58\u001b[0m \u001b[38;5;28;01mwith\u001b[39;00m sessions\u001b[38;5;241m.\u001b[39mSession() \u001b[38;5;28;01mas\u001b[39;00m session:\n\u001b[1;32m---> 59\u001b[0m     \u001b[38;5;28;01mreturn\u001b[39;00m \u001b[43msession\u001b[49m\u001b[38;5;241;43m.\u001b[39;49m\u001b[43mrequest\u001b[49m\u001b[43m(\u001b[49m\u001b[43mmethod\u001b[49m\u001b[38;5;241;43m=\u001b[39;49m\u001b[43mmethod\u001b[49m\u001b[43m,\u001b[49m\u001b[43m \u001b[49m\u001b[43murl\u001b[49m\u001b[38;5;241;43m=\u001b[39;49m\u001b[43murl\u001b[49m\u001b[43m,\u001b[49m\u001b[43m \u001b[49m\u001b[38;5;241;43m*\u001b[39;49m\u001b[38;5;241;43m*\u001b[39;49m\u001b[43mkwargs\u001b[49m\u001b[43m)\u001b[49m\n",
      "File \u001b[1;32mc:\\Users\\ASUS\\anaconda3\\envs\\workEnv\\Lib\\site-packages\\requests\\sessions.py:575\u001b[0m, in \u001b[0;36mSession.request\u001b[1;34m(self, method, url, params, data, headers, cookies, files, auth, timeout, allow_redirects, proxies, hooks, stream, verify, cert, json)\u001b[0m\n\u001b[0;32m    562\u001b[0m \u001b[38;5;66;03m# Create the Request.\u001b[39;00m\n\u001b[0;32m    563\u001b[0m req \u001b[38;5;241m=\u001b[39m Request(\n\u001b[0;32m    564\u001b[0m     method\u001b[38;5;241m=\u001b[39mmethod\u001b[38;5;241m.\u001b[39mupper(),\n\u001b[0;32m    565\u001b[0m     url\u001b[38;5;241m=\u001b[39murl,\n\u001b[1;32m   (...)\u001b[0m\n\u001b[0;32m    573\u001b[0m     hooks\u001b[38;5;241m=\u001b[39mhooks,\n\u001b[0;32m    574\u001b[0m )\n\u001b[1;32m--> 575\u001b[0m prep \u001b[38;5;241m=\u001b[39m \u001b[38;5;28;43mself\u001b[39;49m\u001b[38;5;241;43m.\u001b[39;49m\u001b[43mprepare_request\u001b[49m\u001b[43m(\u001b[49m\u001b[43mreq\u001b[49m\u001b[43m)\u001b[49m\n\u001b[0;32m    577\u001b[0m proxies \u001b[38;5;241m=\u001b[39m proxies \u001b[38;5;129;01mor\u001b[39;00m {}\n\u001b[0;32m    579\u001b[0m settings \u001b[38;5;241m=\u001b[39m \u001b[38;5;28mself\u001b[39m\u001b[38;5;241m.\u001b[39mmerge_environment_settings(\n\u001b[0;32m    580\u001b[0m     prep\u001b[38;5;241m.\u001b[39murl, proxies, stream, verify, cert\n\u001b[0;32m    581\u001b[0m )\n",
      "File \u001b[1;32mc:\\Users\\ASUS\\anaconda3\\envs\\workEnv\\Lib\\site-packages\\requests\\sessions.py:484\u001b[0m, in \u001b[0;36mSession.prepare_request\u001b[1;34m(self, request)\u001b[0m\n\u001b[0;32m    481\u001b[0m     auth \u001b[38;5;241m=\u001b[39m get_netrc_auth(request\u001b[38;5;241m.\u001b[39murl)\n\u001b[0;32m    483\u001b[0m p \u001b[38;5;241m=\u001b[39m PreparedRequest()\n\u001b[1;32m--> 484\u001b[0m \u001b[43mp\u001b[49m\u001b[38;5;241;43m.\u001b[39;49m\u001b[43mprepare\u001b[49m\u001b[43m(\u001b[49m\n\u001b[0;32m    485\u001b[0m \u001b[43m    \u001b[49m\u001b[43mmethod\u001b[49m\u001b[38;5;241;43m=\u001b[39;49m\u001b[43mrequest\u001b[49m\u001b[38;5;241;43m.\u001b[39;49m\u001b[43mmethod\u001b[49m\u001b[38;5;241;43m.\u001b[39;49m\u001b[43mupper\u001b[49m\u001b[43m(\u001b[49m\u001b[43m)\u001b[49m\u001b[43m,\u001b[49m\n\u001b[0;32m    486\u001b[0m \u001b[43m    \u001b[49m\u001b[43murl\u001b[49m\u001b[38;5;241;43m=\u001b[39;49m\u001b[43mrequest\u001b[49m\u001b[38;5;241;43m.\u001b[39;49m\u001b[43murl\u001b[49m\u001b[43m,\u001b[49m\n\u001b[0;32m    487\u001b[0m \u001b[43m    \u001b[49m\u001b[43mfiles\u001b[49m\u001b[38;5;241;43m=\u001b[39;49m\u001b[43mrequest\u001b[49m\u001b[38;5;241;43m.\u001b[39;49m\u001b[43mfiles\u001b[49m\u001b[43m,\u001b[49m\n\u001b[0;32m    488\u001b[0m \u001b[43m    \u001b[49m\u001b[43mdata\u001b[49m\u001b[38;5;241;43m=\u001b[39;49m\u001b[43mrequest\u001b[49m\u001b[38;5;241;43m.\u001b[39;49m\u001b[43mdata\u001b[49m\u001b[43m,\u001b[49m\n\u001b[0;32m    489\u001b[0m \u001b[43m    \u001b[49m\u001b[43mjson\u001b[49m\u001b[38;5;241;43m=\u001b[39;49m\u001b[43mrequest\u001b[49m\u001b[38;5;241;43m.\u001b[39;49m\u001b[43mjson\u001b[49m\u001b[43m,\u001b[49m\n\u001b[0;32m    490\u001b[0m \u001b[43m    \u001b[49m\u001b[43mheaders\u001b[49m\u001b[38;5;241;43m=\u001b[39;49m\u001b[43mmerge_setting\u001b[49m\u001b[43m(\u001b[49m\n\u001b[0;32m    491\u001b[0m \u001b[43m        \u001b[49m\u001b[43mrequest\u001b[49m\u001b[38;5;241;43m.\u001b[39;49m\u001b[43mheaders\u001b[49m\u001b[43m,\u001b[49m\u001b[43m \u001b[49m\u001b[38;5;28;43mself\u001b[39;49m\u001b[38;5;241;43m.\u001b[39;49m\u001b[43mheaders\u001b[49m\u001b[43m,\u001b[49m\u001b[43m \u001b[49m\u001b[43mdict_class\u001b[49m\u001b[38;5;241;43m=\u001b[39;49m\u001b[43mCaseInsensitiveDict\u001b[49m\n\u001b[0;32m    492\u001b[0m \u001b[43m    \u001b[49m\u001b[43m)\u001b[49m\u001b[43m,\u001b[49m\n\u001b[0;32m    493\u001b[0m \u001b[43m    \u001b[49m\u001b[43mparams\u001b[49m\u001b[38;5;241;43m=\u001b[39;49m\u001b[43mmerge_setting\u001b[49m\u001b[43m(\u001b[49m\u001b[43mrequest\u001b[49m\u001b[38;5;241;43m.\u001b[39;49m\u001b[43mparams\u001b[49m\u001b[43m,\u001b[49m\u001b[43m \u001b[49m\u001b[38;5;28;43mself\u001b[39;49m\u001b[38;5;241;43m.\u001b[39;49m\u001b[43mparams\u001b[49m\u001b[43m)\u001b[49m\u001b[43m,\u001b[49m\n\u001b[0;32m    494\u001b[0m \u001b[43m    \u001b[49m\u001b[43mauth\u001b[49m\u001b[38;5;241;43m=\u001b[39;49m\u001b[43mmerge_setting\u001b[49m\u001b[43m(\u001b[49m\u001b[43mauth\u001b[49m\u001b[43m,\u001b[49m\u001b[43m \u001b[49m\u001b[38;5;28;43mself\u001b[39;49m\u001b[38;5;241;43m.\u001b[39;49m\u001b[43mauth\u001b[49m\u001b[43m)\u001b[49m\u001b[43m,\u001b[49m\n\u001b[0;32m    495\u001b[0m \u001b[43m    \u001b[49m\u001b[43mcookies\u001b[49m\u001b[38;5;241;43m=\u001b[39;49m\u001b[43mmerged_cookies\u001b[49m\u001b[43m,\u001b[49m\n\u001b[0;32m    496\u001b[0m \u001b[43m    \u001b[49m\u001b[43mhooks\u001b[49m\u001b[38;5;241;43m=\u001b[39;49m\u001b[43mmerge_hooks\u001b[49m\u001b[43m(\u001b[49m\u001b[43mrequest\u001b[49m\u001b[38;5;241;43m.\u001b[39;49m\u001b[43mhooks\u001b[49m\u001b[43m,\u001b[49m\u001b[43m \u001b[49m\u001b[38;5;28;43mself\u001b[39;49m\u001b[38;5;241;43m.\u001b[39;49m\u001b[43mhooks\u001b[49m\u001b[43m)\u001b[49m\u001b[43m,\u001b[49m\n\u001b[0;32m    497\u001b[0m \u001b[43m\u001b[49m\u001b[43m)\u001b[49m\n\u001b[0;32m    498\u001b[0m \u001b[38;5;28;01mreturn\u001b[39;00m p\n",
      "File \u001b[1;32mc:\\Users\\ASUS\\anaconda3\\envs\\workEnv\\Lib\\site-packages\\requests\\models.py:367\u001b[0m, in \u001b[0;36mPreparedRequest.prepare\u001b[1;34m(self, method, url, headers, files, data, params, auth, cookies, hooks, json)\u001b[0m\n\u001b[0;32m    364\u001b[0m \u001b[38;5;250m\u001b[39m\u001b[38;5;124;03m\"\"\"Prepares the entire request with the given parameters.\"\"\"\u001b[39;00m\n\u001b[0;32m    366\u001b[0m \u001b[38;5;28mself\u001b[39m\u001b[38;5;241m.\u001b[39mprepare_method(method)\n\u001b[1;32m--> 367\u001b[0m \u001b[38;5;28;43mself\u001b[39;49m\u001b[38;5;241;43m.\u001b[39;49m\u001b[43mprepare_url\u001b[49m\u001b[43m(\u001b[49m\u001b[43murl\u001b[49m\u001b[43m,\u001b[49m\u001b[43m \u001b[49m\u001b[43mparams\u001b[49m\u001b[43m)\u001b[49m\n\u001b[0;32m    368\u001b[0m \u001b[38;5;28mself\u001b[39m\u001b[38;5;241m.\u001b[39mprepare_headers(headers)\n\u001b[0;32m    369\u001b[0m \u001b[38;5;28mself\u001b[39m\u001b[38;5;241m.\u001b[39mprepare_cookies(cookies)\n",
      "File \u001b[1;32mc:\\Users\\ASUS\\anaconda3\\envs\\workEnv\\Lib\\site-packages\\requests\\models.py:438\u001b[0m, in \u001b[0;36mPreparedRequest.prepare_url\u001b[1;34m(self, url, params)\u001b[0m\n\u001b[0;32m    435\u001b[0m     \u001b[38;5;28;01mraise\u001b[39;00m InvalidURL(\u001b[38;5;241m*\u001b[39me\u001b[38;5;241m.\u001b[39margs)\n\u001b[0;32m    437\u001b[0m \u001b[38;5;28;01mif\u001b[39;00m \u001b[38;5;129;01mnot\u001b[39;00m scheme:\n\u001b[1;32m--> 438\u001b[0m     \u001b[38;5;28;01mraise\u001b[39;00m MissingSchema(\n\u001b[0;32m    439\u001b[0m         \u001b[38;5;124mf\u001b[39m\u001b[38;5;124m\"\u001b[39m\u001b[38;5;124mInvalid URL \u001b[39m\u001b[38;5;132;01m{\u001b[39;00murl\u001b[38;5;132;01m!r}\u001b[39;00m\u001b[38;5;124m: No scheme supplied. \u001b[39m\u001b[38;5;124m\"\u001b[39m\n\u001b[0;32m    440\u001b[0m         \u001b[38;5;124mf\u001b[39m\u001b[38;5;124m\"\u001b[39m\u001b[38;5;124mPerhaps you meant https://\u001b[39m\u001b[38;5;132;01m{\u001b[39;00murl\u001b[38;5;132;01m}\u001b[39;00m\u001b[38;5;124m?\u001b[39m\u001b[38;5;124m\"\u001b[39m\n\u001b[0;32m    441\u001b[0m     )\n\u001b[0;32m    443\u001b[0m \u001b[38;5;28;01mif\u001b[39;00m \u001b[38;5;129;01mnot\u001b[39;00m host:\n\u001b[0;32m    444\u001b[0m     \u001b[38;5;28;01mraise\u001b[39;00m InvalidURL(\u001b[38;5;124mf\u001b[39m\u001b[38;5;124m\"\u001b[39m\u001b[38;5;124mInvalid URL \u001b[39m\u001b[38;5;132;01m{\u001b[39;00murl\u001b[38;5;132;01m!r}\u001b[39;00m\u001b[38;5;124m: No host supplied\u001b[39m\u001b[38;5;124m\"\u001b[39m)\n",
      "\u001b[1;31mMissingSchema\u001b[0m: Invalid URL '': No scheme supplied. Perhaps you meant https://?"
     ]
    }
   ],
   "source": [
    "\"\"\"也會遇到agent抓取到不對的url情形\"\"\"\n",
    "# agent = create_react_agent(llm=groq_llm, tools=tools, prompt=prompt_two)\n",
    "# agent_executor = AgentExecutor(agent=agent, tools=tools, handle_parsing_errors=True)\n",
    "\n",
    "agent = create_tool_calling_agent(llm=groq_llm, tools=tools, prompt=prompt_two)\n",
    "agent_executor = AgentExecutor(agent=agent, tools=tools, handle_parsing_errors=True)\n",
    "\n",
    "# agent = create_structured_chat_agent(llm=groq_llm, tools=tools, prompt=prompt_two)\n",
    "# agent_executor = AgentExecutor(agent=agent, tools=tools, handle_parsing_errors=True)\n",
    "\n",
    "url = 'https://goodinfo.tw/tw/StockFinGrade.asp?STOCK_ID=1785'\n",
    "agent_executor.invoke({\n",
    "    \"input\" :  \"How's the financial performance of this stock?\",\n",
    "    \"URL\": url\n",
    "})"
   ]
  },
  {
   "cell_type": "markdown",
   "metadata": {},
   "source": [
    "### Custom Function Calling\n",
    "**目的**: 學習使用各種建立的tool calling方法去找出query中的股票名稱相對應的股票代碼。\n",
    "\n",
    "**方法**:\n",
    "- 先創立一個查詢股票代碼的自訂函數: stockNumber()\n",
    "- 再利用tool decorator去讓LLM可以使用到自訂函數 *stockNumber()*\n",
    "- ittemgetter會找到invoke中的stock input，然後RunnableLambda讓stockNumber變成Runnable性質，所以可以去收到invoke的input。\n",
    "\n",
    "**心得**:\n",
    "- 準確度目前看來還不錯，可以留著以後用。"
   ]
  },
  {
   "cell_type": "code",
   "execution_count": null,
   "metadata": {},
   "outputs": [],
   "source": [
    "def stockNumber(stocknames: list, df: pd.DataFrame = stock_code_df) -> dict:\n",
    "    stocknums = {}\n",
    "    try:\n",
    "        for stock in stocknames:\n",
    "            index = np.where(df[\"股票名稱\"] == stock)[0][0]\n",
    "            number = df.iloc[index][\"股票代碼\"]\n",
    "            stocknums[stock] = number\n",
    "        return stocknums\n",
    "    except:\n",
    "        raise IndexError(\"股票名稱有誤!\")"
   ]
  },
  {
   "cell_type": "code",
   "execution_count": null,
   "metadata": {},
   "outputs": [],
   "source": [
    "@tool\n",
    "def stockNumSearch(query: str):\n",
    "    \"\"\"查詢股票代碼可以用\"\"\"\n",
    "    prompt = ChatPromptTemplate.from_template(\"{stocks}的股票代碼是多少?\")\n",
    "    chain = (\n",
    "        {\n",
    "            \"stocks\": itemgetter(\"stocks\") | RunnableLambda(stockNumber)\n",
    "        }\n",
    "    ) | prompt | groq_llm\n",
    "    response = chain.invoke({\"stocks\": testStocks})\n",
    "    return response.content"
   ]
  },
  {
   "cell_type": "code",
   "execution_count": null,
   "metadata": {},
   "outputs": [
    {
     "data": {
      "text/plain": [
       "'According to the dictionary you provided, the stock codes are:\\n\\n* 聯電: 2303\\n* 台積電: 2330\\n* 華邦電: 2344\\n* 台新金: 2887'"
      ]
     },
     "execution_count": 192,
     "metadata": {},
     "output_type": "execute_result"
    }
   ],
   "source": [
    "prompt = ChatPromptTemplate.from_template(\"{stocks}的股票代碼是多少?\")\n",
    "chain = (\n",
    "    {\n",
    "        \"stocks\": itemgetter(\"stocks\") | RunnableLambda(stockNumber)\n",
    "    }\n",
    ") | prompt | groq_llm | parser\n",
    "\n",
    "response = chain.invoke({\"stocks\": testStocks})\n",
    "response"
   ]
  },
  {
   "cell_type": "markdown",
   "metadata": {},
   "source": [
    "### llama-index pandas query engine\n",
    "- **目的**\n",
    "- 使用llama-index pandas query engine去根據query去找出股票中的季度損益表的正確數值。\n",
    "- 測試llama-index pandas query engine找股票代碼的能力是如何。\n",
    "\n",
    "**心得**\n",
    "- 無法在這裡直接使用到langchain提供的Groq api，要使用llama_index提供的groq才能呼叫模型。\n",
    "- 找出季度報表的數值效果不好，但找出單次單一的股票代碼還可行，需要去處理ouput format的問題。\n",
    "- 有人提到pandasqueryengine容易出錯，建議可使用pandas ai => 但實際使用過後，效果也沒有多好。\n",
    "=> https://stackoverflow.com/questions/77445728/pandasqueryengine-from-llama-index-is-unable-to-execute-code-with-the-following"
   ]
  },
  {
   "cell_type": "code",
   "execution_count": 26,
   "metadata": {},
   "outputs": [
    {
     "name": "stderr",
     "output_type": "stream",
     "text": [
      "c:\\Users\\ASUS\\anaconda3\\envs\\workEnv\\Lib\\site-packages\\tqdm\\auto.py:21: TqdmWarning: IProgress not found. Please update jupyter and ipywidgets. See https://ipywidgets.readthedocs.io/en/stable/user_install.html\n",
      "  from .autonotebook import tqdm as notebook_tqdm\n",
      "c:\\Users\\ASUS\\anaconda3\\envs\\workEnv\\Lib\\site-packages\\transformers\\utils\\generic.py:485: UserWarning: torch.utils._pytree._register_pytree_node is deprecated. Please use torch.utils._pytree.register_pytree_node instead.\n",
      "  _torch_pytree._register_pytree_node(\n"
     ]
    }
   ],
   "source": [
    "from llama_index.llms.groq import Groq\n",
    "from langchain.output_parsers import StructuredOutputParser, ResponseSchema\n",
    "from llama_index.core.output_parsers import LangchainOutputParser\n",
    "from llamaprompts import instruction_str, new_prompt"
   ]
  },
  {
   "cell_type": "code",
   "execution_count": 29,
   "metadata": {},
   "outputs": [
    {
     "name": "stdout",
     "output_type": "stream",
     "text": [
      "> Pandas Instructions:\n",
      "```\n",
      "df.loc[0, 'Normalized EBITDA']\n",
      "```\n",
      "> Pandas Output: There was an error running the output as Python code. Error message: 'Normalized EBITDA'\n"
     ]
    },
    {
     "name": "stderr",
     "output_type": "stream",
     "text": [
      "Traceback (most recent call last):\n",
      "  File \"C:\\Users\\ASUS\\AppData\\Roaming\\Python\\Python311\\site-packages\\pandas\\core\\indexes\\base.py\", line 3802, in get_loc\n",
      "    return self._engine.get_loc(casted_key)\n",
      "           ^^^^^^^^^^^^^^^^^^^^^^^^^^^^^^^^\n",
      "  File \"pandas\\_libs\\index.pyx\", line 138, in pandas._libs.index.IndexEngine.get_loc\n",
      "  File \"pandas\\_libs\\index.pyx\", line 165, in pandas._libs.index.IndexEngine.get_loc\n",
      "  File \"pandas\\_libs\\hashtable_class_helper.pxi\", line 5745, in pandas._libs.hashtable.PyObjectHashTable.get_item\n",
      "  File \"pandas\\_libs\\hashtable_class_helper.pxi\", line 5753, in pandas._libs.hashtable.PyObjectHashTable.get_item\n",
      "KeyError: 'Normalized EBITDA'\n",
      "\n",
      "The above exception was the direct cause of the following exception:\n",
      "\n",
      "Traceback (most recent call last):\n",
      "  File \"c:\\Users\\ASUS\\anaconda3\\envs\\workEnv\\Lib\\site-packages\\llama_index\\experimental\\query_engine\\pandas\\output_parser.py\", line 54, in default_output_processor\n",
      "    output_str = str(safe_eval(module_end_str, global_vars, local_vars))\n",
      "                     ^^^^^^^^^^^^^^^^^^^^^^^^^^^^^^^^^^^^^^^^^^^^^^^^^^\n",
      "  File \"c:\\Users\\ASUS\\anaconda3\\envs\\workEnv\\Lib\\site-packages\\llama_index\\experimental\\exec_utils.py\", line 159, in safe_eval\n",
      "    return eval(__source, _get_restricted_globals(__globals), __locals)\n",
      "           ^^^^^^^^^^^^^^^^^^^^^^^^^^^^^^^^^^^^^^^^^^^^^^^^^^^^^^^^^^^^\n",
      "  File \"<string>\", line 1, in <module>\n",
      "  File \"C:\\Users\\ASUS\\AppData\\Roaming\\Python\\Python311\\site-packages\\pandas\\core\\indexing.py\", line 1066, in __getitem__\n",
      "    return self.obj._get_value(*key, takeable=self._takeable)\n",
      "           ^^^^^^^^^^^^^^^^^^^^^^^^^^^^^^^^^^^^^^^^^^^^^^^^^^\n",
      "  File \"C:\\Users\\ASUS\\AppData\\Roaming\\Python\\Python311\\site-packages\\pandas\\core\\frame.py\", line 3917, in _get_value\n",
      "    series = self._get_item_cache(col)\n",
      "             ^^^^^^^^^^^^^^^^^^^^^^^^^\n",
      "  File \"C:\\Users\\ASUS\\AppData\\Roaming\\Python\\Python311\\site-packages\\pandas\\core\\frame.py\", line 4282, in _get_item_cache\n",
      "    loc = self.columns.get_loc(item)\n",
      "          ^^^^^^^^^^^^^^^^^^^^^^^^^^\n",
      "  File \"C:\\Users\\ASUS\\AppData\\Roaming\\Python\\Python311\\site-packages\\pandas\\core\\indexes\\base.py\", line 3804, in get_loc\n",
      "    raise KeyError(key) from err\n",
      "KeyError: 'Normalized EBITDA'\n"
     ]
    },
    {
     "data": {
      "text/plain": [
       "Response(response=\"There was an error running the output as Python code. Error message: 'Normalized EBITDA'\", source_nodes=[], metadata={'pandas_instruction_str': \"df.loc[0, 'Normalized EBITDA']\", 'raw_pandas_output': \"There was an error running the output as Python code. Error message: 'Normalized EBITDA'\"})"
      ]
     },
     "execution_count": 29,
     "metadata": {},
     "output_type": "execute_result"
    }
   ],
   "source": [
    "\"\"\"找出季度報表中的正確數值\"\"\"\n",
    "llamaindex_groq_llm = Groq(temperature=0, model=\"llama3-8b-8192\") # output_parser=output_parser 先不用，會有錯誤\n",
    "# llama-index pandas queryengine\n",
    "query_engine = PandasQueryEngine(df=df, verbose=True, llm=llamaindex_groq_llm, instruction_str=instruction_str)\n",
    "query_engine.update_prompts({\"pandas_prompt\": new_prompt})\n",
    "query_engine.query(\"What is the operating revenue of 2024-03-31\")"
   ]
  },
  {
   "cell_type": "code",
   "execution_count": 14,
   "metadata": {},
   "outputs": [
    {
     "data": {
      "text/plain": [
       "DatetimeIndex(['2024-03-31', '2023-12-31', '2023-09-30', '2023-06-30',\n",
       "               '2023-03-31'],\n",
       "              dtype='datetime64[ns]', freq=None)"
      ]
     },
     "execution_count": 14,
     "metadata": {},
     "output_type": "execute_result"
    }
   ],
   "source": [
    "df.columns"
   ]
  },
  {
   "cell_type": "code",
   "execution_count": 24,
   "metadata": {},
   "outputs": [],
   "source": [
    "df.columns = df.columns.astype(\"str\")"
   ]
  },
  {
   "cell_type": "code",
   "execution_count": null,
   "metadata": {},
   "outputs": [
    {
     "name": "stdout",
     "output_type": "stream",
     "text": [
      "> Pandas Instructions:\n",
      "```\n",
      "df.loc[df['股票名稱'] == '聯電']['股票代碼'].values[0]\n",
      "```\n",
      "> Pandas Output: 2303\n",
      "> Pandas Instructions:\n",
      "```\n",
      "df.loc[df['股票名稱'] == '台積電', '股票代碼']\n",
      "```\n",
      "> Pandas Output: 275    2330\n",
      "Name: 股票代碼, dtype: object\n",
      "> Pandas Instructions:\n",
      "```\n",
      "df.loc[df['股票名稱'] == '華邦電', '股票代碼']\n",
      "```\n",
      "> Pandas Output: 282    2344\n",
      "Name: 股票代碼, dtype: object\n"
     ]
    },
    {
     "data": {
      "text/plain": [
       "['2303',\n",
       " '275    2330\\nName: 股票代碼, dtype: object',\n",
       " '282    2344\\nName: 股票代碼, dtype: object']"
      ]
     },
     "execution_count": 56,
     "metadata": {},
     "output_type": "execute_result"
    }
   ],
   "source": [
    "\"\"\"找出query相對應的股票代碼\"\"\"\n",
    "# 可以用，但目前要處理parser問題\n",
    "llamaindex_groq_ans = []\n",
    "for stock in testStocks:\n",
    "    query = \"[{}]的股票代碼是多少?\".format(stock)\n",
    "    response = query_engine.query(query)\n",
    "    llamaindex_groq_ans.append(str(response))\n",
    "\n",
    "llamaindex_groq_ans"
   ]
  },
  {
   "cell_type": "markdown",
   "metadata": {},
   "source": [
    "### csv, pandas agent (Langchain)\n",
    "**目的**\n",
    "- 找出資料中的相對應股票代碼。\n",
    "- 了解csv/panda agent 理解財報的能力。\n",
    "\n",
    "**方法**\n",
    "- 使用langchain提供的create_csv_agent，並將allow_dangerous_code設為True，否則不能跑。\n",
    "\n",
    "**心得**\n",
    "- 可以用，而且兩者效果也都不錯。目前使用狀況比llamaindex pandas queryengine與 pandasai 好用。"
   ]
  },
  {
   "cell_type": "code",
   "execution_count": 49,
   "metadata": {},
   "outputs": [],
   "source": [
    "prompt = ChatPromptTemplate.from_messages([\n",
    "    (\"system\", \"return the response in a json. The format is `stock name` : `stock number`\")\n",
    "])"
   ]
  },
  {
   "cell_type": "code",
   "execution_count": 73,
   "metadata": {},
   "outputs": [
    {
     "name": "stdout",
     "output_type": "stream",
     "text": [
      "\n",
      "\n",
      "\u001b[1m> Entering new AgentExecutor chain...\u001b[0m\n",
      "\u001b[32;1m\u001b[1;3mThought: I need to find the row in the dataframe where the stock name is \"華邦電\" and then get the corresponding stock code.\n",
      "\n",
      "Action: python_repl_ast\n",
      "Action Input: `df[df['股票名稱'] == '華邦電']`\u001b[0m\u001b[36;1m\u001b[1;3m     股票代碼 股票名稱         上市日 市場類別  產業類別\n",
      "282  2344  華邦電  1995/10/18   上市  半導體業\u001b[0m\u001b[32;1m\u001b[1;3mIt looks like the observation is an empty dataframe, which means there is no row in the dataframe where the stock name is \"華邦電\". \n",
      "\n",
      "Action: python_repl_ast\n",
      "Action Input: `df.head()` (to double-check the dataframe)\u001b[0m\u001b[36;1m\u001b[1;3mSyntaxError: invalid syntax (<unknown>, line 1)\u001b[0m\u001b[32;1m\u001b[1;3mIt looks like I made a mistake in my previous action. The `print` statement is missing.\n",
      "\n",
      "Action: python_repl_ast\n",
      "Action Input: `print(df.head())`\u001b[0m\u001b[36;1m\u001b[1;3m   股票代碼 股票名稱         上市日 市場類別  產業類別\n",
      "0  1101   台泥  1962/02/09   上市  水泥工業\n",
      "1  1102   亞泥  1962/06/08   上市  水泥工業\n",
      "2  1103   嘉泥  1969/11/14   上市  水泥工業\n",
      "3  1104   環泥  1971/02/01   上市  水泥工業\n",
      "4  1108   幸福  1990/06/06   上市  水泥工業\n",
      "\u001b[0m\u001b[32;1m\u001b[1;3mIt looks like the stock \"華邦電\" is not in the first few rows of the dataframe. I need to search the entire dataframe.\n",
      "\n",
      "Action: python_repl_ast\n",
      "Action Input: `df[df['股票名稱'] == '華邦電']`\u001b[0m\u001b[36;1m\u001b[1;3m     股票代碼 股票名稱         上市日 市場類別  產業類別\n",
      "282  2344  華邦電  1995/10/18   上市  半導體業\u001b[0m\u001b[32;1m\u001b[1;3mI now know the final answer\n",
      "Final Answer: The stock code of \"華邦電\" is 2344.\u001b[0m\n",
      "\n",
      "\u001b[1m> Finished chain.\u001b[0m\n"
     ]
    },
    {
     "data": {
      "text/plain": [
       "'The stock code of \"華邦電\" is 2344.'"
      ]
     },
     "execution_count": 73,
     "metadata": {},
     "output_type": "execute_result"
    }
   ],
   "source": [
    "\"\"\"測試一個股票\"\"\"\n",
    "agent = create_csv_agent(\n",
    "    groq_llm,\n",
    "    stock_code_path,\n",
    "    verbose=True,\n",
    "    agent_type= \"zero-shot-react-description\",\n",
    "    handle_parsing_errors=True,\n",
    "    allow_dangerous_code  = True\n",
    ")\n",
    "agent.run(\"華邦電的股票代碼是多少?\")"
   ]
  },
  {
   "cell_type": "code",
   "execution_count": 44,
   "metadata": {},
   "outputs": [
    {
     "name": "stdout",
     "output_type": "stream",
     "text": [
      "\n",
      "\n",
      "\u001b[1m> Entering new AgentExecutor chain...\u001b[0m\n",
      "\u001b[32;1m\u001b[1;3mThought: I need to find the row where the stock name is \"聯電\" and then get the stock code from that row.\n",
      "\n",
      "Action: python_repl_ast\n",
      "Action Input: `df.loc[df['股票名稱'] == '聯電', '股票代碼']`\u001b[0m\u001b[36;1m\u001b[1;3m261    2303\n",
      "Name: 股票代碼, dtype: object\u001b[0m\u001b[32;1m\u001b[1;3mIt looks like the observation is a pandas Series with a single value, which is the stock code we're looking for.\n",
      "\n",
      "Thought: I now know the final answer\n",
      "Final Answer: The stock code of 聯電 is 2303.\u001b[0m\n",
      "\n",
      "\u001b[1m> Finished chain.\u001b[0m\n",
      "\n",
      "\n",
      "\u001b[1m> Entering new AgentExecutor chain...\u001b[0m\n",
      "\u001b[32;1m\u001b[1;3mThought: I need to find the row where the stock name is \"聯電\" and then get the stock code from that row.\n",
      "\n",
      "Action: python_repl_ast\n",
      "Action Input: `df.loc[df['股票名稱'] == '聯電', '股票代碼']`\u001b[0m\u001b[36;1m\u001b[1;3m261    2303\n",
      "Name: 股票代碼, dtype: object\u001b[0m\u001b[32;1m\u001b[1;3mIt looks like the observation is a pandas Series with a single value, which is the stock code we're looking for.\n",
      "\n",
      "Thought: I now know the final answer\n",
      "Final Answer: The stock code of 聯電 is 2303.\u001b[0m\n",
      "\n",
      "\u001b[1m> Finished chain.\u001b[0m\n",
      "\n",
      "\n",
      "\u001b[1m> Entering new AgentExecutor chain...\u001b[0m\n",
      "\u001b[32;1m\u001b[1;3mThought: The question is asking for the stock code of 台積電 (TSMC), but it's not present in the provided `df.head()` output. I need to check if it exists in the entire dataframe.\n",
      "\n",
      "Action: python_repl_ast\n",
      "Action Input: `print(df[df['股票名稱'] == '台積電'])`\u001b[0m\u001b[36;1m\u001b[1;3m     股票代碼 股票名稱         上市日 市場類別  產業類別\n",
      "275  2330  台積電  1994/09/05   上市  半導體業\n",
      "\u001b[0m\u001b[32;1m\u001b[1;3mI now know the final answer.\n",
      "\n",
      "Final Answer: 台積電的股票代碼是2330.\u001b[0m\n",
      "\n",
      "\u001b[1m> Finished chain.\u001b[0m\n",
      "\n",
      "\n",
      "\u001b[1m> Entering new AgentExecutor chain...\u001b[0m\n",
      "\u001b[32;1m\u001b[1;3mThought: The question is asking for the stock code of 台積電 (TSMC), but it's not present in the provided `df.head()` output. I need to check if it exists in the entire dataframe.\n",
      "\n",
      "Action: python_repl_ast\n",
      "Action Input: `print(df[df['股票名稱'] == '台積電'])`\u001b[0m\u001b[36;1m\u001b[1;3m     股票代碼 股票名稱         上市日 市場類別  產業類別\n",
      "275  2330  台積電  1994/09/05   上市  半導體業\n",
      "\u001b[0m\u001b[32;1m\u001b[1;3mI now know the final answer.\n",
      "\n",
      "Final Answer: 台積電的股票代碼是2330.\u001b[0m\n",
      "\n",
      "\u001b[1m> Finished chain.\u001b[0m\n",
      "\n",
      "\n",
      "\u001b[1m> Entering new AgentExecutor chain...\u001b[0m\n",
      "\u001b[32;1m\u001b[1;3mThought: I need to find the row in the dataframe where the stock name is \"華邦電\" and then get the corresponding stock code.\n",
      "\n",
      "Action: python_repl_ast\n",
      "Action Input: `df[df['股票名稱'] == '華邦電']`\u001b[0m\u001b[36;1m\u001b[1;3m     股票代碼 股票名稱         上市日 市場類別  產業類別\n",
      "282  2344  華邦電  1995/10/18   上市  半導體業\u001b[0m\u001b[32;1m\u001b[1;3mIt looks like the observation is an empty dataframe, which means there is no row in the dataframe where the stock name is \"華邦電\". \n",
      "\n",
      "Action: python_repl_ast\n",
      "Action Input: `df.head()` (to double-check the dataframe)\u001b[0m\u001b[36;1m\u001b[1;3mSyntaxError: invalid syntax (<unknown>, line 1)\u001b[0m\u001b[32;1m\u001b[1;3mIt looks like I made a mistake in my previous action. The `print` statement is missing.\n",
      "\n",
      "Action: python_repl_ast\n",
      "Action Input: `print(df.head())`\u001b[0m\u001b[36;1m\u001b[1;3m   股票代碼 股票名稱         上市日 市場類別  產業類別\n",
      "0  1101   台泥  1962/02/09   上市  水泥工業\n",
      "1  1102   亞泥  1962/06/08   上市  水泥工業\n",
      "2  1103   嘉泥  1969/11/14   上市  水泥工業\n",
      "3  1104   環泥  1971/02/01   上市  水泥工業\n",
      "4  1108   幸福  1990/06/06   上市  水泥工業\n",
      "\u001b[0m\u001b[32;1m\u001b[1;3mIt looks like the stock \"華邦電\" is not in the first few rows of the dataframe. I need to search the entire dataframe.\n",
      "\n",
      "Action: python_repl_ast\n",
      "Action Input: `df[df['股票名稱'] == '華邦電']`\u001b[0m\u001b[36;1m\u001b[1;3m     股票代碼 股票名稱         上市日 市場類別  產業類別\n",
      "282  2344  華邦電  1995/10/18   上市  半導體業\u001b[0m\u001b[32;1m\u001b[1;3mI now know the final answer\n",
      "Final Answer: The stock code of \"華邦電\" is 2344.\u001b[0m\n",
      "\n",
      "\u001b[1m> Finished chain.\u001b[0m\n",
      "\n",
      "\n",
      "\u001b[1m> Entering new AgentExecutor chain...\u001b[0m\n",
      "\u001b[32;1m\u001b[1;3mThought: I need to find the row in the dataframe where the stock name is \"華邦電\" and then get the corresponding stock code.\n",
      "\n",
      "Action: python_repl_ast\n",
      "Action Input: `df[df['股票名稱'] == '華邦電']`\u001b[0m\u001b[36;1m\u001b[1;3m     股票代碼 股票名稱         上市日 市場類別  產業類別\n",
      "282  2344  華邦電  1995/10/18   上市  半導體業\u001b[0m\u001b[32;1m\u001b[1;3mIt looks like the observation is an empty dataframe, which means there is no row in the dataframe where the stock name is \"華邦電\". \n",
      "\n",
      "Action: python_repl_ast\n",
      "Action Input: `df.head()` (to double-check the dataframe)\u001b[0m\u001b[36;1m\u001b[1;3mSyntaxError: invalid syntax (<unknown>, line 1)\u001b[0m\u001b[32;1m\u001b[1;3mIt looks like I made a mistake in my previous action. The `print` statement is missing.\n",
      "\n",
      "Action: python_repl_ast\n",
      "Action Input: `print(df.head())`\u001b[0m\u001b[36;1m\u001b[1;3m   股票代碼 股票名稱         上市日 市場類別  產業類別\n",
      "0  1101   台泥  1962/02/09   上市  水泥工業\n",
      "1  1102   亞泥  1962/06/08   上市  水泥工業\n",
      "2  1103   嘉泥  1969/11/14   上市  水泥工業\n",
      "3  1104   環泥  1971/02/01   上市  水泥工業\n",
      "4  1108   幸福  1990/06/06   上市  水泥工業\n",
      "\u001b[0m\u001b[32;1m\u001b[1;3mIt looks like the stock \"華邦電\" is not in the first few rows of the dataframe. I need to search the entire dataframe.\n",
      "\n",
      "Action: python_repl_ast\n",
      "Action Input: `df[df['股票名稱'] == '華邦電']`\u001b[0m\u001b[36;1m\u001b[1;3m     股票代碼 股票名稱         上市日 市場類別  產業類別\n",
      "282  2344  華邦電  1995/10/18   上市  半導體業\u001b[0m\u001b[32;1m\u001b[1;3mI now know the final answer\n",
      "Final Answer: The stock code of \"華邦電\" is 2344.\u001b[0m\n",
      "\n",
      "\u001b[1m> Finished chain.\u001b[0m\n",
      "\n",
      "\n",
      "\u001b[1m> Entering new AgentExecutor chain...\u001b[0m\n",
      "\u001b[32;1m\u001b[1;3mThought: I need to find the row in the dataframe where the stock name is \"台新金\" and then get the corresponding stock code.\n",
      "\n",
      "Action: python_repl_ast\n",
      "Action Input: `df[df['股票名稱'] == '台新金']`\u001b[0m\u001b[36;1m\u001b[1;3m     股票代碼 股票名稱         上市日 市場類別   產業類別\n",
      "485  2887  台新金  2002/02/18   上市  金融保險業\u001b[0m\u001b[32;1m\u001b[1;3mThought: I need to extract the stock code from the resulting row.\n",
      "\n",
      "Action: python_repl_ast\n",
      "Action Input: `df[df['股票名稱'] == '台新金']['股票代碼'].values[0]`\u001b[0m\u001b[36;1m\u001b[1;3m2887\u001b[0m\u001b[32;1m\u001b[1;3mI now know the final answer\n",
      "Final Answer: The stock code of 台新金 is 2887.\u001b[0m\n",
      "\n",
      "\u001b[1m> Finished chain.\u001b[0m\n",
      "\n",
      "\n",
      "\u001b[1m> Entering new AgentExecutor chain...\u001b[0m\n",
      "\u001b[32;1m\u001b[1;3mThought: I need to find the row in the dataframe where the stock name is \"台新金\" and then get the corresponding stock code.\n",
      "\n",
      "Action: python_repl_ast\n",
      "Action Input: `df[df['股票名稱'] == '台新金']`\u001b[0m\u001b[36;1m\u001b[1;3m     股票代碼 股票名稱         上市日 市場類別   產業類別\n",
      "485  2887  台新金  2002/02/18   上市  金融保險業\u001b[0m\u001b[32;1m\u001b[1;3mThought: I need to extract the stock code from the resulting row.\n",
      "\n",
      "Action: python_repl_ast\n",
      "Action Input: `df[df['股票名稱'] == '台新金']['股票代碼'].values[0]`\u001b[0m\u001b[36;1m\u001b[1;3m2887\u001b[0m\u001b[32;1m\u001b[1;3mI now know the final answer\n",
      "Final Answer: The stock code of 台新金 is 2887.\u001b[0m\n",
      "\n",
      "\u001b[1m> Finished chain.\u001b[0m\n"
     ]
    }
   ],
   "source": [
    "\"\"\"測試多個股票\"\"\"\n",
    "groq_csv_ans_run = []\n",
    "groq_csv_ans_invoke = []\n",
    "for stock in testStocks:\n",
    "    query = \"{}的股票代碼是多少?\".format(stock)\n",
    "    run = await agent.arun(query)\n",
    "    groq_csv_ans_run.append(run)\n",
    "    invoke = agent.invoke(query)\n",
    "    groq_csv_ans_invoke.append(invoke)"
   ]
  },
  {
   "cell_type": "code",
   "execution_count": 45,
   "metadata": {},
   "outputs": [
    {
     "data": {
      "text/plain": [
       "['The stock code of 聯電 is 2303.',\n",
       " '台積電的股票代碼是2330.',\n",
       " 'The stock code of \"華邦電\" is 2344.',\n",
       " 'The stock code of 台新金 is 2887.']"
      ]
     },
     "execution_count": 45,
     "metadata": {},
     "output_type": "execute_result"
    }
   ],
   "source": [
    "groq_csv_ans_run"
   ]
  },
  {
   "cell_type": "code",
   "execution_count": 62,
   "metadata": {},
   "outputs": [
    {
     "name": "stderr",
     "output_type": "stream",
     "text": [
      "c:\\Users\\ASUS\\anaconda3\\envs\\workEnv\\Lib\\site-packages\\langchain_experimental\\agents\\agent_toolkits\\pandas\\base.py:282: UserWarning: Received additional kwargs {'handle_parsing_errors': True} which are no longer supported.\n",
      "  warnings.warn(\n"
     ]
    }
   ],
   "source": [
    "\"\"\"測試llm理解財報的能力\"\"\"\n",
    "income_agent = create_pandas_dataframe_agent(\n",
    "        groq_llm,\n",
    "        df=df,\n",
    "        verbose=True,\n",
    "        agent_type= \"zero-shot-react-description\", # zero-shot-react-description\n",
    "        handle_parsing_errors=True,\n",
    "        allow_dangerous_code  = True\n",
    "    )"
   ]
  },
  {
   "cell_type": "code",
   "execution_count": 74,
   "metadata": {},
   "outputs": [
    {
     "name": "stdout",
     "output_type": "stream",
     "text": [
      "\n",
      "\n",
      "\u001b[1m> Entering new AgentExecutor chain...\u001b[0m\n",
      "\u001b[32;1m\u001b[1;3mThought: To summarize the financial status of 2024-03-31, I need to analyze the data in the dataframe.\n",
      "\n",
      "Action: python_repl_ast\n",
      "Action Input: df.loc['Tax Effect Of Unusual Items', '2024-03-31']\u001b[0m\u001b[36;1m\u001b[1;3m62570718.095299\u001b[0m\u001b[32;1m\u001b[1;3mThe tax effect of unusual items for 2024-03-31 is approximately 62.57 million.\n",
      "\n",
      "Action: python_repl_ast\n",
      "Action Input: df.loc['Normalized EBITDA', '2024-03-31']\u001b[0m\u001b[36;1m\u001b[1;3m23654234000.0\u001b[0m\u001b[32;1m\u001b[1;3mThe normalized EBITDA for 2024-03-31 is approximately 23.65 billion.\n",
      "\n",
      "Action: python_repl_ast\n",
      "Action Input: df.loc['Total Unusual Items', '2024-03-31']\u001b[0m\u001b[36;1m\u001b[1;3m347383000.0\u001b[0m\u001b[32;1m\u001b[1;3mAction: python_repl_ast\n",
      "Action Input: df.loc['Total Unusual Items Excluding Goodwill', '2024-03-31']\u001b[0m\u001b[36;1m\u001b[1;3m347383000.0\u001b[0m\u001b[32;1m\u001b[1;3mThe total unusual items and total unusual items excluding goodwill for 2024-03-31 are both approximately 347.38 million.\n",
      "\n",
      "Action: python_repl_ast\n",
      "Action Input: df.loc['Tax Rate For Calcs', '2024-03-31']\u001b[0m\u001b[36;1m\u001b[1;3m0.18012\u001b[0m\u001b[32;1m\u001b[1;3mThe tax rate for calculations for 2024-03-31 is approximately 18.01%.\n",
      "\n",
      "Thought: Now that I have analyzed the data, I can summarize the financial status of 2024-03-31.\n",
      "\n",
      "Final Answer: As of 2024-03-31, the company has a tax effect of unusual items of approximately 62.57 million, a normalized EBITDA of approximately 23.65 billion, and total unusual items (including and excluding goodwill) of approximately 347.38 million. The tax rate for calculations is around 18.01%.\u001b[0m\n",
      "\n",
      "\u001b[1m> Finished chain.\u001b[0m\n"
     ]
    },
    {
     "data": {
      "text/plain": [
       "'As of 2024-03-31, the company has a tax effect of unusual items of approximately 62.57 million, a normalized EBITDA of approximately 23.65 billion, and total unusual items (including and excluding goodwill) of approximately 347.38 million. The tax rate for calculations is around 18.01%.'"
      ]
     },
     "execution_count": 74,
     "metadata": {},
     "output_type": "execute_result"
    }
   ],
   "source": [
    "res = await income_agent.arun(\"You are a financial expert to summerize what's the financial status of 2024-03-31?\")\n",
    "res"
   ]
  },
  {
   "cell_type": "markdown",
   "metadata": {},
   "source": [
    "### 一般方法\n",
    "**目的**\n",
    "- 設定簡單的函數去找出股票的相對應代碼。"
   ]
  },
  {
   "cell_type": "code",
   "execution_count": null,
   "metadata": {},
   "outputs": [
    {
     "data": {
      "text/plain": [
       "'2330'"
      ]
     },
     "execution_count": 107,
     "metadata": {},
     "output_type": "execute_result"
    }
   ],
   "source": [
    "index = np.where(stock_code_df[\"股票名稱\"] == \"台積電\")[0][0]\n",
    "stock_code_df.iloc[index][\"股票代碼\"]"
   ]
  },
  {
   "cell_type": "code",
   "execution_count": null,
   "metadata": {},
   "outputs": [
    {
     "data": {
      "text/plain": [
       "275"
      ]
     },
     "execution_count": 111,
     "metadata": {},
     "output_type": "execute_result"
    }
   ],
   "source": [
    "np.where(stock_code_df[\"股票名稱\"] == \"台積電\")[0][0]"
   ]
  },
  {
   "cell_type": "code",
   "execution_count": null,
   "metadata": {},
   "outputs": [
    {
     "data": {
      "text/plain": [
       "'2330'"
      ]
     },
     "execution_count": 102,
     "metadata": {},
     "output_type": "execute_result"
    }
   ],
   "source": [
    "stock_code_df.iloc[275][\"股票代碼\"]"
   ]
  },
  {
   "cell_type": "code",
   "execution_count": null,
   "metadata": {},
   "outputs": [
    {
     "data": {
      "text/plain": [
       "'半導體業'"
      ]
     },
     "execution_count": 106,
     "metadata": {},
     "output_type": "execute_result"
    }
   ],
   "source": [
    "stock_code_df.iloc[275][\"產業類別\"]"
   ]
  },
  {
   "cell_type": "code",
   "execution_count": 15,
   "metadata": {},
   "outputs": [],
   "source": [
    "def stockNumber(stocknames: list, df: pd.DataFrame) -> dict:\n",
    "    stocknums = {}\n",
    "    try:\n",
    "        for stock in stocknames:\n",
    "            index = np.where(df[\"股票名稱\"] == stock)[0][0]\n",
    "            number = df.iloc[index][\"股票代碼\"]\n",
    "            stocknums[stock] = number\n",
    "        return stocknums\n",
    "    except:\n",
    "        raise IndexError(\"股票名稱有誤!\")"
   ]
  },
  {
   "cell_type": "code",
   "execution_count": 16,
   "metadata": {},
   "outputs": [
    {
     "data": {
      "text/plain": [
       "{'台積電': '2330'}"
      ]
     },
     "execution_count": 16,
     "metadata": {},
     "output_type": "execute_result"
    }
   ],
   "source": [
    "stockNumber(stocknames=[\"台積電\"], df=stock_code_df)"
   ]
  },
  {
   "cell_type": "code",
   "execution_count": 21,
   "metadata": {},
   "outputs": [
    {
     "name": "stdout",
     "output_type": "stream",
     "text": [
      "台積電\n",
      "<class 'str'>\n",
      "<class 'list'>\n",
      "['台積電']\n",
      "{'台積電': '2330'}\n"
     ]
    }
   ],
   "source": [
    "testlist = [\"華邦\", \"台積電\"]\n",
    "while (inputs := input('輸入股票 (q to quit)') )!= \"q\":\n",
    "    try:\n",
    "        inputs = [inputs]\n",
    "        result = stockNumber(stocknames=inputs, df=stock_code_df)\n",
    "        print(result)\n",
    "        break\n",
    "    except:\n",
    "        print(\"請輸入正確的股票名稱\")"
   ]
  },
  {
   "cell_type": "code",
   "execution_count": 23,
   "metadata": {},
   "outputs": [
    {
     "name": "stdout",
     "output_type": "stream",
     "text": [
      "請輸入正確的股票名稱\n",
      "here\n"
     ]
    }
   ],
   "source": [
    "while (inputs := input('輸入股票 (q to quit)') )!= \"q\":\n",
    "    restart = False\n",
    "    try:\n",
    "        inputs = [inputs]\n",
    "        result = stockNumber(stocknames=inputs, df=stock_code_df)\n",
    "        break\n",
    "    except:\n",
    "        print(\"請輸入正確的股票名稱\")\n",
    "        restart = True\n",
    "    if restart:\n",
    "        continue"
   ]
  },
  {
   "cell_type": "code",
   "execution_count": null,
   "metadata": {},
   "outputs": [],
   "source": []
  },
  {
   "cell_type": "markdown",
   "metadata": {},
   "source": [
    "### RAG (Langchain)\n",
    "- indexing\n",
    " -> embedding: 目前主流看起來是用OpenAI Embeddings()，但就是會需要錢。所以來試試看用llama index提供的huggingface來做embedding。\n",
    "- vector store : https://docs.llamaindex.ai/en/stable/examples/embeddings/Langchain/\n",
    "- retrieval\n",
    "- Q&A\n",
    "\n",
    "References:\n",
    "1. https://python.langchain.com/v0.1/docs/modules/data_connection/vectorstores/"
   ]
  },
  {
   "cell_type": "code",
   "execution_count": 43,
   "metadata": {},
   "outputs": [],
   "source": [
    "# # Load data\n",
    "# loader = PyMuPDFLoader(\"xxx.pdf\")\n",
    "# data = loader.load()\n",
    "\n",
    "# # Split data\n",
    "# text_splitter = RecursiveCharacterTextSplitter(chunk_size=50, chunk_overlap=5)\n",
    "# all_splits = text_splitter.split_documents(data)\n",
    "\n",
    "# # Embedding\n",
    "# model_name = \"sentence-transformers/all-MiniLM-L6-v2\"\n",
    "# model_kwargs = {'device': 'cpu'}\n",
    "# embedding = HuggingFaceEmbeddings(model_name=model_name,\n",
    "#                                   model_kwargs=model_kwargs)\n",
    "# # vector store\n",
    "# persist_directory = 'db-techs-02'\n",
    "# vectordb = Chroma.from_documents(documents=all_splits, embedding=embedding, persist_directory=persist_directory)\n",
    "# retriever = vectordb.as_retriever()"
   ]
  },
  {
   "cell_type": "markdown",
   "metadata": {},
   "source": [
    "### Conversational Agent\n",
    "**目的**\n",
    "- 熟悉conversational agent的程式碼\n",
    "\n",
    "**方式**\n",
    "- 使用duckduckgo作為外部資料來源，皆收到資料後傳給agent去使用適當的tool來回答query。\n",
    "- 修改agent中原始設定的prompt來讓agent使用繁體中文回答。\n",
    "\n",
    "**心得**\n",
    "- 好用，但可惜的是initialize_agent後續會被汰除掉，需要學習其他agent使用方式。"
   ]
  },
  {
   "cell_type": "markdown",
   "metadata": {},
   "source": [
    "### create_tool_calling_agent 測試"
   ]
  },
  {
   "cell_type": "code",
   "execution_count": 25,
   "metadata": {},
   "outputs": [],
   "source": [
    "@tool\n",
    "def summary(query: str):\n",
    "    \"\"\"用來總結文章內容\"\"\"\n",
    "    prompt = ChatPromptTemplate.from_messages(\n",
    "    [\n",
    "        (\"system\", \"You are a helpful assistant to help me summarize Traditional Chinese News using Traditional Chinese. Only return summarized texts.\"),\n",
    "        (\"user\", \"{input}\"),\n",
    "        MessagesPlaceholder(\"agent_scratchpad\", optional=True)\n",
    "        ]\n",
    "    )\n",
    "    groq_chain = prompt | groq_llm | parser\n",
    "    res = groq_chain.invoke({\"input\": query})\n",
    "    return res\n",
    "\n",
    "\n",
    "@tool\n",
    "def plus(a: int, b:int):\n",
    "    \"\"\"將a與b相加\"\"\"\n",
    "    return a + b\n",
    "\n",
    "\n",
    "tools = [summary, plus]\n",
    "groq_with_tools = groq_llm.bind_tools(tools)"
   ]
  },
  {
   "cell_type": "code",
   "execution_count": 5,
   "metadata": {},
   "outputs": [],
   "source": [
    "query_1 = '''\n",
    "台灣證券交易所（Taiwan Stock Exchange，簡稱：TWSE，或稱台股）成立於1961年，是台灣最主要的證券交易市場。台股提供公開上市公司一個公平、透明、有效率的市場，讓他們可以籌集資金。同時，也為投資者提供一個交易平台，讓他們可以買賣股票和其他證券。\n",
    "\n",
    "台股的主要指數是台灣加權股價指數，通常被簡稱為「台股指數」或「大盤」。這個指數反映了在台灣證券交易所上市的所有股票的整體表現。此外，還有許多其他的子指數，例如電子股指數、金融股指數等，分別反映了特定產業的股票表現。\n",
    "\n",
    "台股的交易時間為每週一至五的上午9點到下午1點30分。在這段時間內，投資者可以透過證券商買賣股票。台股也有提供盤後交易服務，讓投資者在正常交易時間之外進行交易。\n",
    "'''"
   ]
  },
  {
   "cell_type": "code",
   "execution_count": 6,
   "metadata": {},
   "outputs": [],
   "source": [
    "query_2 = \"what's 1+2?\""
   ]
  },
  {
   "cell_type": "code",
   "execution_count": 91,
   "metadata": {},
   "outputs": [
    {
     "data": {
      "text/plain": [
       "'台灣證券交易所（TWSE）成立於1961年，是台灣最主要的證券交易市場，提供公開上市公司籌集資金和投資者交易平台。主要指數是台灣加權股價指數，反映所有上市股票表現。交易時間為週一至五上午9點到下午1點30分，另有盤後交易服務。'"
      ]
     },
     "execution_count": 91,
     "metadata": {},
     "output_type": "execute_result"
    }
   ],
   "source": [
    "# prompt = ChatPromptTemplate.from_messages(\n",
    "# [\n",
    "#     (\"system\", \"You are a helpful assistant to help me summarize Traditional Chinese News using Traditional Chinese. Only return summarized texts.\"),\n",
    "#     (\"user\", \"{input}\"),\n",
    "#     MessagesPlaceholder(\"agent_scratchpad\", optional=True)\n",
    "# ]\n",
    "# )\n",
    "# groq_chain = prompt | groq_llm | parser\n",
    "# res = groq_chain.invoke({\"input\": query_1})\n",
    "# res"
   ]
  },
  {
   "cell_type": "code",
   "execution_count": 10,
   "metadata": {},
   "outputs": [
    {
     "data": {
      "text/plain": [
       "''"
      ]
     },
     "execution_count": 10,
     "metadata": {},
     "output_type": "execute_result"
    }
   ],
   "source": [
    "res = groq_with_tools.invoke(query_1)\n",
    "res.content"
   ]
  },
  {
   "cell_type": "code",
   "execution_count": 11,
   "metadata": {},
   "outputs": [
    {
     "data": {
      "text/plain": [
       "[{'name': 'sumtest', 'args': {'query': '台灣證券交易所'}, 'id': 'call_17rk'}]"
      ]
     },
     "execution_count": 11,
     "metadata": {},
     "output_type": "execute_result"
    }
   ],
   "source": [
    "res.tool_calls"
   ]
  },
  {
   "cell_type": "code",
   "execution_count": 26,
   "metadata": {},
   "outputs": [],
   "source": [
    "prompt = ChatPromptTemplate.from_messages(\n",
    "    [\n",
    "        (\"system\", \"You are a helpful assistant who answers in Traditional Chinese.\"),\n",
    "        (\"user\", \"{input}\"),\n",
    "        MessagesPlaceholder(\"agent_scratchpad\", optional=True)\n",
    "    ]\n",
    ")\n",
    "\n",
    "agent = create_tool_calling_agent(prompt=prompt, llm=groq_llm, tools=tools)\n",
    "agent_executor = AgentExecutor(agent=agent, tools=tools, verbose=True)"
   ]
  },
  {
   "cell_type": "code",
   "execution_count": 23,
   "metadata": {},
   "outputs": [
    {
     "name": "stdout",
     "output_type": "stream",
     "text": [
      "\n",
      "\n",
      "\u001b[1m> Entering new AgentExecutor chain...\u001b[0m\n",
      "\u001b[32;1m\u001b[1;3m\n",
      "Invoking: `summary` with `{'query': '台灣證券交易所的介紹'}`\n",
      "\n",
      "\n",
      "\u001b[0mInside\n",
      "\u001b[36;1m\u001b[1;3m台灣證券交易所（TWSE）是台灣的證券交易市場，於1961年10月9日成立。其主要功能是提供股票、債券、衍生工具等金融商品的交易平台，讓投資者能夠買賣股票、債券等金融商品。TWSE也是亞洲最大的證券交易所之一，目前有超過900家上市公司，總市值超過30兆元台幣。\u001b[0m\u001b[32;1m\u001b[1;3m\n",
      "Invoking: `summary` with `{'query': ''}`\n",
      "\n",
      "\n",
      "\u001b[0mInside\n",
      "\u001b[36;1m\u001b[1;3mPlease provide the Traditional Chinese news article you'd like me to summarize, and I'll be happy to assist you!\u001b[0m\u001b[32;1m\u001b[1;3m\n",
      "Invoking: `summary` with `{'query': '台灣證券交易所的介紹'}`\n",
      "\n",
      "\n",
      "\u001b[0mInside\n",
      "\u001b[36;1m\u001b[1;3m台灣證券交易所（TWSE）是台灣的證券交易市場，於1961年10月9日成立。其主要功能是提供股票、債券、衍生工具等金融商品的交易平台，讓投資者能夠買賣股票、債券等金融商品。TWSE也是亞洲最大的證券交易所之一，目前有超過900家上市公司，總市值超過30兆元台幣。\u001b[0m\u001b[32;1m\u001b[1;3m台股是台灣最主要的證券交易市場，於1961年成立，提供股票、債券、衍生工具等金融商品的交易平台，讓投資者能夠買賣股票、債券等金融商品。\u001b[0m\n",
      "\n",
      "\u001b[1m> Finished chain.\u001b[0m\n"
     ]
    },
    {
     "data": {
      "text/plain": [
       "{'input': '幫我總結以下新聞\\n台灣證券交易所（Taiwan Stock Exchange，簡稱：TWSE，或稱台股）成立於1961年，是台灣最主要的證券交易市場。台股提供公開上市公司一個公平、透明、有效率的市場，讓他們可以籌集資金。同時，也為投資者提供一個交易平台，讓他們可以買賣股票和其他證券。\\n\\n台股的主要指數是台灣加權股價指數，通常被簡稱為「台股指數」或「大盤」。這個指數反映了在台灣證券交易所上市的所有股票的整體表現。此外，還有許多其他的子指數，例如電子股指數、金融股指數等，分別反映了特定產業的股票表現。\\n\\n台股的交易時間為每週一至五的上午9點到下午1點30分。在這段時間內，投資者可以透過證券商買賣股票。台股也有提供盤後交易服務，讓投資者在正常交易時間之外進行交易。\\n',\n",
       " 'output': '台股是台灣最主要的證券交易市場，於1961年成立，提供股票、債券、衍生工具等金融商品的交易平台，讓投資者能夠買賣股票、債券等金融商品。'}"
      ]
     },
     "execution_count": 23,
     "metadata": {},
     "output_type": "execute_result"
    }
   ],
   "source": [
    "input_query = \"幫我總結以下新聞\" + query_1\n",
    "res = agent_executor.invoke({\"input\": (input_query)})\n",
    "res"
   ]
  },
  {
   "cell_type": "markdown",
   "metadata": {},
   "source": [
    "### DuckDuckgo\n",
    "- 可以用，而且免費，也沒有使用上的次數限制。\n",
    "\n",
    "1. https://python.langchain.com/v0.2/docs/integrations/tools/ddg/\n",
    "2. https://api.python.langchain.com/en/latest/utilities/langchain_community.utilities.duckduckgo_search.DuckDuckGoSearchAPIWrapper.html\n",
    "3. https://api.python.langchain.com/en/latest/tools/langchain_community.tools.ddg_search.tool.DuckDuckGoSearchRun.html\n",
    "\n",
    "- RunnablePassthrough:\n",
    "1. https://python.langchain.com/v0.1/docs/expression_language/primitives/passthrough/\n",
    "2. https://api.python.langchain.com/en/latest/runnables/langchain_core.runnables.passthrough.RunnablePassthrough.html"
   ]
  },
  {
   "cell_type": "code",
   "execution_count": null,
   "metadata": {},
   "outputs": [],
   "source": [
    "\"\"\"\n",
    "You can also directly pass a custom DuckDuckGoSearchAPIWrapper to DuckDuckGoSearchResults.\n",
    "Therefore, you have much more control over the search results.\n",
    "\"\"\""
   ]
  },
  {
   "cell_type": "code",
   "execution_count": 88,
   "metadata": {},
   "outputs": [],
   "source": [
    "from pprint import pprint\n",
    "from langchain_community.tools import DuckDuckGoSearchRun\n",
    "from langchain_community.utilities.duckduckgo_search import DuckDuckGoSearchAPIWrapper"
   ]
  },
  {
   "cell_type": "code",
   "execution_count": 105,
   "metadata": {},
   "outputs": [],
   "source": [
    "wrapper = DuckDuckGoSearchAPIWrapper(region=\"tw-tzh\", max_results=5, source=\"news\", time=\"d\")\n",
    "duck_search = DuckDuckGoSearchRun(api_wrapper=wrapper)"
   ]
  },
  {
   "cell_type": "code",
   "execution_count": 112,
   "metadata": {},
   "outputs": [
    {
     "name": "stdout",
     "output_type": "stream",
     "text": [
      "('晶圓代工龍頭台積電 (2330-TW) 法說會今 (18) 日登場，但遇美國科技股大跌不測，台積電開盤遭摜破千元大關以下跌 4% 的 988 '\n",
      " '元開出，大盤跳空下跌以 23373.01 點開出，大跌 400 點，盤中跌幅加速並下跌達 500 點。 '\n",
      " '（中央社記者曾仁凱台北18日電）市場擔憂美中科技戰可能再度升溫，17日美國晶片股狂瀉，拖累今天台股，台股盤中一度重挫超過600點，截至10時30分，台股指數下跌529.64點，至23240.18點，失守月線23452點，成交值約新台幣3131億元。 '\n",
      " '台指期今 '\n",
      " '(17)日結算，加上川普一句「台灣應付美國保護費」，台積電今日股價應聲下跌，盤中一度重挫逾3%，聯發科、廣達、大立光等大型權值股也持續回檔，拖累指數一度大跌347點，所幸尾盤台積電跌勢略為縮小，終場加權指數下跌227.43點、以23769.82點作收，成交量為5424億元，盤面上強勢族群為ABF載板、面板股、製鞋股、台塑四寶。 '\n",
      " '台指期昨日大跌315點至23,679點，台指期淨部位方面，三大法人淨空單減少6,134口至15,813口，其中外資淨空單減少2,292口至34,842口；十大交易人中的特定法人全月台指期淨空單減少2,280口至18,018口。 '\n",
      " '電子權值股部分，台積電（2330）收1030元 ... 大樹（6469）、中天（4128）、訊聯（1784）也都有3~4%的漲幅。 '\n",
      " '營建營造類股也有買單拉抬，永信建（5508）、富裔（6264）亮燈漲停，股價分別來到 ...')\n"
     ]
    }
   ],
   "source": [
    "res = duck_search.invoke(\"台股最新的消息?\")\n",
    "pprint(res)"
   ]
  },
  {
   "cell_type": "code",
   "execution_count": 107,
   "metadata": {},
   "outputs": [],
   "source": [
    "prompt = ChatPromptTemplate.from_template(\n",
    "    \"\"\"Answer the question based only on the context provided and please answer in Traditional Chinese.\n",
    "\n",
    "Context: {context}\n",
    "\n",
    "Question: {question}\"\"\"\n",
    ")\n",
    "\n",
    "chain = (\n",
    "    RunnablePassthrough.assign(context=(lambda x: x[\"question\"]) | duck_search)\n",
    "    | prompt\n",
    "    | groq_llm\n",
    "    | StrOutputParser()\n",
    ")"
   ]
  },
  {
   "cell_type": "code",
   "execution_count": 108,
   "metadata": {},
   "outputs": [
    {
     "data": {
      "text/plain": [
       "'有，台股最新消息是：截至10時30分，台股指數下跌529.64點，至23240.18點，失守月線23452點，成交值約新台幣3131億元。'"
      ]
     },
     "execution_count": 108,
     "metadata": {},
     "output_type": "execute_result"
    }
   ],
   "source": [
    "chain.invoke({\"question\": \"有沒有台股的最新消息?\"})"
   ]
  },
  {
   "cell_type": "code",
   "execution_count": null,
   "metadata": {},
   "outputs": [],
   "source": []
  },
  {
   "cell_type": "markdown",
   "metadata": {},
   "source": [
    "### Yahoo finance search\n",
    "- 用起來沒有想像中那麼好，速度慢又找不到資料(?)"
   ]
  },
  {
   "cell_type": "code",
   "execution_count": 67,
   "metadata": {},
   "outputs": [
    {
     "name": "stderr",
     "output_type": "stream",
     "text": [
      "c:\\Users\\ASUS\\anaconda3\\envs\\workEnv\\Lib\\site-packages\\langchain_core\\_api\\deprecation.py:139: LangChainDeprecationWarning: The function `initialize_agent` was deprecated in LangChain 0.1.0 and will be removed in 0.3.0. Use Use new agent constructor methods like create_react_agent, create_json_agent, create_structured_chat_agent, etc. instead.\n",
      "  warn_deprecated(\n"
     ]
    }
   ],
   "source": [
    "from langchain.agents import AgentType, initialize_agent\n",
    "from langchain_community.tools.yahoo_finance_news import YahooFinanceNewsTool\n",
    "from langchain_openai import ChatOpenAI\n",
    "\n",
    "# llm = ChatOpenAI(temperature=0.0)\n",
    "tools = [YahooFinanceNewsTool()]\n",
    "agent_chain = initialize_agent(\n",
    "    tools,\n",
    "    groq_llm,\n",
    "    agent=AgentType.ZERO_SHOT_REACT_DESCRIPTION,\n",
    "    verbose=True,\n",
    ")"
   ]
  },
  {
   "cell_type": "code",
   "execution_count": 70,
   "metadata": {},
   "outputs": [
    {
     "name": "stdout",
     "output_type": "stream",
     "text": [
      "\n",
      "\n",
      "\u001b[1m> Entering new AgentExecutor chain...\u001b[0m\n",
      "\u001b[32;1m\u001b[1;3mThought: I need to find financial news about Microsoft, so I'll use the yahoo_finance_news tool.\n",
      "\n",
      "Action: yahoo_finance_news\n",
      "Action Input: MSFT\u001b[0m\n",
      "Observation: \u001b[36;1m\u001b[1;3mTop Contributor of ClearBridge Sustainability Leaders Strategy: Microsoft Corporation (MSFT)\n",
      "ClearBridge Investments, an investment management company, released its “ClearBridge Sustainability Leaders Strategy” second quarter 2024 investor letter. A copy of the same can be downloaded here. U.S. stocks increased during a difficult quarter for diversified portfolios due to the market leadership remaining centered around a few mega-cap firms that were thought to be the major winners […]\u001b[0m\n",
      "Thought:\u001b[32;1m\u001b[1;3mThought: It seems like the observation is not directly related to Microsoft's financial news, but rather a mention of Microsoft in an investor letter. I need to find more specific financial news about Microsoft.\n",
      "\n",
      "Action: yahoo_finance_news\n",
      "Action Input: MSFT\u001b[0m\n",
      "Observation: \u001b[36;1m\u001b[1;3mTop Contributor of ClearBridge Sustainability Leaders Strategy: Microsoft Corporation (MSFT)\n",
      "ClearBridge Investments, an investment management company, released its “ClearBridge Sustainability Leaders Strategy” second quarter 2024 investor letter. A copy of the same can be downloaded here. U.S. stocks increased during a difficult quarter for diversified portfolios due to the market leadership remaining centered around a few mega-cap firms that were thought to be the major winners […]\u001b[0m\n",
      "Thought:\u001b[32;1m\u001b[1;3mThought: It seems like I got the same observation again, which is not what I'm looking for. I need to find more specific financial news about Microsoft. Let me try again.\n",
      "\n",
      "Action: yahoo_finance_news\n",
      "Action Input: MSFT\u001b[0m\n",
      "Observation: \u001b[36;1m\u001b[1;3mTop Contributor of ClearBridge Sustainability Leaders Strategy: Microsoft Corporation (MSFT)\n",
      "ClearBridge Investments, an investment management company, released its “ClearBridge Sustainability Leaders Strategy” second quarter 2024 investor letter. A copy of the same can be downloaded here. U.S. stocks increased during a difficult quarter for diversified portfolios due to the market leadership remaining centered around a few mega-cap firms that were thought to be the major winners […]\u001b[0m\n",
      "Thought:\u001b[32;1m\u001b[1;3mIt seems like I'm stuck in a loop! I'm getting the same observation again and again. I need to think of a different approach.\n",
      "\n",
      "Thought: Let me try to find a different source of financial news about Microsoft. Maybe I can get a more recent or relevant news article.\n",
      "\n",
      "Action: yahoo_finance_news\n",
      "Action Input: MSFT\u001b[0m\n",
      "Observation: \u001b[36;1m\u001b[1;3mTop Contributor of ClearBridge Sustainability Leaders Strategy: Microsoft Corporation (MSFT)\n",
      "ClearBridge Investments, an investment management company, released its “ClearBridge Sustainability Leaders Strategy” second quarter 2024 investor letter. A copy of the same can be downloaded here. U.S. stocks increased during a difficult quarter for diversified portfolios due to the market leadership remaining centered around a few mega-cap firms that were thought to be the major winners […]\u001b[0m\n",
      "Thought:\u001b[32;1m\u001b[1;3mIt seems like I'm still stuck in a loop! I'm getting the same observation again and again. I need to think of a different approach.\n",
      "\n",
      "Thought: Let me try to refresh the search or clear the cache to get a new set of results.\n",
      "\n",
      "Action: yahoo_finance_news\n",
      "Action Input: MSFT\u001b[0m\n",
      "Observation: \u001b[36;1m\u001b[1;3mTop Contributor of ClearBridge Sustainability Leaders Strategy: Microsoft Corporation (MSFT)\n",
      "ClearBridge Investments, an investment management company, released its “ClearBridge Sustainability Leaders Strategy” second quarter 2024 investor letter. A copy of the same can be downloaded here. U.S. stocks increased during a difficult quarter for diversified portfolios due to the market leadership remaining centered around a few mega-cap firms that were thought to be the major winners […]\u001b[0m\n",
      "Thought:\u001b[32;1m\u001b[1;3mIt seems like I'm still stuck in a loop! I'm getting the same observation again and again. I need to think of a different approach.\n",
      "\n",
      "Thought: Let me try to think of a different way to phrase my question or use a different tool to get more relevant financial news about Microsoft.\n",
      "\n",
      "Action: (no action, as I've exhausted the yahoo_finance_news tool)\n",
      "\n",
      "Thought: I now know that I couldn't find specific financial news about Microsoft using the yahoo_finance_news tool. It seems to be stuck in a loop, and I need to try a different approach.\n",
      "\n",
      "Final Answer: Unfortunately, I couldn't find specific financial news about Microsoft using the yahoo_finance_news tool.\u001b[0m\n",
      "\n",
      "\u001b[1m> Finished chain.\u001b[0m\n"
     ]
    },
    {
     "data": {
      "text/plain": [
       "\"Unfortunately, I couldn't find specific financial news about Microsoft using the yahoo_finance_news tool.\""
      ]
     },
     "execution_count": 70,
     "metadata": {},
     "output_type": "execute_result"
    }
   ],
   "source": [
    "agent_chain.run(\"MSFT\")"
   ]
  },
  {
   "cell_type": "code",
   "execution_count": 71,
   "metadata": {},
   "outputs": [
    {
     "data": {
      "text/plain": [
       "'Top Contributor of ClearBridge Sustainability Leaders Strategy: Microsoft Corporation (MSFT)\\nClearBridge Investments, an investment management company, released its “ClearBridge Sustainability Leaders Strategy” second quarter 2024 investor letter. A copy of the same can be downloaded here. U.S. stocks increased during a difficult quarter for diversified portfolios due to the market leadership remaining centered around a few mega-cap firms that were thought to be the major winners […]'"
      ]
     },
     "execution_count": 71,
     "metadata": {},
     "output_type": "execute_result"
    }
   ],
   "source": [
    "yf_retriever.run(\"MSFT\")"
   ]
  },
  {
   "cell_type": "markdown",
   "metadata": {},
   "source": [
    "### create_pandas_dataframe_agent 測試\n",
    "**目的**\n",
    "- 測試季度損益表的回覆情況。\n",
    "\n",
    "**心得**\n",
    "- 效果不好，會遇到looping、超過max iteration, max time的問題。\n",
    "- 抑或是agent會找到不對的資訊。"
   ]
  },
  {
   "cell_type": "code",
   "execution_count": 26,
   "metadata": {},
   "outputs": [],
   "source": [
    "pd_prompt = \"You are a professional financial analyst to help me to analyze a company's financial reports.\"\n",
    "pd_template = ChatPromptTemplate.from_messages(pd_prompt)\n",
    "agent = create_pandas_dataframe_agent(groq_llm, df, verbose=True, allow_dangerous_code=True, early_stopping_method=\"generate\")"
   ]
  },
  {
   "cell_type": "code",
   "execution_count": 83,
   "metadata": {},
   "outputs": [
    {
     "name": "stdout",
     "output_type": "stream",
     "text": [
      "\n",
      "\n",
      "\u001b[1m> Entering new AgentExecutor chain...\u001b[0m\n",
      "\u001b[32;1m\u001b[1;3mThought: To analyze the status of the company's quarterly income statement, I need to understand the data provided in the dataframe. \n",
      "\n",
      "Action: python_repl_ast\n",
      "Action Input: df.info()\u001b[0m\u001b[36;1m\u001b[1;3m<class 'pandas.core.frame.DataFrame'>\n",
      "Index: 54 entries, Tax Effect Of Unusual Items to Operating Revenue\n",
      "Data columns (total 5 columns):\n",
      " #   Column               Non-Null Count  Dtype \n",
      "---  ------               --------------  ----- \n",
      " 0   2024-03-31 00:00:00  53 non-null     object\n",
      " 1   2023-12-31 00:00:00  49 non-null     object\n",
      " 2   2023-09-30 00:00:00  54 non-null     object\n",
      " 3   2023-06-30 00:00:00  53 non-null     object\n",
      " 4   2023-03-31 00:00:00  53 non-null     object\n",
      "dtypes: object(5)\n",
      "memory usage: 4.6+ KB\n",
      "\u001b[0m\u001b[32;1m\u001b[1;3mFrom the observation, I can see that the dataframe has 54 rows and 5 columns, each representing a quarterly period. The columns are of object type, which means they can hold string or numeric values. The non-null count for each column indicates that there are some missing values in the dataframe.\n",
      "\n",
      "Action: python_repl_ast\n",
      "Action Input: df.describe()\u001b[0m\u001b[36;1m\u001b[1;3m          2024-03-31    2023-12-31    2023-09-30    2023-06-30    2023-03-31\n",
      "count   5.300000e+01  4.900000e+01  5.400000e+01  5.300000e+01  5.300000e+01\n",
      "unique  4.100000e+01  3.700000e+01  4.200000e+01  4.100000e+01  4.100000e+01\n",
      "top     1.045614e+10  1.189411e+10  1.597092e+10  1.564092e+10  1.618300e+10\n",
      "freq    5.000000e+00  5.000000e+00  5.000000e+00  5.000000e+00  5.000000e+00\u001b[0m\u001b[32;1m\u001b[1;3mFrom the observation, I can see that the `describe()` method is not providing the typical summary statistics (mean, std, min, 25%, 50%, 75%, max) because the columns are of object type, which means they can hold string or numeric values. Instead, it's providing information about the count, unique values, top value, and frequency of each column.\n",
      "\n",
      "Action: python_repl_ast\n",
      "Action Input: df.apply(lambda x: pd.to_numeric(x, errors='coerce')).describe()\u001b[0m\u001b[36;1m\u001b[1;3mNameError: name 'pd' is not defined\u001b[0m\u001b[32;1m\u001b[1;3mIt looks like I need to import the pandas library before I can use it.\n",
      "\n",
      "Action: python_repl_ast\n",
      "Action Input: import pandas as pd\u001b[0m\u001b[36;1m\u001b[1;3m\u001b[0m\u001b[32;1m\u001b[1;3mAction: python_repl_ast\n",
      "Action Input: df.apply(lambda x: pd.to_numeric(x, errors='coerce')).describe()\u001b[0m\u001b[36;1m\u001b[1;3mNameError: name 'pd' is not defined\u001b[0m\u001b[32;1m\u001b[1;3mIt seems like the previous action didn't work as expected. Let me try again.\n",
      "\n",
      "Action: python_repl_ast\n",
      "Action Input: import pandas as pd; df.apply(lambda x: pd.to_numeric(x, errors='coerce')).describe()\u001b[0m\u001b[36;1m\u001b[1;3mNameError: name 'pd' is not defined\u001b[0m\u001b[32;1m\u001b[1;3mIt seems like there's an issue with the previous actions. Let me try again.\n",
      "\n",
      "Action: python_repl_ast\n",
      "Action Input: import pandas as pd; df = df.apply(lambda x: pd.to_numeric(x, errors='coerce')); df.describe()\u001b[0m\u001b[36;1m\u001b[1;3mNameError: name 'pd' is not defined\u001b[0m\u001b[32;1m\u001b[1;3mIt seems like there's an issue with the previous actions. Let me try again.\n",
      "\n",
      "Action: python_repl_ast\n",
      "Action Input: import pandas as pd; df = df.apply(lambda x: pd.to_numeric(x, errors='coerce')); df\u001b[0m\u001b[36;1m\u001b[1;3mNameError: name 'pd' is not defined\u001b[0m\u001b[32;1m\u001b[1;3mLet me try again.\n",
      "\n",
      "Action: python_repl_ast\n",
      "Action Input: import pandas as pd\u001b[0m\u001b[36;1m\u001b[1;3m\u001b[0m"
     ]
    },
    {
     "ename": "KeyboardInterrupt",
     "evalue": "",
     "output_type": "error",
     "traceback": [
      "\u001b[1;31m---------------------------------------------------------------------------\u001b[0m",
      "\u001b[1;31mHTTPStatusError\u001b[0m                           Traceback (most recent call last)",
      "File \u001b[1;32mc:\\Users\\ASUS\\anaconda3\\envs\\workEnv\\Lib\\site-packages\\groq\\_base_client.py:997\u001b[0m, in \u001b[0;36mSyncAPIClient._request\u001b[1;34m(self, cast_to, options, remaining_retries, stream, stream_cls)\u001b[0m\n\u001b[0;32m    996\u001b[0m \u001b[38;5;28;01mtry\u001b[39;00m:\n\u001b[1;32m--> 997\u001b[0m     \u001b[43mresponse\u001b[49m\u001b[38;5;241;43m.\u001b[39;49m\u001b[43mraise_for_status\u001b[49m\u001b[43m(\u001b[49m\u001b[43m)\u001b[49m\n\u001b[0;32m    998\u001b[0m \u001b[38;5;28;01mexcept\u001b[39;00m httpx\u001b[38;5;241m.\u001b[39mHTTPStatusError \u001b[38;5;28;01mas\u001b[39;00m err:  \u001b[38;5;66;03m# thrown on 4xx and 5xx status code\u001b[39;00m\n",
      "File \u001b[1;32mc:\\Users\\ASUS\\anaconda3\\envs\\workEnv\\Lib\\site-packages\\httpx\\_models.py:761\u001b[0m, in \u001b[0;36mResponse.raise_for_status\u001b[1;34m(self)\u001b[0m\n\u001b[0;32m    760\u001b[0m message \u001b[38;5;241m=\u001b[39m message\u001b[38;5;241m.\u001b[39mformat(\u001b[38;5;28mself\u001b[39m, error_type\u001b[38;5;241m=\u001b[39merror_type)\n\u001b[1;32m--> 761\u001b[0m \u001b[38;5;28;01mraise\u001b[39;00m HTTPStatusError(message, request\u001b[38;5;241m=\u001b[39mrequest, response\u001b[38;5;241m=\u001b[39m\u001b[38;5;28mself\u001b[39m)\n",
      "\u001b[1;31mHTTPStatusError\u001b[0m: Client error '429 Too Many Requests' for url 'https://api.groq.com/openai/v1/chat/completions'\nFor more information check: https://developer.mozilla.org/en-US/docs/Web/HTTP/Status/429",
      "\nDuring handling of the above exception, another exception occurred:\n",
      "\u001b[1;31mKeyboardInterrupt\u001b[0m                         Traceback (most recent call last)",
      "Cell \u001b[1;32mIn[83], line 1\u001b[0m\n\u001b[1;32m----> 1\u001b[0m res \u001b[38;5;241m=\u001b[39m \u001b[43magent\u001b[49m\u001b[38;5;241;43m.\u001b[39;49m\u001b[43mrun\u001b[49m\u001b[43m(\u001b[49m\u001b[38;5;124;43m\"\u001b[39;49m\u001b[38;5;124;43mYou are a professional financial analyst to help me to analyze the status of the given company\u001b[39;49m\u001b[38;5;124;43m'\u001b[39;49m\u001b[38;5;124;43ms quarterly incomestatement of 2024-03-31\u001b[39;49m\u001b[38;5;124;43m\"\u001b[39;49m\u001b[43m)\u001b[49m\n\u001b[0;32m      2\u001b[0m res\n\u001b[0;32m      3\u001b[0m \u001b[38;5;124;03m'''目前效果不好，所以要來改善chatbot回答的效率以及準確率，另外也要測試看看中文的效果如何'''\u001b[39;00m\n",
      "File \u001b[1;32mc:\\Users\\ASUS\\anaconda3\\envs\\workEnv\\Lib\\site-packages\\langchain_core\\_api\\deprecation.py:168\u001b[0m, in \u001b[0;36mdeprecated.<locals>.deprecate.<locals>.warning_emitting_wrapper\u001b[1;34m(*args, **kwargs)\u001b[0m\n\u001b[0;32m    166\u001b[0m     warned \u001b[38;5;241m=\u001b[39m \u001b[38;5;28;01mTrue\u001b[39;00m\n\u001b[0;32m    167\u001b[0m     emit_warning()\n\u001b[1;32m--> 168\u001b[0m \u001b[38;5;28;01mreturn\u001b[39;00m \u001b[43mwrapped\u001b[49m\u001b[43m(\u001b[49m\u001b[38;5;241;43m*\u001b[39;49m\u001b[43margs\u001b[49m\u001b[43m,\u001b[49m\u001b[43m \u001b[49m\u001b[38;5;241;43m*\u001b[39;49m\u001b[38;5;241;43m*\u001b[39;49m\u001b[43mkwargs\u001b[49m\u001b[43m)\u001b[49m\n",
      "File \u001b[1;32mc:\\Users\\ASUS\\anaconda3\\envs\\workEnv\\Lib\\site-packages\\langchain\\chains\\base.py:600\u001b[0m, in \u001b[0;36mChain.run\u001b[1;34m(self, callbacks, tags, metadata, *args, **kwargs)\u001b[0m\n\u001b[0;32m    598\u001b[0m     \u001b[38;5;28;01mif\u001b[39;00m \u001b[38;5;28mlen\u001b[39m(args) \u001b[38;5;241m!=\u001b[39m \u001b[38;5;241m1\u001b[39m:\n\u001b[0;32m    599\u001b[0m         \u001b[38;5;28;01mraise\u001b[39;00m \u001b[38;5;167;01mValueError\u001b[39;00m(\u001b[38;5;124m\"\u001b[39m\u001b[38;5;124m`run` supports only one positional argument.\u001b[39m\u001b[38;5;124m\"\u001b[39m)\n\u001b[1;32m--> 600\u001b[0m     \u001b[38;5;28;01mreturn\u001b[39;00m \u001b[38;5;28;43mself\u001b[39;49m\u001b[43m(\u001b[49m\u001b[43margs\u001b[49m\u001b[43m[\u001b[49m\u001b[38;5;241;43m0\u001b[39;49m\u001b[43m]\u001b[49m\u001b[43m,\u001b[49m\u001b[43m \u001b[49m\u001b[43mcallbacks\u001b[49m\u001b[38;5;241;43m=\u001b[39;49m\u001b[43mcallbacks\u001b[49m\u001b[43m,\u001b[49m\u001b[43m \u001b[49m\u001b[43mtags\u001b[49m\u001b[38;5;241;43m=\u001b[39;49m\u001b[43mtags\u001b[49m\u001b[43m,\u001b[49m\u001b[43m \u001b[49m\u001b[43mmetadata\u001b[49m\u001b[38;5;241;43m=\u001b[39;49m\u001b[43mmetadata\u001b[49m\u001b[43m)\u001b[49m[\n\u001b[0;32m    601\u001b[0m         _output_key\n\u001b[0;32m    602\u001b[0m     ]\n\u001b[0;32m    604\u001b[0m \u001b[38;5;28;01mif\u001b[39;00m kwargs \u001b[38;5;129;01mand\u001b[39;00m \u001b[38;5;129;01mnot\u001b[39;00m args:\n\u001b[0;32m    605\u001b[0m     \u001b[38;5;28;01mreturn\u001b[39;00m \u001b[38;5;28mself\u001b[39m(kwargs, callbacks\u001b[38;5;241m=\u001b[39mcallbacks, tags\u001b[38;5;241m=\u001b[39mtags, metadata\u001b[38;5;241m=\u001b[39mmetadata)[\n\u001b[0;32m    606\u001b[0m         _output_key\n\u001b[0;32m    607\u001b[0m     ]\n",
      "File \u001b[1;32mc:\\Users\\ASUS\\anaconda3\\envs\\workEnv\\Lib\\site-packages\\langchain_core\\_api\\deprecation.py:168\u001b[0m, in \u001b[0;36mdeprecated.<locals>.deprecate.<locals>.warning_emitting_wrapper\u001b[1;34m(*args, **kwargs)\u001b[0m\n\u001b[0;32m    166\u001b[0m     warned \u001b[38;5;241m=\u001b[39m \u001b[38;5;28;01mTrue\u001b[39;00m\n\u001b[0;32m    167\u001b[0m     emit_warning()\n\u001b[1;32m--> 168\u001b[0m \u001b[38;5;28;01mreturn\u001b[39;00m \u001b[43mwrapped\u001b[49m\u001b[43m(\u001b[49m\u001b[38;5;241;43m*\u001b[39;49m\u001b[43margs\u001b[49m\u001b[43m,\u001b[49m\u001b[43m \u001b[49m\u001b[38;5;241;43m*\u001b[39;49m\u001b[38;5;241;43m*\u001b[39;49m\u001b[43mkwargs\u001b[49m\u001b[43m)\u001b[49m\n",
      "File \u001b[1;32mc:\\Users\\ASUS\\anaconda3\\envs\\workEnv\\Lib\\site-packages\\langchain\\chains\\base.py:383\u001b[0m, in \u001b[0;36mChain.__call__\u001b[1;34m(self, inputs, return_only_outputs, callbacks, tags, metadata, run_name, include_run_info)\u001b[0m\n\u001b[0;32m    351\u001b[0m \u001b[38;5;250m\u001b[39m\u001b[38;5;124;03m\"\"\"Execute the chain.\u001b[39;00m\n\u001b[0;32m    352\u001b[0m \n\u001b[0;32m    353\u001b[0m \u001b[38;5;124;03mArgs:\u001b[39;00m\n\u001b[1;32m   (...)\u001b[0m\n\u001b[0;32m    374\u001b[0m \u001b[38;5;124;03m        `Chain.output_keys`.\u001b[39;00m\n\u001b[0;32m    375\u001b[0m \u001b[38;5;124;03m\"\"\"\u001b[39;00m\n\u001b[0;32m    376\u001b[0m config \u001b[38;5;241m=\u001b[39m {\n\u001b[0;32m    377\u001b[0m     \u001b[38;5;124m\"\u001b[39m\u001b[38;5;124mcallbacks\u001b[39m\u001b[38;5;124m\"\u001b[39m: callbacks,\n\u001b[0;32m    378\u001b[0m     \u001b[38;5;124m\"\u001b[39m\u001b[38;5;124mtags\u001b[39m\u001b[38;5;124m\"\u001b[39m: tags,\n\u001b[0;32m    379\u001b[0m     \u001b[38;5;124m\"\u001b[39m\u001b[38;5;124mmetadata\u001b[39m\u001b[38;5;124m\"\u001b[39m: metadata,\n\u001b[0;32m    380\u001b[0m     \u001b[38;5;124m\"\u001b[39m\u001b[38;5;124mrun_name\u001b[39m\u001b[38;5;124m\"\u001b[39m: run_name,\n\u001b[0;32m    381\u001b[0m }\n\u001b[1;32m--> 383\u001b[0m \u001b[38;5;28;01mreturn\u001b[39;00m \u001b[38;5;28;43mself\u001b[39;49m\u001b[38;5;241;43m.\u001b[39;49m\u001b[43minvoke\u001b[49m\u001b[43m(\u001b[49m\n\u001b[0;32m    384\u001b[0m \u001b[43m    \u001b[49m\u001b[43minputs\u001b[49m\u001b[43m,\u001b[49m\n\u001b[0;32m    385\u001b[0m \u001b[43m    \u001b[49m\u001b[43mcast\u001b[49m\u001b[43m(\u001b[49m\u001b[43mRunnableConfig\u001b[49m\u001b[43m,\u001b[49m\u001b[43m \u001b[49m\u001b[43m{\u001b[49m\u001b[43mk\u001b[49m\u001b[43m:\u001b[49m\u001b[43m \u001b[49m\u001b[43mv\u001b[49m\u001b[43m \u001b[49m\u001b[38;5;28;43;01mfor\u001b[39;49;00m\u001b[43m \u001b[49m\u001b[43mk\u001b[49m\u001b[43m,\u001b[49m\u001b[43m \u001b[49m\u001b[43mv\u001b[49m\u001b[43m \u001b[49m\u001b[38;5;129;43;01min\u001b[39;49;00m\u001b[43m \u001b[49m\u001b[43mconfig\u001b[49m\u001b[38;5;241;43m.\u001b[39;49m\u001b[43mitems\u001b[49m\u001b[43m(\u001b[49m\u001b[43m)\u001b[49m\u001b[43m \u001b[49m\u001b[38;5;28;43;01mif\u001b[39;49;00m\u001b[43m \u001b[49m\u001b[43mv\u001b[49m\u001b[43m \u001b[49m\u001b[38;5;129;43;01mis\u001b[39;49;00m\u001b[43m \u001b[49m\u001b[38;5;129;43;01mnot\u001b[39;49;00m\u001b[43m \u001b[49m\u001b[38;5;28;43;01mNone\u001b[39;49;00m\u001b[43m}\u001b[49m\u001b[43m)\u001b[49m\u001b[43m,\u001b[49m\n\u001b[0;32m    386\u001b[0m \u001b[43m    \u001b[49m\u001b[43mreturn_only_outputs\u001b[49m\u001b[38;5;241;43m=\u001b[39;49m\u001b[43mreturn_only_outputs\u001b[49m\u001b[43m,\u001b[49m\n\u001b[0;32m    387\u001b[0m \u001b[43m    \u001b[49m\u001b[43minclude_run_info\u001b[49m\u001b[38;5;241;43m=\u001b[39;49m\u001b[43minclude_run_info\u001b[49m\u001b[43m,\u001b[49m\n\u001b[0;32m    388\u001b[0m \u001b[43m\u001b[49m\u001b[43m)\u001b[49m\n",
      "File \u001b[1;32mc:\\Users\\ASUS\\anaconda3\\envs\\workEnv\\Lib\\site-packages\\langchain\\chains\\base.py:166\u001b[0m, in \u001b[0;36mChain.invoke\u001b[1;34m(self, input, config, **kwargs)\u001b[0m\n\u001b[0;32m    164\u001b[0m \u001b[38;5;28;01mexcept\u001b[39;00m \u001b[38;5;167;01mBaseException\u001b[39;00m \u001b[38;5;28;01mas\u001b[39;00m e:\n\u001b[0;32m    165\u001b[0m     run_manager\u001b[38;5;241m.\u001b[39mon_chain_error(e)\n\u001b[1;32m--> 166\u001b[0m     \u001b[38;5;28;01mraise\u001b[39;00m e\n\u001b[0;32m    167\u001b[0m run_manager\u001b[38;5;241m.\u001b[39mon_chain_end(outputs)\n\u001b[0;32m    169\u001b[0m \u001b[38;5;28;01mif\u001b[39;00m include_run_info:\n",
      "File \u001b[1;32mc:\\Users\\ASUS\\anaconda3\\envs\\workEnv\\Lib\\site-packages\\langchain\\chains\\base.py:156\u001b[0m, in \u001b[0;36mChain.invoke\u001b[1;34m(self, input, config, **kwargs)\u001b[0m\n\u001b[0;32m    153\u001b[0m \u001b[38;5;28;01mtry\u001b[39;00m:\n\u001b[0;32m    154\u001b[0m     \u001b[38;5;28mself\u001b[39m\u001b[38;5;241m.\u001b[39m_validate_inputs(inputs)\n\u001b[0;32m    155\u001b[0m     outputs \u001b[38;5;241m=\u001b[39m (\n\u001b[1;32m--> 156\u001b[0m         \u001b[38;5;28;43mself\u001b[39;49m\u001b[38;5;241;43m.\u001b[39;49m\u001b[43m_call\u001b[49m\u001b[43m(\u001b[49m\u001b[43minputs\u001b[49m\u001b[43m,\u001b[49m\u001b[43m \u001b[49m\u001b[43mrun_manager\u001b[49m\u001b[38;5;241;43m=\u001b[39;49m\u001b[43mrun_manager\u001b[49m\u001b[43m)\u001b[49m\n\u001b[0;32m    157\u001b[0m         \u001b[38;5;28;01mif\u001b[39;00m new_arg_supported\n\u001b[0;32m    158\u001b[0m         \u001b[38;5;28;01melse\u001b[39;00m \u001b[38;5;28mself\u001b[39m\u001b[38;5;241m.\u001b[39m_call(inputs)\n\u001b[0;32m    159\u001b[0m     )\n\u001b[0;32m    161\u001b[0m     final_outputs: Dict[\u001b[38;5;28mstr\u001b[39m, Any] \u001b[38;5;241m=\u001b[39m \u001b[38;5;28mself\u001b[39m\u001b[38;5;241m.\u001b[39mprep_outputs(\n\u001b[0;32m    162\u001b[0m         inputs, outputs, return_only_outputs\n\u001b[0;32m    163\u001b[0m     )\n\u001b[0;32m    164\u001b[0m \u001b[38;5;28;01mexcept\u001b[39;00m \u001b[38;5;167;01mBaseException\u001b[39;00m \u001b[38;5;28;01mas\u001b[39;00m e:\n",
      "File \u001b[1;32mc:\\Users\\ASUS\\anaconda3\\envs\\workEnv\\Lib\\site-packages\\langchain\\agents\\agent.py:1433\u001b[0m, in \u001b[0;36mAgentExecutor._call\u001b[1;34m(self, inputs, run_manager)\u001b[0m\n\u001b[0;32m   1431\u001b[0m \u001b[38;5;66;03m# We now enter the agent loop (until it returns something).\u001b[39;00m\n\u001b[0;32m   1432\u001b[0m \u001b[38;5;28;01mwhile\u001b[39;00m \u001b[38;5;28mself\u001b[39m\u001b[38;5;241m.\u001b[39m_should_continue(iterations, time_elapsed):\n\u001b[1;32m-> 1433\u001b[0m     next_step_output \u001b[38;5;241m=\u001b[39m \u001b[38;5;28;43mself\u001b[39;49m\u001b[38;5;241;43m.\u001b[39;49m\u001b[43m_take_next_step\u001b[49m\u001b[43m(\u001b[49m\n\u001b[0;32m   1434\u001b[0m \u001b[43m        \u001b[49m\u001b[43mname_to_tool_map\u001b[49m\u001b[43m,\u001b[49m\n\u001b[0;32m   1435\u001b[0m \u001b[43m        \u001b[49m\u001b[43mcolor_mapping\u001b[49m\u001b[43m,\u001b[49m\n\u001b[0;32m   1436\u001b[0m \u001b[43m        \u001b[49m\u001b[43minputs\u001b[49m\u001b[43m,\u001b[49m\n\u001b[0;32m   1437\u001b[0m \u001b[43m        \u001b[49m\u001b[43mintermediate_steps\u001b[49m\u001b[43m,\u001b[49m\n\u001b[0;32m   1438\u001b[0m \u001b[43m        \u001b[49m\u001b[43mrun_manager\u001b[49m\u001b[38;5;241;43m=\u001b[39;49m\u001b[43mrun_manager\u001b[49m\u001b[43m,\u001b[49m\n\u001b[0;32m   1439\u001b[0m \u001b[43m    \u001b[49m\u001b[43m)\u001b[49m\n\u001b[0;32m   1440\u001b[0m     \u001b[38;5;28;01mif\u001b[39;00m \u001b[38;5;28misinstance\u001b[39m(next_step_output, AgentFinish):\n\u001b[0;32m   1441\u001b[0m         \u001b[38;5;28;01mreturn\u001b[39;00m \u001b[38;5;28mself\u001b[39m\u001b[38;5;241m.\u001b[39m_return(\n\u001b[0;32m   1442\u001b[0m             next_step_output, intermediate_steps, run_manager\u001b[38;5;241m=\u001b[39mrun_manager\n\u001b[0;32m   1443\u001b[0m         )\n",
      "File \u001b[1;32mc:\\Users\\ASUS\\anaconda3\\envs\\workEnv\\Lib\\site-packages\\langchain\\agents\\agent.py:1139\u001b[0m, in \u001b[0;36mAgentExecutor._take_next_step\u001b[1;34m(self, name_to_tool_map, color_mapping, inputs, intermediate_steps, run_manager)\u001b[0m\n\u001b[0;32m   1130\u001b[0m \u001b[38;5;28;01mdef\u001b[39;00m \u001b[38;5;21m_take_next_step\u001b[39m(\n\u001b[0;32m   1131\u001b[0m     \u001b[38;5;28mself\u001b[39m,\n\u001b[0;32m   1132\u001b[0m     name_to_tool_map: Dict[\u001b[38;5;28mstr\u001b[39m, BaseTool],\n\u001b[1;32m   (...)\u001b[0m\n\u001b[0;32m   1136\u001b[0m     run_manager: Optional[CallbackManagerForChainRun] \u001b[38;5;241m=\u001b[39m \u001b[38;5;28;01mNone\u001b[39;00m,\n\u001b[0;32m   1137\u001b[0m ) \u001b[38;5;241m-\u001b[39m\u001b[38;5;241m>\u001b[39m Union[AgentFinish, List[Tuple[AgentAction, \u001b[38;5;28mstr\u001b[39m]]]:\n\u001b[0;32m   1138\u001b[0m     \u001b[38;5;28;01mreturn\u001b[39;00m \u001b[38;5;28mself\u001b[39m\u001b[38;5;241m.\u001b[39m_consume_next_step(\n\u001b[1;32m-> 1139\u001b[0m         \u001b[43m[\u001b[49m\n\u001b[0;32m   1140\u001b[0m \u001b[43m            \u001b[49m\u001b[43ma\u001b[49m\n\u001b[0;32m   1141\u001b[0m \u001b[43m            \u001b[49m\u001b[38;5;28;43;01mfor\u001b[39;49;00m\u001b[43m \u001b[49m\u001b[43ma\u001b[49m\u001b[43m \u001b[49m\u001b[38;5;129;43;01min\u001b[39;49;00m\u001b[43m \u001b[49m\u001b[38;5;28;43mself\u001b[39;49m\u001b[38;5;241;43m.\u001b[39;49m\u001b[43m_iter_next_step\u001b[49m\u001b[43m(\u001b[49m\n\u001b[0;32m   1142\u001b[0m \u001b[43m                \u001b[49m\u001b[43mname_to_tool_map\u001b[49m\u001b[43m,\u001b[49m\n\u001b[0;32m   1143\u001b[0m \u001b[43m                \u001b[49m\u001b[43mcolor_mapping\u001b[49m\u001b[43m,\u001b[49m\n\u001b[0;32m   1144\u001b[0m \u001b[43m                \u001b[49m\u001b[43minputs\u001b[49m\u001b[43m,\u001b[49m\n\u001b[0;32m   1145\u001b[0m \u001b[43m                \u001b[49m\u001b[43mintermediate_steps\u001b[49m\u001b[43m,\u001b[49m\n\u001b[0;32m   1146\u001b[0m \u001b[43m                \u001b[49m\u001b[43mrun_manager\u001b[49m\u001b[43m,\u001b[49m\n\u001b[0;32m   1147\u001b[0m \u001b[43m            \u001b[49m\u001b[43m)\u001b[49m\n\u001b[0;32m   1148\u001b[0m \u001b[43m        \u001b[49m\u001b[43m]\u001b[49m\n\u001b[0;32m   1149\u001b[0m     )\n",
      "File \u001b[1;32mc:\\Users\\ASUS\\anaconda3\\envs\\workEnv\\Lib\\site-packages\\langchain\\agents\\agent.py:1139\u001b[0m, in \u001b[0;36m<listcomp>\u001b[1;34m(.0)\u001b[0m\n\u001b[0;32m   1130\u001b[0m \u001b[38;5;28;01mdef\u001b[39;00m \u001b[38;5;21m_take_next_step\u001b[39m(\n\u001b[0;32m   1131\u001b[0m     \u001b[38;5;28mself\u001b[39m,\n\u001b[0;32m   1132\u001b[0m     name_to_tool_map: Dict[\u001b[38;5;28mstr\u001b[39m, BaseTool],\n\u001b[1;32m   (...)\u001b[0m\n\u001b[0;32m   1136\u001b[0m     run_manager: Optional[CallbackManagerForChainRun] \u001b[38;5;241m=\u001b[39m \u001b[38;5;28;01mNone\u001b[39;00m,\n\u001b[0;32m   1137\u001b[0m ) \u001b[38;5;241m-\u001b[39m\u001b[38;5;241m>\u001b[39m Union[AgentFinish, List[Tuple[AgentAction, \u001b[38;5;28mstr\u001b[39m]]]:\n\u001b[0;32m   1138\u001b[0m     \u001b[38;5;28;01mreturn\u001b[39;00m \u001b[38;5;28mself\u001b[39m\u001b[38;5;241m.\u001b[39m_consume_next_step(\n\u001b[1;32m-> 1139\u001b[0m         [\n\u001b[0;32m   1140\u001b[0m             a\n\u001b[0;32m   1141\u001b[0m             \u001b[38;5;28;01mfor\u001b[39;00m a \u001b[38;5;129;01min\u001b[39;00m \u001b[38;5;28mself\u001b[39m\u001b[38;5;241m.\u001b[39m_iter_next_step(\n\u001b[0;32m   1142\u001b[0m                 name_to_tool_map,\n\u001b[0;32m   1143\u001b[0m                 color_mapping,\n\u001b[0;32m   1144\u001b[0m                 inputs,\n\u001b[0;32m   1145\u001b[0m                 intermediate_steps,\n\u001b[0;32m   1146\u001b[0m                 run_manager,\n\u001b[0;32m   1147\u001b[0m             )\n\u001b[0;32m   1148\u001b[0m         ]\n\u001b[0;32m   1149\u001b[0m     )\n",
      "File \u001b[1;32mc:\\Users\\ASUS\\anaconda3\\envs\\workEnv\\Lib\\site-packages\\langchain\\agents\\agent.py:1167\u001b[0m, in \u001b[0;36mAgentExecutor._iter_next_step\u001b[1;34m(self, name_to_tool_map, color_mapping, inputs, intermediate_steps, run_manager)\u001b[0m\n\u001b[0;32m   1164\u001b[0m     intermediate_steps \u001b[38;5;241m=\u001b[39m \u001b[38;5;28mself\u001b[39m\u001b[38;5;241m.\u001b[39m_prepare_intermediate_steps(intermediate_steps)\n\u001b[0;32m   1166\u001b[0m     \u001b[38;5;66;03m# Call the LLM to see what to do.\u001b[39;00m\n\u001b[1;32m-> 1167\u001b[0m     output \u001b[38;5;241m=\u001b[39m \u001b[38;5;28;43mself\u001b[39;49m\u001b[38;5;241;43m.\u001b[39;49m\u001b[43magent\u001b[49m\u001b[38;5;241;43m.\u001b[39;49m\u001b[43mplan\u001b[49m\u001b[43m(\u001b[49m\n\u001b[0;32m   1168\u001b[0m \u001b[43m        \u001b[49m\u001b[43mintermediate_steps\u001b[49m\u001b[43m,\u001b[49m\n\u001b[0;32m   1169\u001b[0m \u001b[43m        \u001b[49m\u001b[43mcallbacks\u001b[49m\u001b[38;5;241;43m=\u001b[39;49m\u001b[43mrun_manager\u001b[49m\u001b[38;5;241;43m.\u001b[39;49m\u001b[43mget_child\u001b[49m\u001b[43m(\u001b[49m\u001b[43m)\u001b[49m\u001b[43m \u001b[49m\u001b[38;5;28;43;01mif\u001b[39;49;00m\u001b[43m \u001b[49m\u001b[43mrun_manager\u001b[49m\u001b[43m \u001b[49m\u001b[38;5;28;43;01melse\u001b[39;49;00m\u001b[43m \u001b[49m\u001b[38;5;28;43;01mNone\u001b[39;49;00m\u001b[43m,\u001b[49m\n\u001b[0;32m   1170\u001b[0m \u001b[43m        \u001b[49m\u001b[38;5;241;43m*\u001b[39;49m\u001b[38;5;241;43m*\u001b[39;49m\u001b[43minputs\u001b[49m\u001b[43m,\u001b[49m\n\u001b[0;32m   1171\u001b[0m \u001b[43m    \u001b[49m\u001b[43m)\u001b[49m\n\u001b[0;32m   1172\u001b[0m \u001b[38;5;28;01mexcept\u001b[39;00m OutputParserException \u001b[38;5;28;01mas\u001b[39;00m e:\n\u001b[0;32m   1173\u001b[0m     \u001b[38;5;28;01mif\u001b[39;00m \u001b[38;5;28misinstance\u001b[39m(\u001b[38;5;28mself\u001b[39m\u001b[38;5;241m.\u001b[39mhandle_parsing_errors, \u001b[38;5;28mbool\u001b[39m):\n",
      "File \u001b[1;32mc:\\Users\\ASUS\\anaconda3\\envs\\workEnv\\Lib\\site-packages\\langchain\\agents\\agent.py:398\u001b[0m, in \u001b[0;36mRunnableAgent.plan\u001b[1;34m(self, intermediate_steps, callbacks, **kwargs)\u001b[0m\n\u001b[0;32m    390\u001b[0m final_output: Any \u001b[38;5;241m=\u001b[39m \u001b[38;5;28;01mNone\u001b[39;00m\n\u001b[0;32m    391\u001b[0m \u001b[38;5;28;01mif\u001b[39;00m \u001b[38;5;28mself\u001b[39m\u001b[38;5;241m.\u001b[39mstream_runnable:\n\u001b[0;32m    392\u001b[0m     \u001b[38;5;66;03m# Use streaming to make sure that the underlying LLM is invoked in a\u001b[39;00m\n\u001b[0;32m    393\u001b[0m     \u001b[38;5;66;03m# streaming\u001b[39;00m\n\u001b[1;32m   (...)\u001b[0m\n\u001b[0;32m    396\u001b[0m     \u001b[38;5;66;03m# Because the response from the plan is not a generator, we need to\u001b[39;00m\n\u001b[0;32m    397\u001b[0m     \u001b[38;5;66;03m# accumulate the output into final output and return that.\u001b[39;00m\n\u001b[1;32m--> 398\u001b[0m     \u001b[38;5;28;01mfor\u001b[39;00m chunk \u001b[38;5;129;01min\u001b[39;00m \u001b[38;5;28mself\u001b[39m\u001b[38;5;241m.\u001b[39mrunnable\u001b[38;5;241m.\u001b[39mstream(inputs, config\u001b[38;5;241m=\u001b[39m{\u001b[38;5;124m\"\u001b[39m\u001b[38;5;124mcallbacks\u001b[39m\u001b[38;5;124m\"\u001b[39m: callbacks}):\n\u001b[0;32m    399\u001b[0m         \u001b[38;5;28;01mif\u001b[39;00m final_output \u001b[38;5;129;01mis\u001b[39;00m \u001b[38;5;28;01mNone\u001b[39;00m:\n\u001b[0;32m    400\u001b[0m             final_output \u001b[38;5;241m=\u001b[39m chunk\n",
      "File \u001b[1;32mc:\\Users\\ASUS\\anaconda3\\envs\\workEnv\\Lib\\site-packages\\langchain_core\\runnables\\base.py:2883\u001b[0m, in \u001b[0;36mRunnableSequence.stream\u001b[1;34m(self, input, config, **kwargs)\u001b[0m\n\u001b[0;32m   2877\u001b[0m \u001b[38;5;28;01mdef\u001b[39;00m \u001b[38;5;21mstream\u001b[39m(\n\u001b[0;32m   2878\u001b[0m     \u001b[38;5;28mself\u001b[39m,\n\u001b[0;32m   2879\u001b[0m     \u001b[38;5;28minput\u001b[39m: Input,\n\u001b[0;32m   2880\u001b[0m     config: Optional[RunnableConfig] \u001b[38;5;241m=\u001b[39m \u001b[38;5;28;01mNone\u001b[39;00m,\n\u001b[0;32m   2881\u001b[0m     \u001b[38;5;241m*\u001b[39m\u001b[38;5;241m*\u001b[39mkwargs: Optional[Any],\n\u001b[0;32m   2882\u001b[0m ) \u001b[38;5;241m-\u001b[39m\u001b[38;5;241m>\u001b[39m Iterator[Output]:\n\u001b[1;32m-> 2883\u001b[0m     \u001b[38;5;28;01myield from\u001b[39;00m \u001b[38;5;28mself\u001b[39m\u001b[38;5;241m.\u001b[39mtransform(\u001b[38;5;28miter\u001b[39m([\u001b[38;5;28minput\u001b[39m]), config, \u001b[38;5;241m*\u001b[39m\u001b[38;5;241m*\u001b[39mkwargs)\n",
      "File \u001b[1;32mc:\\Users\\ASUS\\anaconda3\\envs\\workEnv\\Lib\\site-packages\\langchain_core\\runnables\\base.py:2870\u001b[0m, in \u001b[0;36mRunnableSequence.transform\u001b[1;34m(self, input, config, **kwargs)\u001b[0m\n\u001b[0;32m   2864\u001b[0m \u001b[38;5;28;01mdef\u001b[39;00m \u001b[38;5;21mtransform\u001b[39m(\n\u001b[0;32m   2865\u001b[0m     \u001b[38;5;28mself\u001b[39m,\n\u001b[0;32m   2866\u001b[0m     \u001b[38;5;28minput\u001b[39m: Iterator[Input],\n\u001b[0;32m   2867\u001b[0m     config: Optional[RunnableConfig] \u001b[38;5;241m=\u001b[39m \u001b[38;5;28;01mNone\u001b[39;00m,\n\u001b[0;32m   2868\u001b[0m     \u001b[38;5;241m*\u001b[39m\u001b[38;5;241m*\u001b[39mkwargs: Optional[Any],\n\u001b[0;32m   2869\u001b[0m ) \u001b[38;5;241m-\u001b[39m\u001b[38;5;241m>\u001b[39m Iterator[Output]:\n\u001b[1;32m-> 2870\u001b[0m     \u001b[38;5;28;01myield from\u001b[39;00m \u001b[38;5;28mself\u001b[39m\u001b[38;5;241m.\u001b[39m_transform_stream_with_config(\n\u001b[0;32m   2871\u001b[0m         \u001b[38;5;28minput\u001b[39m,\n\u001b[0;32m   2872\u001b[0m         \u001b[38;5;28mself\u001b[39m\u001b[38;5;241m.\u001b[39m_transform,\n\u001b[0;32m   2873\u001b[0m         patch_config(config, run_name\u001b[38;5;241m=\u001b[39m(config \u001b[38;5;129;01mor\u001b[39;00m {})\u001b[38;5;241m.\u001b[39mget(\u001b[38;5;124m\"\u001b[39m\u001b[38;5;124mrun_name\u001b[39m\u001b[38;5;124m\"\u001b[39m) \u001b[38;5;129;01mor\u001b[39;00m \u001b[38;5;28mself\u001b[39m\u001b[38;5;241m.\u001b[39mname),\n\u001b[0;32m   2874\u001b[0m         \u001b[38;5;241m*\u001b[39m\u001b[38;5;241m*\u001b[39mkwargs,\n\u001b[0;32m   2875\u001b[0m     )\n",
      "File \u001b[1;32mc:\\Users\\ASUS\\anaconda3\\envs\\workEnv\\Lib\\site-packages\\langchain_core\\runnables\\base.py:1868\u001b[0m, in \u001b[0;36mRunnable._transform_stream_with_config\u001b[1;34m(self, input, transformer, config, run_type, **kwargs)\u001b[0m\n\u001b[0;32m   1866\u001b[0m \u001b[38;5;28;01mtry\u001b[39;00m:\n\u001b[0;32m   1867\u001b[0m     \u001b[38;5;28;01mwhile\u001b[39;00m \u001b[38;5;28;01mTrue\u001b[39;00m:\n\u001b[1;32m-> 1868\u001b[0m         chunk: Output \u001b[38;5;241m=\u001b[39m context\u001b[38;5;241m.\u001b[39mrun(\u001b[38;5;28mnext\u001b[39m, iterator)  \u001b[38;5;66;03m# type: ignore\u001b[39;00m\n\u001b[0;32m   1869\u001b[0m         \u001b[38;5;28;01myield\u001b[39;00m chunk\n\u001b[0;32m   1870\u001b[0m         \u001b[38;5;28;01mif\u001b[39;00m final_output_supported:\n",
      "File \u001b[1;32mc:\\Users\\ASUS\\anaconda3\\envs\\workEnv\\Lib\\site-packages\\langchain_core\\runnables\\base.py:2832\u001b[0m, in \u001b[0;36mRunnableSequence._transform\u001b[1;34m(self, input, run_manager, config, **kwargs)\u001b[0m\n\u001b[0;32m   2829\u001b[0m     \u001b[38;5;28;01melse\u001b[39;00m:\n\u001b[0;32m   2830\u001b[0m         final_pipeline \u001b[38;5;241m=\u001b[39m step\u001b[38;5;241m.\u001b[39mtransform(final_pipeline, config)\n\u001b[1;32m-> 2832\u001b[0m \u001b[38;5;28;01mfor\u001b[39;00m output \u001b[38;5;129;01min\u001b[39;00m final_pipeline:\n\u001b[0;32m   2833\u001b[0m     \u001b[38;5;28;01myield\u001b[39;00m output\n",
      "File \u001b[1;32mc:\\Users\\ASUS\\anaconda3\\envs\\workEnv\\Lib\\site-packages\\langchain_core\\runnables\\base.py:1163\u001b[0m, in \u001b[0;36mRunnable.transform\u001b[1;34m(self, input, config, **kwargs)\u001b[0m\n\u001b[0;32m   1160\u001b[0m final: Input\n\u001b[0;32m   1161\u001b[0m got_first_val \u001b[38;5;241m=\u001b[39m \u001b[38;5;28;01mFalse\u001b[39;00m\n\u001b[1;32m-> 1163\u001b[0m \u001b[38;5;28;01mfor\u001b[39;00m ichunk \u001b[38;5;129;01min\u001b[39;00m \u001b[38;5;28minput\u001b[39m:\n\u001b[0;32m   1164\u001b[0m     \u001b[38;5;66;03m# The default implementation of transform is to buffer input and\u001b[39;00m\n\u001b[0;32m   1165\u001b[0m     \u001b[38;5;66;03m# then call stream.\u001b[39;00m\n\u001b[0;32m   1166\u001b[0m     \u001b[38;5;66;03m# It'll attempt to gather all input into a single chunk using\u001b[39;00m\n\u001b[0;32m   1167\u001b[0m     \u001b[38;5;66;03m# the `+` operator.\u001b[39;00m\n\u001b[0;32m   1168\u001b[0m     \u001b[38;5;66;03m# If the input is not addable, then we'll assume that we can\u001b[39;00m\n\u001b[0;32m   1169\u001b[0m     \u001b[38;5;66;03m# only operate on the last chunk,\u001b[39;00m\n\u001b[0;32m   1170\u001b[0m     \u001b[38;5;66;03m# and we'll iterate until we get to the last chunk.\u001b[39;00m\n\u001b[0;32m   1171\u001b[0m     \u001b[38;5;28;01mif\u001b[39;00m \u001b[38;5;129;01mnot\u001b[39;00m got_first_val:\n\u001b[0;32m   1172\u001b[0m         final \u001b[38;5;241m=\u001b[39m ichunk\n",
      "File \u001b[1;32mc:\\Users\\ASUS\\anaconda3\\envs\\workEnv\\Lib\\site-packages\\langchain_core\\runnables\\base.py:4797\u001b[0m, in \u001b[0;36mRunnableBindingBase.transform\u001b[1;34m(self, input, config, **kwargs)\u001b[0m\n\u001b[0;32m   4791\u001b[0m \u001b[38;5;28;01mdef\u001b[39;00m \u001b[38;5;21mtransform\u001b[39m(\n\u001b[0;32m   4792\u001b[0m     \u001b[38;5;28mself\u001b[39m,\n\u001b[0;32m   4793\u001b[0m     \u001b[38;5;28minput\u001b[39m: Iterator[Input],\n\u001b[0;32m   4794\u001b[0m     config: Optional[RunnableConfig] \u001b[38;5;241m=\u001b[39m \u001b[38;5;28;01mNone\u001b[39;00m,\n\u001b[0;32m   4795\u001b[0m     \u001b[38;5;241m*\u001b[39m\u001b[38;5;241m*\u001b[39mkwargs: Any,\n\u001b[0;32m   4796\u001b[0m ) \u001b[38;5;241m-\u001b[39m\u001b[38;5;241m>\u001b[39m Iterator[Output]:\n\u001b[1;32m-> 4797\u001b[0m     \u001b[38;5;28;01myield from\u001b[39;00m \u001b[38;5;28mself\u001b[39m\u001b[38;5;241m.\u001b[39mbound\u001b[38;5;241m.\u001b[39mtransform(\n\u001b[0;32m   4798\u001b[0m         \u001b[38;5;28minput\u001b[39m,\n\u001b[0;32m   4799\u001b[0m         \u001b[38;5;28mself\u001b[39m\u001b[38;5;241m.\u001b[39m_merge_configs(config),\n\u001b[0;32m   4800\u001b[0m         \u001b[38;5;241m*\u001b[39m\u001b[38;5;241m*\u001b[39m{\u001b[38;5;241m*\u001b[39m\u001b[38;5;241m*\u001b[39m\u001b[38;5;28mself\u001b[39m\u001b[38;5;241m.\u001b[39mkwargs, \u001b[38;5;241m*\u001b[39m\u001b[38;5;241m*\u001b[39mkwargs},\n\u001b[0;32m   4801\u001b[0m     )\n",
      "File \u001b[1;32mc:\\Users\\ASUS\\anaconda3\\envs\\workEnv\\Lib\\site-packages\\langchain_core\\runnables\\base.py:1181\u001b[0m, in \u001b[0;36mRunnable.transform\u001b[1;34m(self, input, config, **kwargs)\u001b[0m\n\u001b[0;32m   1178\u001b[0m             final \u001b[38;5;241m=\u001b[39m ichunk\n\u001b[0;32m   1180\u001b[0m \u001b[38;5;28;01mif\u001b[39;00m got_first_val:\n\u001b[1;32m-> 1181\u001b[0m     \u001b[38;5;28;01myield from\u001b[39;00m \u001b[38;5;28mself\u001b[39m\u001b[38;5;241m.\u001b[39mstream(final, config, \u001b[38;5;241m*\u001b[39m\u001b[38;5;241m*\u001b[39mkwargs)\n",
      "File \u001b[1;32mc:\\Users\\ASUS\\anaconda3\\envs\\workEnv\\Lib\\site-packages\\langchain_core\\language_models\\chat_models.py:343\u001b[0m, in \u001b[0;36mBaseChatModel.stream\u001b[1;34m(self, input, config, stop, **kwargs)\u001b[0m\n\u001b[0;32m    336\u001b[0m \u001b[38;5;28;01mexcept\u001b[39;00m \u001b[38;5;167;01mBaseException\u001b[39;00m \u001b[38;5;28;01mas\u001b[39;00m e:\n\u001b[0;32m    337\u001b[0m     run_manager\u001b[38;5;241m.\u001b[39mon_llm_error(\n\u001b[0;32m    338\u001b[0m         e,\n\u001b[0;32m    339\u001b[0m         response\u001b[38;5;241m=\u001b[39mLLMResult(\n\u001b[0;32m    340\u001b[0m             generations\u001b[38;5;241m=\u001b[39m[[generation]] \u001b[38;5;28;01mif\u001b[39;00m generation \u001b[38;5;28;01melse\u001b[39;00m []\n\u001b[0;32m    341\u001b[0m         ),\n\u001b[0;32m    342\u001b[0m     )\n\u001b[1;32m--> 343\u001b[0m     \u001b[38;5;28;01mraise\u001b[39;00m e\n\u001b[0;32m    344\u001b[0m \u001b[38;5;28;01melse\u001b[39;00m:\n\u001b[0;32m    345\u001b[0m     run_manager\u001b[38;5;241m.\u001b[39mon_llm_end(LLMResult(generations\u001b[38;5;241m=\u001b[39m[[generation]]))\n",
      "File \u001b[1;32mc:\\Users\\ASUS\\anaconda3\\envs\\workEnv\\Lib\\site-packages\\langchain_core\\language_models\\chat_models.py:323\u001b[0m, in \u001b[0;36mBaseChatModel.stream\u001b[1;34m(self, input, config, stop, **kwargs)\u001b[0m\n\u001b[0;32m    321\u001b[0m generation: Optional[ChatGenerationChunk] \u001b[38;5;241m=\u001b[39m \u001b[38;5;28;01mNone\u001b[39;00m\n\u001b[0;32m    322\u001b[0m \u001b[38;5;28;01mtry\u001b[39;00m:\n\u001b[1;32m--> 323\u001b[0m     \u001b[38;5;28;01mfor\u001b[39;00m chunk \u001b[38;5;129;01min\u001b[39;00m \u001b[38;5;28mself\u001b[39m\u001b[38;5;241m.\u001b[39m_stream(messages, stop\u001b[38;5;241m=\u001b[39mstop, \u001b[38;5;241m*\u001b[39m\u001b[38;5;241m*\u001b[39mkwargs):\n\u001b[0;32m    324\u001b[0m         \u001b[38;5;28;01mif\u001b[39;00m chunk\u001b[38;5;241m.\u001b[39mmessage\u001b[38;5;241m.\u001b[39mid \u001b[38;5;129;01mis\u001b[39;00m \u001b[38;5;28;01mNone\u001b[39;00m:\n\u001b[0;32m    325\u001b[0m             chunk\u001b[38;5;241m.\u001b[39mmessage\u001b[38;5;241m.\u001b[39mid \u001b[38;5;241m=\u001b[39m \u001b[38;5;124mf\u001b[39m\u001b[38;5;124m\"\u001b[39m\u001b[38;5;124mrun-\u001b[39m\u001b[38;5;132;01m{\u001b[39;00mrun_manager\u001b[38;5;241m.\u001b[39mrun_id\u001b[38;5;132;01m}\u001b[39;00m\u001b[38;5;124m\"\u001b[39m\n",
      "File \u001b[1;32mc:\\Users\\ASUS\\anaconda3\\envs\\workEnv\\Lib\\site-packages\\langchain_groq\\chat_models.py:544\u001b[0m, in \u001b[0;36mChatGroq._stream\u001b[1;34m(self, messages, stop, run_manager, **kwargs)\u001b[0m\n\u001b[0;32m    541\u001b[0m params \u001b[38;5;241m=\u001b[39m {\u001b[38;5;241m*\u001b[39m\u001b[38;5;241m*\u001b[39mparams, \u001b[38;5;241m*\u001b[39m\u001b[38;5;241m*\u001b[39mkwargs, \u001b[38;5;124m\"\u001b[39m\u001b[38;5;124mstream\u001b[39m\u001b[38;5;124m\"\u001b[39m: \u001b[38;5;28;01mTrue\u001b[39;00m}\n\u001b[0;32m    543\u001b[0m default_chunk_class: Type[BaseMessageChunk] \u001b[38;5;241m=\u001b[39m AIMessageChunk\n\u001b[1;32m--> 544\u001b[0m \u001b[38;5;28;01mfor\u001b[39;00m chunk \u001b[38;5;129;01min\u001b[39;00m \u001b[38;5;28;43mself\u001b[39;49m\u001b[38;5;241;43m.\u001b[39;49m\u001b[43mclient\u001b[49m\u001b[38;5;241;43m.\u001b[39;49m\u001b[43mcreate\u001b[49m\u001b[43m(\u001b[49m\u001b[43mmessages\u001b[49m\u001b[38;5;241;43m=\u001b[39;49m\u001b[43mmessage_dicts\u001b[49m\u001b[43m,\u001b[49m\u001b[43m \u001b[49m\u001b[38;5;241;43m*\u001b[39;49m\u001b[38;5;241;43m*\u001b[39;49m\u001b[43mparams\u001b[49m\u001b[43m)\u001b[49m:\n\u001b[0;32m    545\u001b[0m     \u001b[38;5;28;01mif\u001b[39;00m \u001b[38;5;129;01mnot\u001b[39;00m \u001b[38;5;28misinstance\u001b[39m(chunk, \u001b[38;5;28mdict\u001b[39m):\n\u001b[0;32m    546\u001b[0m         chunk \u001b[38;5;241m=\u001b[39m chunk\u001b[38;5;241m.\u001b[39mdict()\n",
      "File \u001b[1;32mc:\\Users\\ASUS\\anaconda3\\envs\\workEnv\\Lib\\site-packages\\groq\\resources\\chat\\completions.py:289\u001b[0m, in \u001b[0;36mCompletions.create\u001b[1;34m(self, messages, model, frequency_penalty, function_call, functions, logit_bias, logprobs, max_tokens, n, parallel_tool_calls, presence_penalty, response_format, seed, stop, stream, temperature, tool_choice, tools, top_logprobs, top_p, user, extra_headers, extra_query, extra_body, timeout)\u001b[0m\n\u001b[0;32m    148\u001b[0m \u001b[38;5;28;01mdef\u001b[39;00m \u001b[38;5;21mcreate\u001b[39m(\n\u001b[0;32m    149\u001b[0m     \u001b[38;5;28mself\u001b[39m,\n\u001b[0;32m    150\u001b[0m     \u001b[38;5;241m*\u001b[39m,\n\u001b[1;32m   (...)\u001b[0m\n\u001b[0;32m    177\u001b[0m     timeout: \u001b[38;5;28mfloat\u001b[39m \u001b[38;5;241m|\u001b[39m httpx\u001b[38;5;241m.\u001b[39mTimeout \u001b[38;5;241m|\u001b[39m \u001b[38;5;28;01mNone\u001b[39;00m \u001b[38;5;241m|\u001b[39m NotGiven \u001b[38;5;241m=\u001b[39m NOT_GIVEN,\n\u001b[0;32m    178\u001b[0m ) \u001b[38;5;241m-\u001b[39m\u001b[38;5;241m>\u001b[39m ChatCompletion \u001b[38;5;241m|\u001b[39m Stream[ChatCompletionChunk]:\n\u001b[0;32m    179\u001b[0m \u001b[38;5;250m    \u001b[39m\u001b[38;5;124;03m\"\"\"\u001b[39;00m\n\u001b[0;32m    180\u001b[0m \u001b[38;5;124;03m    Creates a model response for the given chat conversation.\u001b[39;00m\n\u001b[0;32m    181\u001b[0m \n\u001b[1;32m   (...)\u001b[0m\n\u001b[0;32m    287\u001b[0m \u001b[38;5;124;03m      timeout: Override the client-level default timeout for this request, in seconds\u001b[39;00m\n\u001b[0;32m    288\u001b[0m \u001b[38;5;124;03m    \"\"\"\u001b[39;00m\n\u001b[1;32m--> 289\u001b[0m     \u001b[38;5;28;01mreturn\u001b[39;00m \u001b[38;5;28;43mself\u001b[39;49m\u001b[38;5;241;43m.\u001b[39;49m\u001b[43m_post\u001b[49m\u001b[43m(\u001b[49m\n\u001b[0;32m    290\u001b[0m \u001b[43m        \u001b[49m\u001b[38;5;124;43m\"\u001b[39;49m\u001b[38;5;124;43m/openai/v1/chat/completions\u001b[39;49m\u001b[38;5;124;43m\"\u001b[39;49m\u001b[43m,\u001b[49m\n\u001b[0;32m    291\u001b[0m \u001b[43m        \u001b[49m\u001b[43mbody\u001b[49m\u001b[38;5;241;43m=\u001b[39;49m\u001b[43mmaybe_transform\u001b[49m\u001b[43m(\u001b[49m\n\u001b[0;32m    292\u001b[0m \u001b[43m            \u001b[49m\u001b[43m{\u001b[49m\n\u001b[0;32m    293\u001b[0m \u001b[43m                \u001b[49m\u001b[38;5;124;43m\"\u001b[39;49m\u001b[38;5;124;43mmessages\u001b[39;49m\u001b[38;5;124;43m\"\u001b[39;49m\u001b[43m:\u001b[49m\u001b[43m \u001b[49m\u001b[43mmessages\u001b[49m\u001b[43m,\u001b[49m\n\u001b[0;32m    294\u001b[0m \u001b[43m                \u001b[49m\u001b[38;5;124;43m\"\u001b[39;49m\u001b[38;5;124;43mmodel\u001b[39;49m\u001b[38;5;124;43m\"\u001b[39;49m\u001b[43m:\u001b[49m\u001b[43m \u001b[49m\u001b[43mmodel\u001b[49m\u001b[43m,\u001b[49m\n\u001b[0;32m    295\u001b[0m \u001b[43m                \u001b[49m\u001b[38;5;124;43m\"\u001b[39;49m\u001b[38;5;124;43mfrequency_penalty\u001b[39;49m\u001b[38;5;124;43m\"\u001b[39;49m\u001b[43m:\u001b[49m\u001b[43m \u001b[49m\u001b[43mfrequency_penalty\u001b[49m\u001b[43m,\u001b[49m\n\u001b[0;32m    296\u001b[0m \u001b[43m                \u001b[49m\u001b[38;5;124;43m\"\u001b[39;49m\u001b[38;5;124;43mfunction_call\u001b[39;49m\u001b[38;5;124;43m\"\u001b[39;49m\u001b[43m:\u001b[49m\u001b[43m \u001b[49m\u001b[43mfunction_call\u001b[49m\u001b[43m,\u001b[49m\n\u001b[0;32m    297\u001b[0m \u001b[43m                \u001b[49m\u001b[38;5;124;43m\"\u001b[39;49m\u001b[38;5;124;43mfunctions\u001b[39;49m\u001b[38;5;124;43m\"\u001b[39;49m\u001b[43m:\u001b[49m\u001b[43m \u001b[49m\u001b[43mfunctions\u001b[49m\u001b[43m,\u001b[49m\n\u001b[0;32m    298\u001b[0m \u001b[43m                \u001b[49m\u001b[38;5;124;43m\"\u001b[39;49m\u001b[38;5;124;43mlogit_bias\u001b[39;49m\u001b[38;5;124;43m\"\u001b[39;49m\u001b[43m:\u001b[49m\u001b[43m \u001b[49m\u001b[43mlogit_bias\u001b[49m\u001b[43m,\u001b[49m\n\u001b[0;32m    299\u001b[0m \u001b[43m                \u001b[49m\u001b[38;5;124;43m\"\u001b[39;49m\u001b[38;5;124;43mlogprobs\u001b[39;49m\u001b[38;5;124;43m\"\u001b[39;49m\u001b[43m:\u001b[49m\u001b[43m \u001b[49m\u001b[43mlogprobs\u001b[49m\u001b[43m,\u001b[49m\n\u001b[0;32m    300\u001b[0m \u001b[43m                \u001b[49m\u001b[38;5;124;43m\"\u001b[39;49m\u001b[38;5;124;43mmax_tokens\u001b[39;49m\u001b[38;5;124;43m\"\u001b[39;49m\u001b[43m:\u001b[49m\u001b[43m \u001b[49m\u001b[43mmax_tokens\u001b[49m\u001b[43m,\u001b[49m\n\u001b[0;32m    301\u001b[0m \u001b[43m                \u001b[49m\u001b[38;5;124;43m\"\u001b[39;49m\u001b[38;5;124;43mn\u001b[39;49m\u001b[38;5;124;43m\"\u001b[39;49m\u001b[43m:\u001b[49m\u001b[43m \u001b[49m\u001b[43mn\u001b[49m\u001b[43m,\u001b[49m\n\u001b[0;32m    302\u001b[0m \u001b[43m                \u001b[49m\u001b[38;5;124;43m\"\u001b[39;49m\u001b[38;5;124;43mparallel_tool_calls\u001b[39;49m\u001b[38;5;124;43m\"\u001b[39;49m\u001b[43m:\u001b[49m\u001b[43m \u001b[49m\u001b[43mparallel_tool_calls\u001b[49m\u001b[43m,\u001b[49m\n\u001b[0;32m    303\u001b[0m \u001b[43m                \u001b[49m\u001b[38;5;124;43m\"\u001b[39;49m\u001b[38;5;124;43mpresence_penalty\u001b[39;49m\u001b[38;5;124;43m\"\u001b[39;49m\u001b[43m:\u001b[49m\u001b[43m \u001b[49m\u001b[43mpresence_penalty\u001b[49m\u001b[43m,\u001b[49m\n\u001b[0;32m    304\u001b[0m \u001b[43m                \u001b[49m\u001b[38;5;124;43m\"\u001b[39;49m\u001b[38;5;124;43mresponse_format\u001b[39;49m\u001b[38;5;124;43m\"\u001b[39;49m\u001b[43m:\u001b[49m\u001b[43m \u001b[49m\u001b[43mresponse_format\u001b[49m\u001b[43m,\u001b[49m\n\u001b[0;32m    305\u001b[0m \u001b[43m                \u001b[49m\u001b[38;5;124;43m\"\u001b[39;49m\u001b[38;5;124;43mseed\u001b[39;49m\u001b[38;5;124;43m\"\u001b[39;49m\u001b[43m:\u001b[49m\u001b[43m \u001b[49m\u001b[43mseed\u001b[49m\u001b[43m,\u001b[49m\n\u001b[0;32m    306\u001b[0m \u001b[43m                \u001b[49m\u001b[38;5;124;43m\"\u001b[39;49m\u001b[38;5;124;43mstop\u001b[39;49m\u001b[38;5;124;43m\"\u001b[39;49m\u001b[43m:\u001b[49m\u001b[43m \u001b[49m\u001b[43mstop\u001b[49m\u001b[43m,\u001b[49m\n\u001b[0;32m    307\u001b[0m \u001b[43m                \u001b[49m\u001b[38;5;124;43m\"\u001b[39;49m\u001b[38;5;124;43mstream\u001b[39;49m\u001b[38;5;124;43m\"\u001b[39;49m\u001b[43m:\u001b[49m\u001b[43m \u001b[49m\u001b[43mstream\u001b[49m\u001b[43m,\u001b[49m\n\u001b[0;32m    308\u001b[0m \u001b[43m                \u001b[49m\u001b[38;5;124;43m\"\u001b[39;49m\u001b[38;5;124;43mtemperature\u001b[39;49m\u001b[38;5;124;43m\"\u001b[39;49m\u001b[43m:\u001b[49m\u001b[43m \u001b[49m\u001b[43mtemperature\u001b[49m\u001b[43m,\u001b[49m\n\u001b[0;32m    309\u001b[0m \u001b[43m                \u001b[49m\u001b[38;5;124;43m\"\u001b[39;49m\u001b[38;5;124;43mtool_choice\u001b[39;49m\u001b[38;5;124;43m\"\u001b[39;49m\u001b[43m:\u001b[49m\u001b[43m \u001b[49m\u001b[43mtool_choice\u001b[49m\u001b[43m,\u001b[49m\n\u001b[0;32m    310\u001b[0m \u001b[43m                \u001b[49m\u001b[38;5;124;43m\"\u001b[39;49m\u001b[38;5;124;43mtools\u001b[39;49m\u001b[38;5;124;43m\"\u001b[39;49m\u001b[43m:\u001b[49m\u001b[43m \u001b[49m\u001b[43mtools\u001b[49m\u001b[43m,\u001b[49m\n\u001b[0;32m    311\u001b[0m \u001b[43m                \u001b[49m\u001b[38;5;124;43m\"\u001b[39;49m\u001b[38;5;124;43mtop_logprobs\u001b[39;49m\u001b[38;5;124;43m\"\u001b[39;49m\u001b[43m:\u001b[49m\u001b[43m \u001b[49m\u001b[43mtop_logprobs\u001b[49m\u001b[43m,\u001b[49m\n\u001b[0;32m    312\u001b[0m \u001b[43m                \u001b[49m\u001b[38;5;124;43m\"\u001b[39;49m\u001b[38;5;124;43mtop_p\u001b[39;49m\u001b[38;5;124;43m\"\u001b[39;49m\u001b[43m:\u001b[49m\u001b[43m \u001b[49m\u001b[43mtop_p\u001b[49m\u001b[43m,\u001b[49m\n\u001b[0;32m    313\u001b[0m \u001b[43m                \u001b[49m\u001b[38;5;124;43m\"\u001b[39;49m\u001b[38;5;124;43muser\u001b[39;49m\u001b[38;5;124;43m\"\u001b[39;49m\u001b[43m:\u001b[49m\u001b[43m \u001b[49m\u001b[43muser\u001b[49m\u001b[43m,\u001b[49m\n\u001b[0;32m    314\u001b[0m \u001b[43m            \u001b[49m\u001b[43m}\u001b[49m\u001b[43m,\u001b[49m\n\u001b[0;32m    315\u001b[0m \u001b[43m            \u001b[49m\u001b[43mcompletion_create_params\u001b[49m\u001b[38;5;241;43m.\u001b[39;49m\u001b[43mCompletionCreateParams\u001b[49m\u001b[43m,\u001b[49m\n\u001b[0;32m    316\u001b[0m \u001b[43m        \u001b[49m\u001b[43m)\u001b[49m\u001b[43m,\u001b[49m\n\u001b[0;32m    317\u001b[0m \u001b[43m        \u001b[49m\u001b[43moptions\u001b[49m\u001b[38;5;241;43m=\u001b[39;49m\u001b[43mmake_request_options\u001b[49m\u001b[43m(\u001b[49m\n\u001b[0;32m    318\u001b[0m \u001b[43m            \u001b[49m\u001b[43mextra_headers\u001b[49m\u001b[38;5;241;43m=\u001b[39;49m\u001b[43mextra_headers\u001b[49m\u001b[43m,\u001b[49m\u001b[43m \u001b[49m\u001b[43mextra_query\u001b[49m\u001b[38;5;241;43m=\u001b[39;49m\u001b[43mextra_query\u001b[49m\u001b[43m,\u001b[49m\u001b[43m \u001b[49m\u001b[43mextra_body\u001b[49m\u001b[38;5;241;43m=\u001b[39;49m\u001b[43mextra_body\u001b[49m\u001b[43m,\u001b[49m\u001b[43m \u001b[49m\u001b[43mtimeout\u001b[49m\u001b[38;5;241;43m=\u001b[39;49m\u001b[43mtimeout\u001b[49m\n\u001b[0;32m    319\u001b[0m \u001b[43m        \u001b[49m\u001b[43m)\u001b[49m\u001b[43m,\u001b[49m\n\u001b[0;32m    320\u001b[0m \u001b[43m        \u001b[49m\u001b[43mcast_to\u001b[49m\u001b[38;5;241;43m=\u001b[39;49m\u001b[43mChatCompletion\u001b[49m\u001b[43m,\u001b[49m\n\u001b[0;32m    321\u001b[0m \u001b[43m        \u001b[49m\u001b[43mstream\u001b[49m\u001b[38;5;241;43m=\u001b[39;49m\u001b[43mstream\u001b[49m\u001b[43m \u001b[49m\u001b[38;5;129;43;01mor\u001b[39;49;00m\u001b[43m \u001b[49m\u001b[38;5;28;43;01mFalse\u001b[39;49;00m\u001b[43m,\u001b[49m\n\u001b[0;32m    322\u001b[0m \u001b[43m        \u001b[49m\u001b[43mstream_cls\u001b[49m\u001b[38;5;241;43m=\u001b[39;49m\u001b[43mStream\u001b[49m\u001b[43m[\u001b[49m\u001b[43mChatCompletionChunk\u001b[49m\u001b[43m]\u001b[49m\u001b[43m,\u001b[49m\n\u001b[0;32m    323\u001b[0m \u001b[43m    \u001b[49m\u001b[43m)\u001b[49m\n",
      "File \u001b[1;32mc:\\Users\\ASUS\\anaconda3\\envs\\workEnv\\Lib\\site-packages\\groq\\_base_client.py:1225\u001b[0m, in \u001b[0;36mSyncAPIClient.post\u001b[1;34m(self, path, cast_to, body, options, files, stream, stream_cls)\u001b[0m\n\u001b[0;32m   1211\u001b[0m \u001b[38;5;28;01mdef\u001b[39;00m \u001b[38;5;21mpost\u001b[39m(\n\u001b[0;32m   1212\u001b[0m     \u001b[38;5;28mself\u001b[39m,\n\u001b[0;32m   1213\u001b[0m     path: \u001b[38;5;28mstr\u001b[39m,\n\u001b[1;32m   (...)\u001b[0m\n\u001b[0;32m   1220\u001b[0m     stream_cls: \u001b[38;5;28mtype\u001b[39m[_StreamT] \u001b[38;5;241m|\u001b[39m \u001b[38;5;28;01mNone\u001b[39;00m \u001b[38;5;241m=\u001b[39m \u001b[38;5;28;01mNone\u001b[39;00m,\n\u001b[0;32m   1221\u001b[0m ) \u001b[38;5;241m-\u001b[39m\u001b[38;5;241m>\u001b[39m ResponseT \u001b[38;5;241m|\u001b[39m _StreamT:\n\u001b[0;32m   1222\u001b[0m     opts \u001b[38;5;241m=\u001b[39m FinalRequestOptions\u001b[38;5;241m.\u001b[39mconstruct(\n\u001b[0;32m   1223\u001b[0m         method\u001b[38;5;241m=\u001b[39m\u001b[38;5;124m\"\u001b[39m\u001b[38;5;124mpost\u001b[39m\u001b[38;5;124m\"\u001b[39m, url\u001b[38;5;241m=\u001b[39mpath, json_data\u001b[38;5;241m=\u001b[39mbody, files\u001b[38;5;241m=\u001b[39mto_httpx_files(files), \u001b[38;5;241m*\u001b[39m\u001b[38;5;241m*\u001b[39moptions\n\u001b[0;32m   1224\u001b[0m     )\n\u001b[1;32m-> 1225\u001b[0m     \u001b[38;5;28;01mreturn\u001b[39;00m cast(ResponseT, \u001b[38;5;28;43mself\u001b[39;49m\u001b[38;5;241;43m.\u001b[39;49m\u001b[43mrequest\u001b[49m\u001b[43m(\u001b[49m\u001b[43mcast_to\u001b[49m\u001b[43m,\u001b[49m\u001b[43m \u001b[49m\u001b[43mopts\u001b[49m\u001b[43m,\u001b[49m\u001b[43m \u001b[49m\u001b[43mstream\u001b[49m\u001b[38;5;241;43m=\u001b[39;49m\u001b[43mstream\u001b[49m\u001b[43m,\u001b[49m\u001b[43m \u001b[49m\u001b[43mstream_cls\u001b[49m\u001b[38;5;241;43m=\u001b[39;49m\u001b[43mstream_cls\u001b[49m\u001b[43m)\u001b[49m)\n",
      "File \u001b[1;32mc:\\Users\\ASUS\\anaconda3\\envs\\workEnv\\Lib\\site-packages\\groq\\_base_client.py:920\u001b[0m, in \u001b[0;36mSyncAPIClient.request\u001b[1;34m(self, cast_to, options, remaining_retries, stream, stream_cls)\u001b[0m\n\u001b[0;32m    911\u001b[0m \u001b[38;5;28;01mdef\u001b[39;00m \u001b[38;5;21mrequest\u001b[39m(\n\u001b[0;32m    912\u001b[0m     \u001b[38;5;28mself\u001b[39m,\n\u001b[0;32m    913\u001b[0m     cast_to: Type[ResponseT],\n\u001b[1;32m   (...)\u001b[0m\n\u001b[0;32m    918\u001b[0m     stream_cls: \u001b[38;5;28mtype\u001b[39m[_StreamT] \u001b[38;5;241m|\u001b[39m \u001b[38;5;28;01mNone\u001b[39;00m \u001b[38;5;241m=\u001b[39m \u001b[38;5;28;01mNone\u001b[39;00m,\n\u001b[0;32m    919\u001b[0m ) \u001b[38;5;241m-\u001b[39m\u001b[38;5;241m>\u001b[39m ResponseT \u001b[38;5;241m|\u001b[39m _StreamT:\n\u001b[1;32m--> 920\u001b[0m     \u001b[38;5;28;01mreturn\u001b[39;00m \u001b[38;5;28;43mself\u001b[39;49m\u001b[38;5;241;43m.\u001b[39;49m\u001b[43m_request\u001b[49m\u001b[43m(\u001b[49m\n\u001b[0;32m    921\u001b[0m \u001b[43m        \u001b[49m\u001b[43mcast_to\u001b[49m\u001b[38;5;241;43m=\u001b[39;49m\u001b[43mcast_to\u001b[49m\u001b[43m,\u001b[49m\n\u001b[0;32m    922\u001b[0m \u001b[43m        \u001b[49m\u001b[43moptions\u001b[49m\u001b[38;5;241;43m=\u001b[39;49m\u001b[43moptions\u001b[49m\u001b[43m,\u001b[49m\n\u001b[0;32m    923\u001b[0m \u001b[43m        \u001b[49m\u001b[43mstream\u001b[49m\u001b[38;5;241;43m=\u001b[39;49m\u001b[43mstream\u001b[49m\u001b[43m,\u001b[49m\n\u001b[0;32m    924\u001b[0m \u001b[43m        \u001b[49m\u001b[43mstream_cls\u001b[49m\u001b[38;5;241;43m=\u001b[39;49m\u001b[43mstream_cls\u001b[49m\u001b[43m,\u001b[49m\n\u001b[0;32m    925\u001b[0m \u001b[43m        \u001b[49m\u001b[43mremaining_retries\u001b[49m\u001b[38;5;241;43m=\u001b[39;49m\u001b[43mremaining_retries\u001b[49m\u001b[43m,\u001b[49m\n\u001b[0;32m    926\u001b[0m \u001b[43m    \u001b[49m\u001b[43m)\u001b[49m\n",
      "File \u001b[1;32mc:\\Users\\ASUS\\anaconda3\\envs\\workEnv\\Lib\\site-packages\\groq\\_base_client.py:1003\u001b[0m, in \u001b[0;36mSyncAPIClient._request\u001b[1;34m(self, cast_to, options, remaining_retries, stream, stream_cls)\u001b[0m\n\u001b[0;32m   1001\u001b[0m \u001b[38;5;28;01mif\u001b[39;00m retries \u001b[38;5;241m>\u001b[39m \u001b[38;5;241m0\u001b[39m \u001b[38;5;129;01mand\u001b[39;00m \u001b[38;5;28mself\u001b[39m\u001b[38;5;241m.\u001b[39m_should_retry(err\u001b[38;5;241m.\u001b[39mresponse):\n\u001b[0;32m   1002\u001b[0m     err\u001b[38;5;241m.\u001b[39mresponse\u001b[38;5;241m.\u001b[39mclose()\n\u001b[1;32m-> 1003\u001b[0m     \u001b[38;5;28;01mreturn\u001b[39;00m \u001b[38;5;28;43mself\u001b[39;49m\u001b[38;5;241;43m.\u001b[39;49m\u001b[43m_retry_request\u001b[49m\u001b[43m(\u001b[49m\n\u001b[0;32m   1004\u001b[0m \u001b[43m        \u001b[49m\u001b[43moptions\u001b[49m\u001b[43m,\u001b[49m\n\u001b[0;32m   1005\u001b[0m \u001b[43m        \u001b[49m\u001b[43mcast_to\u001b[49m\u001b[43m,\u001b[49m\n\u001b[0;32m   1006\u001b[0m \u001b[43m        \u001b[49m\u001b[43mretries\u001b[49m\u001b[43m,\u001b[49m\n\u001b[0;32m   1007\u001b[0m \u001b[43m        \u001b[49m\u001b[43merr\u001b[49m\u001b[38;5;241;43m.\u001b[39;49m\u001b[43mresponse\u001b[49m\u001b[38;5;241;43m.\u001b[39;49m\u001b[43mheaders\u001b[49m\u001b[43m,\u001b[49m\n\u001b[0;32m   1008\u001b[0m \u001b[43m        \u001b[49m\u001b[43mstream\u001b[49m\u001b[38;5;241;43m=\u001b[39;49m\u001b[43mstream\u001b[49m\u001b[43m,\u001b[49m\n\u001b[0;32m   1009\u001b[0m \u001b[43m        \u001b[49m\u001b[43mstream_cls\u001b[49m\u001b[38;5;241;43m=\u001b[39;49m\u001b[43mstream_cls\u001b[49m\u001b[43m,\u001b[49m\n\u001b[0;32m   1010\u001b[0m \u001b[43m    \u001b[49m\u001b[43m)\u001b[49m\n\u001b[0;32m   1012\u001b[0m \u001b[38;5;66;03m# If the response is streamed then we need to explicitly read the response\u001b[39;00m\n\u001b[0;32m   1013\u001b[0m \u001b[38;5;66;03m# to completion before attempting to access the response text.\u001b[39;00m\n\u001b[0;32m   1014\u001b[0m \u001b[38;5;28;01mif\u001b[39;00m \u001b[38;5;129;01mnot\u001b[39;00m err\u001b[38;5;241m.\u001b[39mresponse\u001b[38;5;241m.\u001b[39mis_closed:\n",
      "File \u001b[1;32mc:\\Users\\ASUS\\anaconda3\\envs\\workEnv\\Lib\\site-packages\\groq\\_base_client.py:1049\u001b[0m, in \u001b[0;36mSyncAPIClient._retry_request\u001b[1;34m(self, options, cast_to, remaining_retries, response_headers, stream, stream_cls)\u001b[0m\n\u001b[0;32m   1045\u001b[0m log\u001b[38;5;241m.\u001b[39minfo(\u001b[38;5;124m\"\u001b[39m\u001b[38;5;124mRetrying request to \u001b[39m\u001b[38;5;132;01m%s\u001b[39;00m\u001b[38;5;124m in \u001b[39m\u001b[38;5;132;01m%f\u001b[39;00m\u001b[38;5;124m seconds\u001b[39m\u001b[38;5;124m\"\u001b[39m, options\u001b[38;5;241m.\u001b[39murl, timeout)\n\u001b[0;32m   1047\u001b[0m \u001b[38;5;66;03m# In a synchronous context we are blocking the entire thread. Up to the library user to run the client in a\u001b[39;00m\n\u001b[0;32m   1048\u001b[0m \u001b[38;5;66;03m# different thread if necessary.\u001b[39;00m\n\u001b[1;32m-> 1049\u001b[0m time\u001b[38;5;241m.\u001b[39msleep(timeout)\n\u001b[0;32m   1051\u001b[0m \u001b[38;5;28;01mreturn\u001b[39;00m \u001b[38;5;28mself\u001b[39m\u001b[38;5;241m.\u001b[39m_request(\n\u001b[0;32m   1052\u001b[0m     options\u001b[38;5;241m=\u001b[39moptions,\n\u001b[0;32m   1053\u001b[0m     cast_to\u001b[38;5;241m=\u001b[39mcast_to,\n\u001b[1;32m   (...)\u001b[0m\n\u001b[0;32m   1056\u001b[0m     stream_cls\u001b[38;5;241m=\u001b[39mstream_cls,\n\u001b[0;32m   1057\u001b[0m )\n",
      "\u001b[1;31mKeyboardInterrupt\u001b[0m: "
     ]
    }
   ],
   "source": [
    "res = agent.run(\"You are a professional financial analyst to help me to analyze the status of the given company's quarterly incomestatement of 2024-03-31\")\n",
    "res\n",
    "'''目前效果不好，所以要來改善chatbot回答的效率以及準確率，另外也要測試看看中文的效果如何'''"
   ]
  },
  {
   "cell_type": "markdown",
   "metadata": {},
   "source": [
    "### 嘗試去複製使用langchain openai tool calling 的教學\n",
    "**心得**\n",
    "- 大部分基本上都可以不需要用到opean tool calling的functions。\n",
    "- 可以做到同樣的事情。\n",
    "- 但agent的memory技能還是不夠好，剛說完就會忘記了。"
   ]
  },
  {
   "cell_type": "code",
   "execution_count": 3,
   "metadata": {},
   "outputs": [],
   "source": [
    "from langchain_core.pydantic_v1 import BaseModel, Field\n",
    "from langchain.tools import tool"
   ]
  },
  {
   "cell_type": "code",
   "execution_count": 4,
   "metadata": {},
   "outputs": [],
   "source": [
    "# Define input schema\n",
    "class numberInput(BaseModel):\n",
    "    a: int= Field(description=\"first integer\")\n",
    "    b: int= Field(description=\"second integer\")\n",
    "@tool(args_schema=numberInput)\n",
    "def plus_tool(a: int, b:int):\n",
    "    \"\"\"useful for adding two numbers together\"\"\"\n",
    "    c = a + b\n",
    "    return f\"{a} + {b} is {c}\"\n",
    "\n",
    "@tool(args_schema=numberInput)\n",
    "def minus_tool(a: int, b:int):\n",
    "    \"\"\"useful for two numbers minus each other\"\"\"\n",
    "    c = a - b\n",
    "    return f\"{a} - {b} is {c}\"\n",
    "\n",
    "# Create a toolkit\n",
    "tools = [plus_tool, minus_tool]\n",
    "model_with_tools = groq_llm.bind_tools(tools=tools)"
   ]
  },
  {
   "cell_type": "code",
   "execution_count": 135,
   "metadata": {},
   "outputs": [],
   "source": [
    "template = ChatPromptTemplate.from_messages([\n",
    "    (\n",
    "        \"system\",\n",
    "        \"You are a helpful assistant to identify two numbers in my question when needed. If it's not the case, just give me a response.\"\n",
    "    ),\n",
    "        MessagesPlaceholder(variable_name='chat_history', optional=True),\n",
    "    (\n",
    "        \"user\",\"{input}\"\n",
    "    ),\n",
    "    MessagesPlaceholder(variable_name='agent_scratchpad', optional=True)\n",
    "    ])"
   ]
  },
  {
   "cell_type": "code",
   "execution_count": 105,
   "metadata": {},
   "outputs": [],
   "source": [
    "from langchain.agents.output_parsers import ToolsAgentOutputParser\n",
    "from langchain.agents.format_scratchpad.tools import format_to_tool_messages"
   ]
  },
  {
   "cell_type": "code",
   "execution_count": 136,
   "metadata": {},
   "outputs": [],
   "source": [
    "chain = template | model_with_tools | ToolsAgentOutputParser()"
   ]
  },
  {
   "cell_type": "code",
   "execution_count": 137,
   "metadata": {},
   "outputs": [
    {
     "data": {
      "text/plain": [
       "[ToolAgentAction(tool='minus_tool', tool_input={'a': 3, 'b': 2}, log=\"\\nInvoking: `minus_tool` with `{'a': 3, 'b': 2}`\\n\\n\\n\", message_log=[AIMessage(content='', additional_kwargs={'tool_calls': [{'id': 'call_ndsp', 'function': {'arguments': '{\"a\":3,\"b\":2}', 'name': 'minus_tool'}, 'type': 'function'}]}, response_metadata={'token_usage': {'completion_tokens': 49, 'prompt_tokens': 1106, 'total_tokens': 1155, 'completion_time': 0.160814721, 'prompt_time': 0.351381805, 'queue_time': None, 'total_time': 0.512196526}, 'model_name': 'llama3-70b-8192', 'system_fingerprint': 'fp_c1a4bcec29', 'finish_reason': 'tool_calls', 'logprobs': None}, id='run-0cd17c76-285d-49c2-b0d2-79f32faed93f-0', tool_calls=[{'name': 'minus_tool', 'args': {'a': 3, 'b': 2}, 'id': 'call_ndsp'}], usage_metadata={'input_tokens': 1106, 'output_tokens': 49, 'total_tokens': 1155})], tool_call_id='call_ndsp')]"
      ]
     },
     "execution_count": 137,
     "metadata": {},
     "output_type": "execute_result"
    }
   ],
   "source": [
    "result = chain.invoke({\n",
    "    \"input\" : \"what's 3 minus 2?\"\n",
    "})\n",
    "result"
   ]
  },
  {
   "cell_type": "code",
   "execution_count": 138,
   "metadata": {},
   "outputs": [
    {
     "data": {
      "text/plain": [
       "'minus_tool'"
      ]
     },
     "execution_count": 138,
     "metadata": {},
     "output_type": "execute_result"
    }
   ],
   "source": [
    "result[0].tool"
   ]
  },
  {
   "cell_type": "code",
   "execution_count": 139,
   "metadata": {},
   "outputs": [
    {
     "data": {
      "text/plain": [
       "{'a': 3, 'b': 2}"
      ]
     },
     "execution_count": 139,
     "metadata": {},
     "output_type": "execute_result"
    }
   ],
   "source": [
    "result[0].tool_input"
   ]
  },
  {
   "cell_type": "code",
   "execution_count": 140,
   "metadata": {},
   "outputs": [
    {
     "data": {
      "text/plain": [
       "[ToolAgentAction(tool='minus_tool', tool_input={'a': 3, 'b': 2}, log=\"\\nInvoking: `minus_tool` with `{'a': 3, 'b': 2}`\\n\\n\\n\", message_log=[AIMessage(content='', additional_kwargs={'tool_calls': [{'id': 'call_7smc', 'function': {'arguments': '{\"a\":3,\"b\":2}', 'name': 'minus_tool'}, 'type': 'function'}]}, response_metadata={'token_usage': {'completion_tokens': 49, 'prompt_tokens': 1106, 'total_tokens': 1155, 'completion_time': 0.156577575, 'prompt_time': 0.444120837, 'queue_time': None, 'total_time': 0.600698412}, 'model_name': 'llama3-70b-8192', 'system_fingerprint': 'fp_87cbfbbc4d', 'finish_reason': 'tool_calls', 'logprobs': None}, id='run-269590d2-d614-4f96-972c-cdb145a60f97-0', tool_calls=[{'name': 'minus_tool', 'args': {'a': 3, 'b': 2}, 'id': 'call_7smc'}], usage_metadata={'input_tokens': 1106, 'output_tokens': 49, 'total_tokens': 1155})], tool_call_id='call_7smc')]"
      ]
     },
     "execution_count": 140,
     "metadata": {},
     "output_type": "execute_result"
    }
   ],
   "source": [
    "result01 = chain.invoke({\n",
    "    \"input\" : \"what's 3 minus 2?\",\n",
    "    \"agent_scratchpad\":[]\n",
    "})\n",
    "result01"
   ]
  },
  {
   "cell_type": "code",
   "execution_count": 141,
   "metadata": {},
   "outputs": [
    {
     "data": {
      "text/plain": [
       "'minus_tool'"
      ]
     },
     "execution_count": 141,
     "metadata": {},
     "output_type": "execute_result"
    }
   ],
   "source": [
    "result01[0].tool"
   ]
  },
  {
   "cell_type": "code",
   "execution_count": 142,
   "metadata": {},
   "outputs": [
    {
     "data": {
      "text/plain": [
       "'3 + 2 is 5'"
      ]
     },
     "execution_count": 142,
     "metadata": {},
     "output_type": "execute_result"
    }
   ],
   "source": [
    "observation = plus_tool(result01[0].tool_input)\n",
    "observation"
   ]
  },
  {
   "cell_type": "code",
   "execution_count": 143,
   "metadata": {},
   "outputs": [
    {
     "data": {
      "text/plain": [
       "langchain.agents.output_parsers.tools.ToolAgentAction"
      ]
     },
     "execution_count": 143,
     "metadata": {},
     "output_type": "execute_result"
    }
   ],
   "source": [
    "type(result01[0])"
   ]
  },
  {
   "cell_type": "code",
   "execution_count": 144,
   "metadata": {},
   "outputs": [
    {
     "data": {
      "text/plain": [
       "[AIMessage(content='', additional_kwargs={'tool_calls': [{'id': 'call_7smc', 'function': {'arguments': '{\"a\":3,\"b\":2}', 'name': 'minus_tool'}, 'type': 'function'}]}, response_metadata={'token_usage': {'completion_tokens': 49, 'prompt_tokens': 1106, 'total_tokens': 1155, 'completion_time': 0.156577575, 'prompt_time': 0.444120837, 'queue_time': None, 'total_time': 0.600698412}, 'model_name': 'llama3-70b-8192', 'system_fingerprint': 'fp_87cbfbbc4d', 'finish_reason': 'tool_calls', 'logprobs': None}, id='run-269590d2-d614-4f96-972c-cdb145a60f97-0', tool_calls=[{'name': 'minus_tool', 'args': {'a': 3, 'b': 2}, 'id': 'call_7smc'}], usage_metadata={'input_tokens': 1106, 'output_tokens': 49, 'total_tokens': 1155})]"
      ]
     },
     "execution_count": 144,
     "metadata": {},
     "output_type": "execute_result"
    }
   ],
   "source": [
    "result01[0].message_log"
   ]
  },
  {
   "cell_type": "code",
   "execution_count": 176,
   "metadata": {},
   "outputs": [
    {
     "data": {
      "text/plain": [
       "AIMessage(content='', additional_kwargs={'tool_calls': [{'id': 'call_7smc', 'function': {'arguments': '{\"a\":3,\"b\":2}', 'name': 'minus_tool'}, 'type': 'function'}]}, response_metadata={'token_usage': {'completion_tokens': 49, 'prompt_tokens': 1106, 'total_tokens': 1155, 'completion_time': 0.156577575, 'prompt_time': 0.444120837, 'queue_time': None, 'total_time': 0.600698412}, 'model_name': 'llama3-70b-8192', 'system_fingerprint': 'fp_87cbfbbc4d', 'finish_reason': 'tool_calls', 'logprobs': None}, id='run-269590d2-d614-4f96-972c-cdb145a60f97-0', tool_calls=[{'name': 'minus_tool', 'args': {'a': 3, 'b': 2}, 'id': 'call_7smc'}], usage_metadata={'input_tokens': 1106, 'output_tokens': 49, 'total_tokens': 1155})"
      ]
     },
     "execution_count": 176,
     "metadata": {},
     "output_type": "execute_result"
    }
   ],
   "source": [
    "format_to_tool_messages([(result01[0], observation),])[0]"
   ]
  },
  {
   "cell_type": "code",
   "execution_count": 146,
   "metadata": {},
   "outputs": [],
   "source": [
    "result02 = chain.invoke({\n",
    "    \"input\" : \"what's 3 mins 2?\",\n",
    "    \"agent_scratchpad\" : format_to_tool_messages([(result01[0], observation),])\n",
    "})"
   ]
  },
  {
   "cell_type": "code",
   "execution_count": 147,
   "metadata": {},
   "outputs": [
    {
     "data": {
      "text/plain": [
       "AgentFinish(return_values={'output': \"It seems like there was a mistake in the tool call. The minus_tool function was called, but the result is an addition. Anyway, since the result is provided, I'll respond directly. The correct result for 3 minus 2 is 1.\"}, log=\"It seems like there was a mistake in the tool call. The minus_tool function was called, but the result is an addition. Anyway, since the result is provided, I'll respond directly. The correct result for 3 minus 2 is 1.\")"
      ]
     },
     "execution_count": 147,
     "metadata": {},
     "output_type": "execute_result"
    }
   ],
   "source": [
    "result02"
   ]
  },
  {
   "cell_type": "code",
   "execution_count": 153,
   "metadata": {},
   "outputs": [
    {
     "data": {
      "text/plain": [
       "{'output': \"It seems like there was a mistake in the tool call. The minus_tool function was called, but the result is an addition. Anyway, since the result is provided, I'll respond directly. The correct result for 3 minus 2 is 1.\"}"
      ]
     },
     "execution_count": 153,
     "metadata": {},
     "output_type": "execute_result"
    }
   ],
   "source": [
    "result02.return_values"
   ]
  },
  {
   "cell_type": "code",
   "execution_count": 154,
   "metadata": {},
   "outputs": [
    {
     "data": {
      "text/plain": [
       "AgentFinish(return_values={'output': 'It seems like there was a mistake in the tool call. The minus_tool function is supposed to subtract two numbers, not add them. Could you please retry the tool call with the correct operation?'}, log='It seems like there was a mistake in the tool call. The minus_tool function is supposed to subtract two numbers, not add them. Could you please retry the tool call with the correct operation?')"
      ]
     },
     "execution_count": 154,
     "metadata": {},
     "output_type": "execute_result"
    }
   ],
   "source": [
    "chain.invoke({\n",
    "    \"input\" : \"hi\",\n",
    "    \"agent_scratchpad\" : format_to_tool_messages([(result01[0], observation),])\n",
    "})"
   ]
  },
  {
   "cell_type": "code",
   "execution_count": 177,
   "metadata": {},
   "outputs": [],
   "source": [
    "from langchain.schema.agent import AgentFinish\n",
    "# from langchain.agents.format_scratchpad.openai_functions import format_to_openai_functions"
   ]
  },
  {
   "cell_type": "code",
   "execution_count": 220,
   "metadata": {},
   "outputs": [],
   "source": [
    "\"\"\"因為是使用format_tool_message，所以result要取第一個值。\n",
    "目前可以使用format_tool_messages在def內的方法，拿出來跟lambda一起放會出錯，因為找不到intermediate_steps這個key。\n",
    "現在要來想要怎麼加回去chain中\n",
    "參考: https://learn.deeplearning.ai/courses/functions-tools-agents-langchain/lesson/7/conversational-agent\n",
    "\"\"\"\n",
    "\n",
    "def run_chain(user_input):\n",
    "    intermediate_steps = []\n",
    "    while True:\n",
    "        print(f\"This is intermediate steps: {intermediate_steps}\")\n",
    "        result = chain.invoke({\n",
    "            \"input\" : user_input,\n",
    "            \"agent_scratchpad\" : format_to_tool_messages(intermediate_steps)\n",
    "        })\n",
    "        if isinstance(result, AgentFinish):\n",
    "            return result\n",
    "        tool = {\n",
    "            \"plus_tool\" : plus_tool,\n",
    "            \"minus_tool\": minus_tool\n",
    "        }[result[0].tool]\n",
    "        observation = tool.run(result[0].tool_input)\n",
    "        print(f\"This is result: {result}\")\n",
    "        print(\" \")\n",
    "        print(f\"This is observation: {observation}\")\n",
    "        intermediate_steps.append((result[0], observation))"
   ]
  },
  {
   "cell_type": "code",
   "execution_count": 196,
   "metadata": {},
   "outputs": [
    {
     "name": "stdout",
     "output_type": "stream",
     "text": [
      "This is intermediate steps: []\n",
      "This is result: [ToolAgentAction(tool='minus_tool', tool_input={'a': 3, 'b': 2}, log=\"\\nInvoking: `minus_tool` with `{'a': 3, 'b': 2}`\\n\\n\\n\", message_log=[AIMessage(content='', additional_kwargs={'tool_calls': [{'id': 'call_wqdz', 'function': {'arguments': '{\"a\":3,\"b\":2}', 'name': 'minus_tool'}, 'type': 'function'}]}, response_metadata={'token_usage': {'completion_tokens': 49, 'prompt_tokens': 1106, 'total_tokens': 1155, 'completion_time': 0.160619205, 'prompt_time': 0.371819564, 'queue_time': None, 'total_time': 0.532438769}, 'model_name': 'llama3-70b-8192', 'system_fingerprint': 'fp_c1a4bcec29', 'finish_reason': 'tool_calls', 'logprobs': None}, id='run-68b27d93-f30d-4558-94bf-a3f9cf6ac35e-0', tool_calls=[{'name': 'minus_tool', 'args': {'a': 3, 'b': 2}, 'id': 'call_wqdz'}], usage_metadata={'input_tokens': 1106, 'output_tokens': 49, 'total_tokens': 1155})], tool_call_id='call_wqdz')]\n",
      " \n",
      "This is observation: 3 - 2 is 1\n",
      "This is intermediate steps: [(ToolAgentAction(tool='minus_tool', tool_input={'a': 3, 'b': 2}, log=\"\\nInvoking: `minus_tool` with `{'a': 3, 'b': 2}`\\n\\n\\n\", message_log=[AIMessage(content='', additional_kwargs={'tool_calls': [{'id': 'call_wqdz', 'function': {'arguments': '{\"a\":3,\"b\":2}', 'name': 'minus_tool'}, 'type': 'function'}]}, response_metadata={'token_usage': {'completion_tokens': 49, 'prompt_tokens': 1106, 'total_tokens': 1155, 'completion_time': 0.160619205, 'prompt_time': 0.371819564, 'queue_time': None, 'total_time': 0.532438769}, 'model_name': 'llama3-70b-8192', 'system_fingerprint': 'fp_c1a4bcec29', 'finish_reason': 'tool_calls', 'logprobs': None}, id='run-68b27d93-f30d-4558-94bf-a3f9cf6ac35e-0', tool_calls=[{'name': 'minus_tool', 'args': {'a': 3, 'b': 2}, 'id': 'call_wqdz'}], usage_metadata={'input_tokens': 1106, 'output_tokens': 49, 'total_tokens': 1155})], tool_call_id='call_wqdz'), '3 - 2 is 1')]\n"
     ]
    },
    {
     "data": {
      "text/plain": [
       "AgentFinish(return_values={'output': 'The answer is 1.'}, log='The answer is 1.')"
      ]
     },
     "execution_count": 196,
     "metadata": {},
     "output_type": "execute_result"
    }
   ],
   "source": [
    "run_chain(\"what is 3 mins 2?\")"
   ]
  },
  {
   "cell_type": "code",
   "execution_count": 237,
   "metadata": {},
   "outputs": [
    {
     "name": "stdout",
     "output_type": "stream",
     "text": [
      "This is intermediate steps: []\n",
      "<class 'dict'>\n"
     ]
    },
    {
     "ename": "ValueError",
     "evalue": "variable agent_scratchpad should be a list of base messages, got None",
     "output_type": "error",
     "traceback": [
      "\u001b[1;31m---------------------------------------------------------------------------\u001b[0m",
      "\u001b[1;31mValueError\u001b[0m                                Traceback (most recent call last)",
      "Cell \u001b[1;32mIn[237], line 24\u001b[0m\n\u001b[0;32m     21\u001b[0m         \u001b[38;5;28mprint\u001b[39m(\u001b[38;5;124mf\u001b[39m\u001b[38;5;124m\"\u001b[39m\u001b[38;5;124mThis is observation: \u001b[39m\u001b[38;5;132;01m{\u001b[39;00mobservation\u001b[38;5;132;01m}\u001b[39;00m\u001b[38;5;124m\"\u001b[39m)\n\u001b[0;32m     22\u001b[0m         intermediate_steps\u001b[38;5;241m.\u001b[39mappend((result[\u001b[38;5;241m0\u001b[39m], observation))\n\u001b[1;32m---> 24\u001b[0m \u001b[43mrun_agent\u001b[49m\u001b[43m(\u001b[49m\u001b[38;5;124;43m\"\u001b[39;49m\u001b[38;5;124;43mwhat is 3 minus 1?\u001b[39;49m\u001b[38;5;124;43m\"\u001b[39;49m\u001b[43m)\u001b[49m\n",
      "Cell \u001b[1;32mIn[237], line 10\u001b[0m, in \u001b[0;36mrun_agent\u001b[1;34m(user_input)\u001b[0m\n\u001b[0;32m      8\u001b[0m \u001b[38;5;28;01mwhile\u001b[39;00m \u001b[38;5;28;01mTrue\u001b[39;00m:\n\u001b[0;32m      9\u001b[0m     \u001b[38;5;28mprint\u001b[39m(\u001b[38;5;124mf\u001b[39m\u001b[38;5;124m\"\u001b[39m\u001b[38;5;124mThis is intermediate steps: \u001b[39m\u001b[38;5;132;01m{\u001b[39;00mintermediate_steps\u001b[38;5;132;01m}\u001b[39;00m\u001b[38;5;124m\"\u001b[39m)\n\u001b[1;32m---> 10\u001b[0m     result \u001b[38;5;241m=\u001b[39m \u001b[43magent_chain\u001b[49m\u001b[38;5;241;43m.\u001b[39;49m\u001b[43minvoke\u001b[49m\u001b[43m(\u001b[49m\u001b[43m{\u001b[49m\u001b[43m \u001b[49m\u001b[38;5;66;43;03m# 修改這裡\u001b[39;49;00m\n\u001b[0;32m     11\u001b[0m \u001b[43m        \u001b[49m\u001b[38;5;124;43m\"\u001b[39;49m\u001b[38;5;124;43minput\u001b[39;49m\u001b[38;5;124;43m\"\u001b[39;49m\u001b[43m \u001b[49m\u001b[43m:\u001b[49m\u001b[43m \u001b[49m\u001b[43muser_input\u001b[49m\u001b[43m,\u001b[49m\n\u001b[0;32m     12\u001b[0m \u001b[43m        \u001b[49m\u001b[38;5;124;43m\"\u001b[39;49m\u001b[38;5;124;43magent_scratchpad\u001b[39;49m\u001b[38;5;124;43m\"\u001b[39;49m\u001b[43m \u001b[49m\u001b[43m:\u001b[49m\u001b[43m \u001b[49m\u001b[43mintermediate_steps\u001b[49m\u001b[43m \u001b[49m\u001b[38;5;66;43;03m# 修改這裡\u001b[39;49;00m\n\u001b[0;32m     13\u001b[0m \u001b[43m    \u001b[49m\u001b[43m}\u001b[49m\u001b[43m)\u001b[49m\n\u001b[0;32m     14\u001b[0m     \u001b[38;5;28;01mif\u001b[39;00m \u001b[38;5;28misinstance\u001b[39m(result, AgentFinish):\n\u001b[0;32m     15\u001b[0m         \u001b[38;5;28;01mreturn\u001b[39;00m result\n",
      "File \u001b[1;32mc:\\Users\\ASUS\\anaconda3\\envs\\workEnv\\Lib\\site-packages\\langchain_core\\runnables\\base.py:2505\u001b[0m, in \u001b[0;36mRunnableSequence.invoke\u001b[1;34m(self, input, config, **kwargs)\u001b[0m\n\u001b[0;32m   2503\u001b[0m             \u001b[38;5;28minput\u001b[39m \u001b[38;5;241m=\u001b[39m step\u001b[38;5;241m.\u001b[39minvoke(\u001b[38;5;28minput\u001b[39m, config, \u001b[38;5;241m*\u001b[39m\u001b[38;5;241m*\u001b[39mkwargs)\n\u001b[0;32m   2504\u001b[0m         \u001b[38;5;28;01melse\u001b[39;00m:\n\u001b[1;32m-> 2505\u001b[0m             \u001b[38;5;28minput\u001b[39m \u001b[38;5;241m=\u001b[39m \u001b[43mstep\u001b[49m\u001b[38;5;241;43m.\u001b[39;49m\u001b[43minvoke\u001b[49m\u001b[43m(\u001b[49m\u001b[38;5;28;43minput\u001b[39;49m\u001b[43m,\u001b[49m\u001b[43m \u001b[49m\u001b[43mconfig\u001b[49m\u001b[43m)\u001b[49m\n\u001b[0;32m   2506\u001b[0m \u001b[38;5;66;03m# finish the root run\u001b[39;00m\n\u001b[0;32m   2507\u001b[0m \u001b[38;5;28;01mexcept\u001b[39;00m \u001b[38;5;167;01mBaseException\u001b[39;00m \u001b[38;5;28;01mas\u001b[39;00m e:\n",
      "File \u001b[1;32mc:\\Users\\ASUS\\anaconda3\\envs\\workEnv\\Lib\\site-packages\\langchain_core\\prompts\\base.py:151\u001b[0m, in \u001b[0;36mBasePromptTemplate.invoke\u001b[1;34m(self, input, config)\u001b[0m\n\u001b[0;32m    149\u001b[0m \u001b[38;5;28;01mif\u001b[39;00m \u001b[38;5;28mself\u001b[39m\u001b[38;5;241m.\u001b[39mtags:\n\u001b[0;32m    150\u001b[0m     config[\u001b[38;5;124m\"\u001b[39m\u001b[38;5;124mtags\u001b[39m\u001b[38;5;124m\"\u001b[39m] \u001b[38;5;241m=\u001b[39m config[\u001b[38;5;124m\"\u001b[39m\u001b[38;5;124mtags\u001b[39m\u001b[38;5;124m\"\u001b[39m] \u001b[38;5;241m+\u001b[39m \u001b[38;5;28mself\u001b[39m\u001b[38;5;241m.\u001b[39mtags\n\u001b[1;32m--> 151\u001b[0m \u001b[38;5;28;01mreturn\u001b[39;00m \u001b[38;5;28;43mself\u001b[39;49m\u001b[38;5;241;43m.\u001b[39;49m\u001b[43m_call_with_config\u001b[49m\u001b[43m(\u001b[49m\n\u001b[0;32m    152\u001b[0m \u001b[43m    \u001b[49m\u001b[38;5;28;43mself\u001b[39;49m\u001b[38;5;241;43m.\u001b[39;49m\u001b[43m_format_prompt_with_error_handling\u001b[49m\u001b[43m,\u001b[49m\n\u001b[0;32m    153\u001b[0m \u001b[43m    \u001b[49m\u001b[38;5;28;43minput\u001b[39;49m\u001b[43m,\u001b[49m\n\u001b[0;32m    154\u001b[0m \u001b[43m    \u001b[49m\u001b[43mconfig\u001b[49m\u001b[43m,\u001b[49m\n\u001b[0;32m    155\u001b[0m \u001b[43m    \u001b[49m\u001b[43mrun_type\u001b[49m\u001b[38;5;241;43m=\u001b[39;49m\u001b[38;5;124;43m\"\u001b[39;49m\u001b[38;5;124;43mprompt\u001b[39;49m\u001b[38;5;124;43m\"\u001b[39;49m\u001b[43m,\u001b[49m\n\u001b[0;32m    156\u001b[0m \u001b[43m\u001b[49m\u001b[43m)\u001b[49m\n",
      "File \u001b[1;32mc:\\Users\\ASUS\\anaconda3\\envs\\workEnv\\Lib\\site-packages\\langchain_core\\runnables\\base.py:1599\u001b[0m, in \u001b[0;36mRunnable._call_with_config\u001b[1;34m(self, func, input, config, run_type, **kwargs)\u001b[0m\n\u001b[0;32m   1595\u001b[0m     context \u001b[38;5;241m=\u001b[39m copy_context()\n\u001b[0;32m   1596\u001b[0m     context\u001b[38;5;241m.\u001b[39mrun(_set_config_context, child_config)\n\u001b[0;32m   1597\u001b[0m     output \u001b[38;5;241m=\u001b[39m cast(\n\u001b[0;32m   1598\u001b[0m         Output,\n\u001b[1;32m-> 1599\u001b[0m         \u001b[43mcontext\u001b[49m\u001b[38;5;241;43m.\u001b[39;49m\u001b[43mrun\u001b[49m\u001b[43m(\u001b[49m\n\u001b[0;32m   1600\u001b[0m \u001b[43m            \u001b[49m\u001b[43mcall_func_with_variable_args\u001b[49m\u001b[43m,\u001b[49m\u001b[43m  \u001b[49m\u001b[38;5;66;43;03m# type: ignore[arg-type]\u001b[39;49;00m\n\u001b[0;32m   1601\u001b[0m \u001b[43m            \u001b[49m\u001b[43mfunc\u001b[49m\u001b[43m,\u001b[49m\u001b[43m  \u001b[49m\u001b[38;5;66;43;03m# type: ignore[arg-type]\u001b[39;49;00m\n\u001b[0;32m   1602\u001b[0m \u001b[43m            \u001b[49m\u001b[38;5;28;43minput\u001b[39;49m\u001b[43m,\u001b[49m\u001b[43m  \u001b[49m\u001b[38;5;66;43;03m# type: ignore[arg-type]\u001b[39;49;00m\n\u001b[0;32m   1603\u001b[0m \u001b[43m            \u001b[49m\u001b[43mconfig\u001b[49m\u001b[43m,\u001b[49m\n\u001b[0;32m   1604\u001b[0m \u001b[43m            \u001b[49m\u001b[43mrun_manager\u001b[49m\u001b[43m,\u001b[49m\n\u001b[0;32m   1605\u001b[0m \u001b[43m            \u001b[49m\u001b[38;5;241;43m*\u001b[39;49m\u001b[38;5;241;43m*\u001b[39;49m\u001b[43mkwargs\u001b[49m\u001b[43m,\u001b[49m\n\u001b[0;32m   1606\u001b[0m \u001b[43m        \u001b[49m\u001b[43m)\u001b[49m,\n\u001b[0;32m   1607\u001b[0m     )\n\u001b[0;32m   1608\u001b[0m \u001b[38;5;28;01mexcept\u001b[39;00m \u001b[38;5;167;01mBaseException\u001b[39;00m \u001b[38;5;28;01mas\u001b[39;00m e:\n\u001b[0;32m   1609\u001b[0m     run_manager\u001b[38;5;241m.\u001b[39mon_chain_error(e)\n",
      "File \u001b[1;32mc:\\Users\\ASUS\\anaconda3\\envs\\workEnv\\Lib\\site-packages\\langchain_core\\runnables\\config.py:380\u001b[0m, in \u001b[0;36mcall_func_with_variable_args\u001b[1;34m(func, input, config, run_manager, **kwargs)\u001b[0m\n\u001b[0;32m    378\u001b[0m \u001b[38;5;28;01mif\u001b[39;00m run_manager \u001b[38;5;129;01mis\u001b[39;00m \u001b[38;5;129;01mnot\u001b[39;00m \u001b[38;5;28;01mNone\u001b[39;00m \u001b[38;5;129;01mand\u001b[39;00m accepts_run_manager(func):\n\u001b[0;32m    379\u001b[0m     kwargs[\u001b[38;5;124m\"\u001b[39m\u001b[38;5;124mrun_manager\u001b[39m\u001b[38;5;124m\"\u001b[39m] \u001b[38;5;241m=\u001b[39m run_manager\n\u001b[1;32m--> 380\u001b[0m \u001b[38;5;28;01mreturn\u001b[39;00m \u001b[43mfunc\u001b[49m\u001b[43m(\u001b[49m\u001b[38;5;28;43minput\u001b[39;49m\u001b[43m,\u001b[49m\u001b[43m \u001b[49m\u001b[38;5;241;43m*\u001b[39;49m\u001b[38;5;241;43m*\u001b[39;49m\u001b[43mkwargs\u001b[49m\u001b[43m)\u001b[49m\n",
      "File \u001b[1;32mc:\\Users\\ASUS\\anaconda3\\envs\\workEnv\\Lib\\site-packages\\langchain_core\\prompts\\base.py:135\u001b[0m, in \u001b[0;36mBasePromptTemplate._format_prompt_with_error_handling\u001b[1;34m(self, inner_input)\u001b[0m\n\u001b[0;32m    133\u001b[0m \u001b[38;5;28;01mdef\u001b[39;00m \u001b[38;5;21m_format_prompt_with_error_handling\u001b[39m(\u001b[38;5;28mself\u001b[39m, inner_input: Dict) \u001b[38;5;241m-\u001b[39m\u001b[38;5;241m>\u001b[39m PromptValue:\n\u001b[0;32m    134\u001b[0m     _inner_input \u001b[38;5;241m=\u001b[39m \u001b[38;5;28mself\u001b[39m\u001b[38;5;241m.\u001b[39m_validate_input(inner_input)\n\u001b[1;32m--> 135\u001b[0m     \u001b[38;5;28;01mreturn\u001b[39;00m \u001b[38;5;28;43mself\u001b[39;49m\u001b[38;5;241;43m.\u001b[39;49m\u001b[43mformat_prompt\u001b[49m\u001b[43m(\u001b[49m\u001b[38;5;241;43m*\u001b[39;49m\u001b[38;5;241;43m*\u001b[39;49m\u001b[43m_inner_input\u001b[49m\u001b[43m)\u001b[49m\n",
      "File \u001b[1;32mc:\\Users\\ASUS\\anaconda3\\envs\\workEnv\\Lib\\site-packages\\langchain_core\\prompts\\chat.py:699\u001b[0m, in \u001b[0;36mBaseChatPromptTemplate.format_prompt\u001b[1;34m(self, **kwargs)\u001b[0m\n\u001b[0;32m    690\u001b[0m \u001b[38;5;28;01mdef\u001b[39;00m \u001b[38;5;21mformat_prompt\u001b[39m(\u001b[38;5;28mself\u001b[39m, \u001b[38;5;241m*\u001b[39m\u001b[38;5;241m*\u001b[39mkwargs: Any) \u001b[38;5;241m-\u001b[39m\u001b[38;5;241m>\u001b[39m PromptValue:\n\u001b[0;32m    691\u001b[0m \u001b[38;5;250m    \u001b[39m\u001b[38;5;124;03m\"\"\"\u001b[39;00m\n\u001b[0;32m    692\u001b[0m \u001b[38;5;124;03m    Format prompt. Should return a PromptValue.\u001b[39;00m\n\u001b[0;32m    693\u001b[0m \u001b[38;5;124;03m    Args:\u001b[39;00m\n\u001b[1;32m   (...)\u001b[0m\n\u001b[0;32m    697\u001b[0m \u001b[38;5;124;03m        PromptValue.\u001b[39;00m\n\u001b[0;32m    698\u001b[0m \u001b[38;5;124;03m    \"\"\"\u001b[39;00m\n\u001b[1;32m--> 699\u001b[0m     messages \u001b[38;5;241m=\u001b[39m \u001b[38;5;28;43mself\u001b[39;49m\u001b[38;5;241;43m.\u001b[39;49m\u001b[43mformat_messages\u001b[49m\u001b[43m(\u001b[49m\u001b[38;5;241;43m*\u001b[39;49m\u001b[38;5;241;43m*\u001b[39;49m\u001b[43mkwargs\u001b[49m\u001b[43m)\u001b[49m\n\u001b[0;32m    700\u001b[0m     \u001b[38;5;28;01mreturn\u001b[39;00m ChatPromptValue(messages\u001b[38;5;241m=\u001b[39mmessages)\n",
      "File \u001b[1;32mc:\\Users\\ASUS\\anaconda3\\envs\\workEnv\\Lib\\site-packages\\langchain_core\\prompts\\chat.py:1042\u001b[0m, in \u001b[0;36mChatPromptTemplate.format_messages\u001b[1;34m(self, **kwargs)\u001b[0m\n\u001b[0;32m   1038\u001b[0m     result\u001b[38;5;241m.\u001b[39mextend([message_template])\n\u001b[0;32m   1039\u001b[0m \u001b[38;5;28;01melif\u001b[39;00m \u001b[38;5;28misinstance\u001b[39m(\n\u001b[0;32m   1040\u001b[0m     message_template, (BaseMessagePromptTemplate, BaseChatPromptTemplate)\n\u001b[0;32m   1041\u001b[0m ):\n\u001b[1;32m-> 1042\u001b[0m     message \u001b[38;5;241m=\u001b[39m \u001b[43mmessage_template\u001b[49m\u001b[38;5;241;43m.\u001b[39;49m\u001b[43mformat_messages\u001b[49m\u001b[43m(\u001b[49m\u001b[38;5;241;43m*\u001b[39;49m\u001b[38;5;241;43m*\u001b[39;49m\u001b[43mkwargs\u001b[49m\u001b[43m)\u001b[49m\n\u001b[0;32m   1043\u001b[0m     result\u001b[38;5;241m.\u001b[39mextend(message)\n\u001b[0;32m   1044\u001b[0m \u001b[38;5;28;01melse\u001b[39;00m:\n",
      "File \u001b[1;32mc:\\Users\\ASUS\\anaconda3\\envs\\workEnv\\Lib\\site-packages\\langchain_core\\prompts\\chat.py:218\u001b[0m, in \u001b[0;36mMessagesPlaceholder.format_messages\u001b[1;34m(self, **kwargs)\u001b[0m\n\u001b[0;32m    212\u001b[0m value \u001b[38;5;241m=\u001b[39m (\n\u001b[0;32m    213\u001b[0m     kwargs\u001b[38;5;241m.\u001b[39mget(\u001b[38;5;28mself\u001b[39m\u001b[38;5;241m.\u001b[39mvariable_name, [])\n\u001b[0;32m    214\u001b[0m     \u001b[38;5;28;01mif\u001b[39;00m \u001b[38;5;28mself\u001b[39m\u001b[38;5;241m.\u001b[39moptional\n\u001b[0;32m    215\u001b[0m     \u001b[38;5;28;01melse\u001b[39;00m kwargs[\u001b[38;5;28mself\u001b[39m\u001b[38;5;241m.\u001b[39mvariable_name]\n\u001b[0;32m    216\u001b[0m )\n\u001b[0;32m    217\u001b[0m \u001b[38;5;28;01mif\u001b[39;00m \u001b[38;5;129;01mnot\u001b[39;00m \u001b[38;5;28misinstance\u001b[39m(value, \u001b[38;5;28mlist\u001b[39m):\n\u001b[1;32m--> 218\u001b[0m     \u001b[38;5;28;01mraise\u001b[39;00m \u001b[38;5;167;01mValueError\u001b[39;00m(\n\u001b[0;32m    219\u001b[0m         \u001b[38;5;124mf\u001b[39m\u001b[38;5;124m\"\u001b[39m\u001b[38;5;124mvariable \u001b[39m\u001b[38;5;132;01m{\u001b[39;00m\u001b[38;5;28mself\u001b[39m\u001b[38;5;241m.\u001b[39mvariable_name\u001b[38;5;132;01m}\u001b[39;00m\u001b[38;5;124m should be a list of base messages, \u001b[39m\u001b[38;5;124m\"\u001b[39m\n\u001b[0;32m    220\u001b[0m         \u001b[38;5;124mf\u001b[39m\u001b[38;5;124m\"\u001b[39m\u001b[38;5;124mgot \u001b[39m\u001b[38;5;132;01m{\u001b[39;00mvalue\u001b[38;5;132;01m}\u001b[39;00m\u001b[38;5;124m\"\u001b[39m\n\u001b[0;32m    221\u001b[0m     )\n\u001b[0;32m    222\u001b[0m value \u001b[38;5;241m=\u001b[39m convert_to_messages(value)\n\u001b[0;32m    223\u001b[0m \u001b[38;5;28;01mif\u001b[39;00m \u001b[38;5;28mself\u001b[39m\u001b[38;5;241m.\u001b[39mn_messages:\n",
      "\u001b[1;31mValueError\u001b[0m: variable agent_scratchpad should be a list of base messages, got None"
     ]
    }
   ],
   "source": [
    "# from langchain.schema.runnable import RunnablePassthrough\n",
    "# agent_chain = RunnablePassthrough.assign(\n",
    "#     agent_scratchpad = lambda x: print(type(x))\n",
    "# ) | chain\n",
    "\n",
    "# def run_agent(user_input):\n",
    "#     intermediate_steps = []\n",
    "#     while True:\n",
    "#         print(f\"This is intermediate steps: {intermediate_steps}\")\n",
    "#         result = agent_chain.invoke({ # 修改這裡\n",
    "#             \"input\" : user_input,\n",
    "#             \"agent_scratchpad\" : intermediate_steps # 修改這裡\n",
    "#         })\n",
    "#         if isinstance(result, AgentFinish):\n",
    "#             return result\n",
    "#         tool = {\n",
    "#             \"plus_tool\" : plus_tool,\n",
    "#             \"minus_tool\": minus_tool\n",
    "#         }[result[0].tool]\n",
    "#         observation = tool.run(result[0].tool_input)\n",
    "#         print(f\"This is observation: {observation}\")\n",
    "#         intermediate_steps.append((result[0], observation))\n",
    "\n",
    "# run_agent(\"what is 3 minus 1?\")"
   ]
  },
  {
   "cell_type": "code",
   "execution_count": 221,
   "metadata": {},
   "outputs": [],
   "source": [
    "from langchain.memory import ConversationBufferMemory\n",
    "from langchain.agents import AgentExecutor\n",
    "memory = ConversationBufferMemory(return_messages=True,memory_key=\"chat_history\")"
   ]
  },
  {
   "cell_type": "code",
   "execution_count": 240,
   "metadata": {},
   "outputs": [],
   "source": [
    "prompt = {\n",
    "            \"input\": lambda x: x[\"input\"],\n",
    "            \"agent_scratchpad\": (\n",
    "                lambda x: format_to_tool_messages(x[\"intermediate_steps\"])\n",
    "            ),\n",
    "        } | ChatPromptTemplate.from_messages([\n",
    "            (\"user\", \"{input}\"),\n",
    "            MessagesPlaceholder(variable_name=\"agent_scratchpad\"),\n",
    "        ])\n",
    "\n",
    "new_chain = prompt | model_with_tools | ToolsAgentOutputParser()\n",
    "agent_executor = AgentExecutor(agent=new_chain, tools=tools, verbose=True, memory=memory)"
   ]
  },
  {
   "cell_type": "code",
   "execution_count": 242,
   "metadata": {},
   "outputs": [
    {
     "name": "stdout",
     "output_type": "stream",
     "text": [
      "\n",
      "\n",
      "\u001b[1m> Entering new AgentExecutor chain...\u001b[0m\n",
      "\u001b[32;1m\u001b[1;3m\n",
      "Invoking: `minus_tool` with `{'a': 3, 'b': 2}`\n",
      "\n",
      "\n",
      "\u001b[0m\u001b[33;1m\u001b[1;3m3 - 2 is 1\u001b[0m\u001b[32;1m\u001b[1;3mThe answer is 1.\u001b[0m\n",
      "\n",
      "\u001b[1m> Finished chain.\u001b[0m\n"
     ]
    },
    {
     "data": {
      "text/plain": [
       "{'input': \"what's 3 minus 2?\",\n",
       " 'chat_history': [HumanMessage(content=\"what's 3 minus 2?\"),\n",
       "  AIMessage(content='<tool-use>{\"tool_calls\": []}</tool-use>'),\n",
       "  HumanMessage(content=\"what's 3 minus 2?\"),\n",
       "  AIMessage(content='The answer is 1.')],\n",
       " 'output': 'The answer is 1.'}"
      ]
     },
     "execution_count": 242,
     "metadata": {},
     "output_type": "execute_result"
    }
   ],
   "source": [
    "agent_executor.invoke({\"input\": \"what's 3 minus 2?\"})"
   ]
  },
  {
   "cell_type": "code",
   "execution_count": 251,
   "metadata": {},
   "outputs": [
    {
     "name": "stdout",
     "output_type": "stream",
     "text": [
      "\n",
      "\n",
      "\u001b[1m> Entering new AgentExecutor chain...\u001b[0m\n",
      "\u001b[32;1m\u001b[1;3mYour name is Leo.\u001b[0m\n",
      "\n",
      "\u001b[1m> Finished chain.\u001b[0m\n"
     ]
    },
    {
     "data": {
      "text/plain": [
       "{'input': \"my name is Leo, so what's my name?\",\n",
       " 'chat_history': [HumanMessage(content=\"what's 3 minus 2?\"),\n",
       "  AIMessage(content='<tool-use>{\"tool_calls\": []}</tool-use>'),\n",
       "  HumanMessage(content=\"what's 3 minus 2?\"),\n",
       "  AIMessage(content='The answer is 1.'),\n",
       "  HumanMessage(content='my name is leo'),\n",
       "  AIMessage(content='<tool-use>{\"tool_calls\": []}</tool-use>'),\n",
       "  HumanMessage(content=\"what's my name?\"),\n",
       "  AIMessage(content=\"I don't know your name.\"),\n",
       "  HumanMessage(content='hi, my name is leo'),\n",
       "  AIMessage(content=\"Hi Leo! It's nice to meet you.\"),\n",
       "  HumanMessage(content=\"what's my name?\"),\n",
       "  AIMessage(content=\"I don't know your name.\"),\n",
       "  HumanMessage(content=\"my name is Leo, so what's my name?\"),\n",
       "  AIMessage(content='Your name is Leo.')],\n",
       " 'output': 'Your name is Leo.'}"
      ]
     },
     "execution_count": 251,
     "metadata": {},
     "output_type": "execute_result"
    }
   ],
   "source": [
    "agent_executor.invoke({\"input\": \"my name is Leo, so what's my name?\"})"
   ]
  }
 ],
 "metadata": {
  "kernelspec": {
   "display_name": "workEnv",
   "language": "python",
   "name": "python3"
  },
  "language_info": {
   "codemirror_mode": {
    "name": "ipython",
    "version": 3
   },
   "file_extension": ".py",
   "mimetype": "text/x-python",
   "name": "python",
   "nbconvert_exporter": "python",
   "pygments_lexer": "ipython3",
   "version": "3.11.3"
  }
 },
 "nbformat": 4,
 "nbformat_minor": 2
}
